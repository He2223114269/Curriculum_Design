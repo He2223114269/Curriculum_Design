{
 "cells": [
  {
   "cell_type": "markdown",
   "id": "c661e375",
   "metadata": {},
   "source": [
    "# 爬取酷狗热门歌曲前500首的名称，歌手，时长"
   ]
  },
  {
   "cell_type": "markdown",
   "id": "a6fc9fdd",
   "metadata": {},
   "source": [
    "环境：\n",
    "Python3（Anaconda3）\n",
    "Jupyter notebook\n",
    "Edge浏览器\n",
    "\n",
    "主要模块：\n",
    "BeautifulSoup\n",
    "requests\n",
    "time\n",
    "\n",
    "申明代码不是我原创内容，而是参考了CSDN莫莫先生的爬虫五十个实战教学，并加上了自己的理解，修改和维护，作为自己的学习资料"
   ]
  },
  {
   "cell_type": "markdown",
   "id": "54e8a5bb",
   "metadata": {},
   "source": [
    "# TOP500 首页\n",
    "https://www.kugou.com/yy/rank/home/1-8888.html?from=rank\n"
   ]
  },
  {
   "cell_type": "markdown",
   "id": "876d6a91",
   "metadata": {},
   "source": [
    "需要安装的第三方库\n",
    "##### pip install BeautifulSoup\n",
    "##### pip install requests\n",
    "##### pip install lxml"
   ]
  },
  {
   "cell_type": "markdown",
   "id": "65be338d",
   "metadata": {},
   "source": [
    "### 解决多个DataFrame对象合成问题"
   ]
  },
  {
   "cell_type": "code",
   "execution_count": 1,
   "id": "e6bd8f40",
   "metadata": {},
   "outputs": [
    {
     "name": "stdout",
     "output_type": "stream",
     "text": [
      "   a  b  c\n",
      "0  1  2  3\n",
      "   a  b  c\n",
      "0  1  2  3\n",
      "   a  b  c\n",
      "0  1  2  3\n",
      "   a  b  c\n",
      "0  1  2  3\n"
     ]
    }
   ],
   "source": [
    "import pandas as pd\n",
    "\n",
    "#方法一：直接在创建DataFrame时设置index即可\n",
    "dict = {'a':1,'b':2,'c':3}\n",
    "data = pd.DataFrame(dict,index=[0])\n",
    "print(data)\n",
    "\n",
    "#方法二：通过from_dict函数将value为标称变量的字典转换为DataFrame对象\n",
    "dict = {'a':1,'b':2,'c':3}\n",
    "pd.DataFrame.from_dict(dict,orient='index').T\n",
    "print(data)\n",
    "\n",
    "#方法三：输入字典时不要让Value为标称属性，把Value转换为list对象再传入即可\n",
    "dict = {'a':[1],'b':[2],'c':[3]}\n",
    "data = pd.DataFrame(dict)\n",
    "print(data)\n",
    "\n",
    "#方法四：直接将key和value取出来，都转换成list对象\n",
    "dict = {'a':1,'b':2,'c':3}\n",
    "pd.DataFrame(list(dict.items()))\n",
    "print(data)"
   ]
  },
  {
   "cell_type": "markdown",
   "id": "b0099fff",
   "metadata": {},
   "source": [
    "# 爬虫代码以及数据存储"
   ]
  },
  {
   "cell_type": "code",
   "execution_count": 2,
   "id": "0d363259",
   "metadata": {
    "scrolled": true
   },
   "outputs": [
    {
     "ename": "FeatureNotFound",
     "evalue": "Couldn't find a tree builder with the features you requested: lxml. Do you need to install a parser library?",
     "output_type": "error",
     "traceback": [
      "\u001B[1;31m---------------------------------------------------------------------------\u001B[0m",
      "\u001B[1;31mFeatureNotFound\u001B[0m                           Traceback (most recent call last)",
      "\u001B[1;32m~\\AppData\\Local\\Temp\\ipykernel_25664\\2644067262.py\u001B[0m in \u001B[0;36m<module>\u001B[1;34m\u001B[0m\n\u001B[0;32m     44\u001B[0m     \u001B[0murls\u001B[0m \u001B[1;33m=\u001B[0m \u001B[1;33m[\u001B[0m\u001B[1;34m'http://www.kugou.com/yy/rank/home/{}-8888.html'\u001B[0m\u001B[1;33m.\u001B[0m\u001B[0mformat\u001B[0m\u001B[1;33m(\u001B[0m\u001B[0mstr\u001B[0m\u001B[1;33m(\u001B[0m\u001B[0mi\u001B[0m\u001B[1;33m)\u001B[0m\u001B[1;33m)\u001B[0m \u001B[1;32mfor\u001B[0m \u001B[0mi\u001B[0m \u001B[1;32min\u001B[0m \u001B[0mrange\u001B[0m\u001B[1;33m(\u001B[0m\u001B[1;36m1\u001B[0m\u001B[1;33m,\u001B[0m\u001B[1;36m24\u001B[0m\u001B[1;33m)\u001B[0m\u001B[1;33m]\u001B[0m\u001B[1;33m\u001B[0m\u001B[1;33m\u001B[0m\u001B[0m\n\u001B[0;32m     45\u001B[0m     \u001B[1;32mfor\u001B[0m \u001B[0murl\u001B[0m \u001B[1;32min\u001B[0m \u001B[0murls\u001B[0m\u001B[1;33m:\u001B[0m\u001B[1;33m\u001B[0m\u001B[1;33m\u001B[0m\u001B[0m\n\u001B[1;32m---> 46\u001B[1;33m         \u001B[0mData\u001B[0m \u001B[1;33m=\u001B[0m \u001B[0mpd\u001B[0m\u001B[1;33m.\u001B[0m\u001B[0mconcat\u001B[0m\u001B[1;33m(\u001B[0m\u001B[1;33m[\u001B[0m\u001B[0mData\u001B[0m\u001B[1;33m,\u001B[0m\u001B[0mget_info\u001B[0m\u001B[1;33m(\u001B[0m\u001B[0murl\u001B[0m\u001B[1;33m)\u001B[0m\u001B[1;33m]\u001B[0m\u001B[1;33m,\u001B[0m\u001B[0maxis\u001B[0m\u001B[1;33m=\u001B[0m\u001B[1;36m0\u001B[0m\u001B[1;33m)\u001B[0m\u001B[1;31m# 循环调用get_info()函数\u001B[0m\u001B[1;33m\u001B[0m\u001B[1;33m\u001B[0m\u001B[0m\n\u001B[0m\u001B[0;32m     47\u001B[0m         \u001B[0mtime\u001B[0m\u001B[1;33m.\u001B[0m\u001B[0msleep\u001B[0m\u001B[1;33m(\u001B[0m\u001B[1;36m1\u001B[0m\u001B[1;33m)\u001B[0m  \u001B[1;31m# 睡眠1秒\u001B[0m\u001B[1;33m\u001B[0m\u001B[1;33m\u001B[0m\u001B[0m\n\u001B[0;32m     48\u001B[0m     \u001B[0mprint\u001B[0m\u001B[1;33m(\u001B[0m\u001B[0mData\u001B[0m\u001B[1;33m)\u001B[0m\u001B[1;33m\u001B[0m\u001B[1;33m\u001B[0m\u001B[0m\n",
      "\u001B[1;32m~\\AppData\\Local\\Temp\\ipykernel_25664\\2644067262.py\u001B[0m in \u001B[0;36mget_info\u001B[1;34m(url)\u001B[0m\n\u001B[0;32m     22\u001B[0m     \u001B[0mwb_data\u001B[0m \u001B[1;33m=\u001B[0m \u001B[0mrequests\u001B[0m\u001B[1;33m.\u001B[0m\u001B[0mget\u001B[0m\u001B[1;33m(\u001B[0m\u001B[0murl\u001B[0m\u001B[1;33m=\u001B[0m\u001B[0murl\u001B[0m\u001B[1;33m,\u001B[0m \u001B[0mheaders\u001B[0m\u001B[1;33m=\u001B[0m\u001B[0mheaders\u001B[0m\u001B[1;33m)\u001B[0m\u001B[1;33m\u001B[0m\u001B[1;33m\u001B[0m\u001B[0m\n\u001B[0;32m     23\u001B[0m \u001B[1;33m\u001B[0m\u001B[0m\n\u001B[1;32m---> 24\u001B[1;33m     \u001B[0msoup\u001B[0m \u001B[1;33m=\u001B[0m \u001B[0mBeautifulSoup\u001B[0m\u001B[1;33m(\u001B[0m\u001B[0mwb_data\u001B[0m\u001B[1;33m.\u001B[0m\u001B[0mtext\u001B[0m\u001B[1;33m,\u001B[0m \u001B[1;34m'lxml'\u001B[0m\u001B[1;33m)\u001B[0m\u001B[1;33m\u001B[0m\u001B[1;33m\u001B[0m\u001B[0m\n\u001B[0m\u001B[0;32m     25\u001B[0m     \u001B[0mranks\u001B[0m \u001B[1;33m=\u001B[0m \u001B[0msoup\u001B[0m\u001B[1;33m.\u001B[0m\u001B[0mselect\u001B[0m\u001B[1;33m(\u001B[0m\u001B[1;34m'span.pc_temp_num'\u001B[0m\u001B[1;33m)\u001B[0m  \u001B[1;31m# 排行\u001B[0m\u001B[1;33m\u001B[0m\u001B[1;33m\u001B[0m\u001B[0m\n\u001B[0;32m     26\u001B[0m     \u001B[0mtitles\u001B[0m \u001B[1;33m=\u001B[0m \u001B[0msoup\u001B[0m\u001B[1;33m.\u001B[0m\u001B[0mselect\u001B[0m\u001B[1;33m(\u001B[0m\u001B[1;34m'div.pc_temp_songlist > ul > li > a'\u001B[0m\u001B[1;33m)\u001B[0m  \u001B[1;31m# 歌手名和歌曲名\u001B[0m\u001B[1;33m\u001B[0m\u001B[1;33m\u001B[0m\u001B[0m\n",
      "\u001B[1;32md:\\programming\\python\\python_3.7.2\\lib\\site-packages\\bs4\\__init__.py\u001B[0m in \u001B[0;36m__init__\u001B[1;34m(self, markup, features, builder, parse_only, from_encoding, exclude_encodings, element_classes, **kwargs)\u001B[0m\n\u001B[0;32m    249\u001B[0m                     \u001B[1;34m\"Couldn't find a tree builder with the features you \"\u001B[0m\u001B[1;33m\u001B[0m\u001B[1;33m\u001B[0m\u001B[0m\n\u001B[0;32m    250\u001B[0m                     \u001B[1;34m\"requested: %s. Do you need to install a parser library?\"\u001B[0m\u001B[1;33m\u001B[0m\u001B[1;33m\u001B[0m\u001B[0m\n\u001B[1;32m--> 251\u001B[1;33m                     % \",\".join(features))\n\u001B[0m\u001B[0;32m    252\u001B[0m \u001B[1;33m\u001B[0m\u001B[0m\n\u001B[0;32m    253\u001B[0m         \u001B[1;31m# At this point either we have a TreeBuilder instance in\u001B[0m\u001B[1;33m\u001B[0m\u001B[1;33m\u001B[0m\u001B[1;33m\u001B[0m\u001B[0m\n",
      "\u001B[1;31mFeatureNotFound\u001B[0m: Couldn't find a tree builder with the features you requested: lxml. Do you need to install a parser library?"
     ]
    }
   ],
   "source": [
    "#!/usr/bin/env python\n",
    "# -*- coding: utf-8 -*-\n",
    "\n",
    "# 导入相应的库文件\n",
    "import requests\n",
    "from bs4 import BeautifulSoup\n",
    "import time\n",
    "import pandas as pd\n",
    "import numpy as np\n",
    "\n",
    "\n",
    "\n",
    "# 加入请求头\n",
    "headers = {\n",
    "   'User-Agent':'Mozilla/5.0 (Windows NT 6.1; WOW64) AppleWebKit/537.36 '\n",
    "                '(KHTML, like Gecko) Chrome/56.0.2924.87 Safari/537.36'\n",
    "}\n",
    "\n",
    "\n",
    "# 定义获取信息的函数\n",
    "def get_info(url):\n",
    "    wb_data = requests.get(url=url, headers=headers)\n",
    "\n",
    "    soup = BeautifulSoup(wb_data.text, 'lxml')\n",
    "    ranks = soup.select('span.pc_temp_num')  # 排行\n",
    "    titles = soup.select('div.pc_temp_songlist > ul > li > a')  # 歌手名和歌曲名\n",
    "    times = soup.select('span.pc_temp_tips_r > span')  # 歌曲时长\n",
    "    Data = pd.DataFrame()\n",
    "    for rank, title, time in zip(ranks, titles, times):\n",
    "        data = {\n",
    "        'rank': rank.get_text().strip(),\n",
    "        'song': title.get_text().split('-')[0].replace('\\t','').replace('\\n',''),\n",
    "        'singer': title.get_text().split('-')[1].replace('\\n',''),  # 通过split获取歌手和歌曲信息\n",
    "        'time': time.get_text().strip()\n",
    "        }\n",
    "        Da = pd.DataFrame(data,index=[0])\n",
    "        Data = pd.concat([Data,Da],axis=0)\n",
    "#         print(data)  # 获取爬虫信息并按字典格式打印\n",
    "    return Data\n",
    "# 程序主入口\n",
    "if __name__ == '__main__':\n",
    "    Data = pd.DataFrame()\n",
    "    # 构造多页URL\n",
    "    urls = ['http://www.kugou.com/yy/rank/home/{}-8888.html'.format(str(i)) for i in range(1,24)]\n",
    "    for url in urls:\n",
    "        Data = pd.concat([Data,get_info(url)],axis=0)# 循环调用get_info()函数\n",
    "        time.sleep(1)  # 睡眠1秒\n",
    "    print(Data)\n",
    "    Data.to_excel(\"酷狗热门歌曲500首数据.xlsx\")"
   ]
  },
  {
   "cell_type": "markdown",
   "id": "98e9a657",
   "metadata": {},
   "source": [
    "# 数据分析可视化"
   ]
  },
  {
   "cell_type": "code",
   "execution_count": null,
   "id": "d84f0004",
   "metadata": {},
   "outputs": [],
   "source": [
    "import matplotlib as plt"
   ]
  },
  {
   "cell_type": "code",
   "execution_count": null,
   "id": "6b08c6bb",
   "metadata": {
    "scrolled": false
   },
   "outputs": [],
   "source": [
    "name = Data[singer]"
   ]
  }
 ],
 "metadata": {
  "kernelspec": {
   "display_name": "Python 3 (ipykernel)",
   "language": "python",
   "name": "python3"
  },
  "language_info": {
   "codemirror_mode": {
    "name": "ipython",
    "version": 3
   },
   "file_extension": ".py",
   "mimetype": "text/x-python",
   "name": "python",
   "nbconvert_exporter": "python",
   "pygments_lexer": "ipython3",
   "version": "3.9.10"
  }
 },
 "nbformat": 4,
 "nbformat_minor": 5
}