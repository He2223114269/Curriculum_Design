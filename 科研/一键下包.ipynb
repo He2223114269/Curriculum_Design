{
 "cells": [
  {
   "cell_type": "code",
   "execution_count": 1,
   "id": "428dadd2",
   "metadata": {},
   "outputs": [
    {
     "name": "stdout",
     "output_type": "stream",
     "text": [
      "pip 24.0 from C:\\Users\\22231\\AppData\\Local\\Programs\\Python\\Python37\\lib\\site-packages\\pip (python 3.7)\n",
      "\n"
     ]
    }
   ],
   "source": [
    "!pip --version"
   ]
  },
  {
   "cell_type": "code",
   "execution_count": 1,
   "id": "d34e1fd0",
   "metadata": {},
   "outputs": [
    {
     "name": "stdout",
     "output_type": "stream",
     "text": [
      "Libraries are being installed …\n",
      "All libraries have been installed successfully\n"
     ]
    }
   ],
   "source": [
    "import os\n",
    "libs = (\"docopt\", \"jieba\", \"network\", \"pillow\", \\\n",
    "    \"pyinstaller\", \"pyopengl\", \"pypdf2\", \"requests\", \\\n",
    "    \"sklearn\",  \"sympy\", \"werobot\", \"wheel\")\n",
    "print(\"Libraries are being installed …\")\n",
    "try:\n",
    "    for lib in libs:\n",
    "        \n",
    "        \n",
    "        os.system(f\"pip3 install {lib} 1>NULL\")\n",
    "    print(\"All libraries have been installed successfully\")\n",
    "except:\n",
    "    print(\"Something wrong\")"
   ]
  },
  {
   "cell_type": "code",
   "execution_count": null,
   "id": "27dabdc9",
   "metadata": {},
   "outputs": [],
   "source": []
  },
  {
   "cell_type": "code",
   "execution_count": null,
   "id": "d9e0d57b",
   "metadata": {},
   "outputs": [],
   "source": []
  }
 ],
 "metadata": {
  "kernelspec": {
   "display_name": "Python 3 (ipykernel)",
   "language": "python",
   "name": "python3"
  },
  "language_info": {
   "codemirror_mode": {
    "name": "ipython",
    "version": 3
   },
   "file_extension": ".py",
   "mimetype": "text/x-python",
   "name": "python",
   "nbconvert_exporter": "python",
   "pygments_lexer": "ipython3",
   "version": "3.11.2"
  }
 },
 "nbformat": 4,
 "nbformat_minor": 5
}
