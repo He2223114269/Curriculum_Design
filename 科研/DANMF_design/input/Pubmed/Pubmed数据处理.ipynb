{
 "cells": [
  {
   "cell_type": "code",
   "id": "initial_id",
   "metadata": {
    "collapsed": true,
    "ExecuteTime": {
     "end_time": "2025-04-30T05:42:26.218470Z",
     "start_time": "2025-04-30T05:42:24.273750Z"
    }
   },
   "source": [
    "import csv\n",
    "import re\n",
    "from sklearn.preprocessing import LabelEncoder\n",
    "\n",
    "# 文件路径\n",
    "node_file = 'Pubmed-Diabetes.NODE.paper.tab'\n",
    "edge_file = 'Pubmed-Diabetes.DIRECTED.cites.tab'\n",
    "\n",
    "# 读取节点和标签\n",
    "paper_ids = []\n",
    "labels = []\n",
    "\n",
    "with open(node_file, 'r', encoding='utf-8') as f:\n",
    "    lines = f.readlines()[2:]  # 跳过前两行说明\n",
    "    for line in lines:\n",
    "        parts = line.strip().split('\\t')\n",
    "        paper_id = parts[0].strip()\n",
    "        label_match = re.search(r'cat=(\\d)', parts[1])\n",
    "        if label_match:\n",
    "            label = int(label_match.group(1))\n",
    "            paper_ids.append(paper_id)\n",
    "            labels.append(label)\n",
    "\n",
    "# 创建映射和编码\n",
    "paper_id_to_idx = {pid: idx for idx, pid in enumerate(paper_ids)}\n",
    "encoded_labels = LabelEncoder().fit_transform(labels)\n",
    "\n",
    "# 保存 label 到 CSV\n",
    "with open('pubmed-labels.csv', 'w', newline='', encoding='utf-8') as f:\n",
    "    writer = csv.writer(f)\n",
    "    writer.writerow(['node_id', 'label'])\n",
    "    for idx, label in enumerate(encoded_labels):\n",
    "        writer.writerow([idx, label])\n",
    "\n",
    "# 读取边并保存为 CSV\n",
    "with open('pubmed.csv', 'w', newline='', encoding='utf-8') as f_out:\n",
    "    writer = csv.writer(f_out)\n",
    "    writer.writerow(['source', 'target'])\n",
    "    with open(edge_file, 'r', encoding='utf-8') as f_in:\n",
    "        lines = f_in.readlines()[2:]  # 跳过前两行\n",
    "        for line in lines:\n",
    "            parts = line.strip().split('\\t')\n",
    "            if len(parts) != 2:\n",
    "                continue\n",
    "            src_match = re.search(r'paper:(\\d+)', parts[0])\n",
    "            dst_match = re.search(r'paper:(\\d+)', parts[1])\n",
    "            if src_match and dst_match:\n",
    "                src_id, dst_id = src_match.group(1), dst_match.group(1)\n",
    "                if src_id in paper_id_to_idx and dst_id in paper_id_to_idx:\n",
    "                    writer.writerow([paper_id_to_idx[src_id], paper_id_to_idx[dst_id]])\n",
    "\n",
    "print(\"CSV 文件保存成功：pubmed_labels.csv 和 pubmed_edges.csv\")\n"
   ],
   "outputs": [
    {
     "name": "stdout",
     "output_type": "stream",
     "text": [
      "CSV 文件保存成功：pubmed_labels.csv 和 pubmed_edges.csv\n"
     ]
    }
   ],
   "execution_count": 1
  },
  {
   "metadata": {},
   "cell_type": "code",
   "outputs": [],
   "execution_count": null,
   "source": "",
   "id": "7986130c46c88f1d"
  }
 ],
 "metadata": {
  "kernelspec": {
   "display_name": "Python 3",
   "language": "python",
   "name": "python3"
  },
  "language_info": {
   "codemirror_mode": {
    "name": "ipython",
    "version": 2
   },
   "file_extension": ".py",
   "mimetype": "text/x-python",
   "name": "python",
   "nbconvert_exporter": "python",
   "pygments_lexer": "ipython2",
   "version": "2.7.6"
  }
 },
 "nbformat": 4,
 "nbformat_minor": 5
}
