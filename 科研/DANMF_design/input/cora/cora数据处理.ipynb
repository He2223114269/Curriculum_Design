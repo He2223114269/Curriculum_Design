{
 "cells": [
  {
   "metadata": {
    "ExecuteTime": {
     "end_time": "2025-05-04T08:59:45.205377Z",
     "start_time": "2025-05-04T08:59:45.105699Z"
    }
   },
   "cell_type": "code",
   "source": [
    "import csv\n",
    "\n",
    "# 1. 导出边集合\n",
    "with open('cora.cites', 'r') as f_in, open('cora.csv', 'w', newline='') as f_out:\n",
    "    writer = csv.writer(f_out)\n",
    "    writer.writerow(['from', 'to'])  # 表头\n",
    "    for line in f_in:\n",
    "        src, dst = line.strip().split()\n",
    "        writer.writerow([src, dst])\n",
    "\n",
    "# 2. 导出真实标签\n",
    "\n",
    "# 收集所有标签并建立映射\n",
    "label_set = set()\n",
    "node_label_pairs = []\n",
    "\n",
    "with open('cora.content', 'r') as f_in:\n",
    "    for line in f_in:\n",
    "        parts = line.strip().split()\n",
    "        node_id = parts[0]\n",
    "        label = parts[-1]\n",
    "        node_label_pairs.append((node_id, label))\n",
    "        label_set.add(label)\n",
    "\n",
    "# 创建类别到数字的映射\n",
    "label_to_id = {label: idx for idx, label in enumerate(sorted(label_set))}\n",
    "\n",
    "# 写入 labels.csv（数字编码）\n",
    "with open('cora-labels.csv', 'w', newline='') as f_out:\n",
    "    writer = csv.writer(f_out)\n",
    "    writer.writerow(['node', 'label'])  # 表头\n",
    "    for node_id, label in node_label_pairs:\n",
    "        writer.writerow([node_id, label_to_id[label]])\n"
   ],
   "id": "188c61ab00399fa",
   "outputs": [],
   "execution_count": 1
  },
  {
   "metadata": {
    "ExecuteTime": {
     "end_time": "2025-05-04T09:03:00.920153Z",
     "start_time": "2025-05-04T09:03:00.808155Z"
    }
   },
   "cell_type": "code",
   "source": [
    "import csv\n",
    "\n",
    "# 1. 收集所有节点ID\n",
    "node_set = set()\n",
    "\n",
    "# 从边文件收集\n",
    "with open('cora.cites', 'r') as f:\n",
    "    for line in f:\n",
    "        src, dst = line.strip().split()\n",
    "        node_set.add(src)\n",
    "        node_set.add(dst)\n",
    "\n",
    "# 从内容文件收集\n",
    "node_label_pairs = []\n",
    "label_set = set()\n",
    "with open('cora.content', 'r') as f:\n",
    "    for line in f:\n",
    "        parts = line.strip().split()\n",
    "        node_id = parts[0]\n",
    "        label = parts[-1]\n",
    "        node_label_pairs.append((node_id, label))\n",
    "        label_set.add(label)\n",
    "        node_set.add(node_id)\n",
    "\n",
    "# 2. 创建节点ID映射\n",
    "sorted_nodes = sorted(node_set)\n",
    "node_to_new_id = {node_id: idx for idx, node_id in enumerate(sorted_nodes)}\n",
    "\n",
    "# 3. 导出边集合（映射后的ID）\n",
    "with open('cora.cites', 'r') as f_in, open('cora.csv', 'w', newline='') as f_out:\n",
    "    writer = csv.writer(f_out)\n",
    "    writer.writerow(['from', 'to'])\n",
    "    for line in f_in:\n",
    "        src, dst = line.strip().split()\n",
    "        writer.writerow([node_to_new_id[src], node_to_new_id[dst]])\n",
    "\n",
    "# 4. 创建类别到数字的映射\n",
    "label_to_id = {label: idx for idx, label in enumerate(sorted(label_set))}\n",
    "\n",
    "# 5. 导出标签文件（映射后的ID，按编号排序）\n",
    "# 先转成 (新编号, label_id)\n",
    "mapped_labels = [\n",
    "    (node_to_new_id[node_id], label_to_id[label])\n",
    "    for node_id, label in node_label_pairs\n",
    "]\n",
    "# 排序\n",
    "mapped_labels.sort()\n",
    "\n",
    "with open('cora-labels.csv', 'w', newline='') as f_out:\n",
    "    writer = csv.writer(f_out)\n",
    "    writer.writerow(['node', 'label'])\n",
    "    for new_node_id, label_id in mapped_labels:\n",
    "        writer.writerow([new_node_id, label_id])\n"
   ],
   "id": "4e4116f8e1e28de4",
   "outputs": [],
   "execution_count": 3
  },
  {
   "metadata": {},
   "cell_type": "code",
   "outputs": [],
   "execution_count": null,
   "source": "",
   "id": "4b9a949dcc5b3310"
  }
 ],
 "metadata": {
  "kernelspec": {
   "display_name": "Python 3",
   "language": "python",
   "name": "python3"
  },
  "language_info": {
   "codemirror_mode": {
    "name": "ipython",
    "version": 2
   },
   "file_extension": ".py",
   "mimetype": "text/x-python",
   "name": "python",
   "nbconvert_exporter": "python",
   "pygments_lexer": "ipython2",
   "version": "2.7.6"
  }
 },
 "nbformat": 4,
 "nbformat_minor": 5
}
