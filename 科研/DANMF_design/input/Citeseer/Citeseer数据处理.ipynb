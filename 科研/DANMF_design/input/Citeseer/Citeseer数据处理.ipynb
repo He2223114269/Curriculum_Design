{
 "cells": [
  {
   "metadata": {
    "ExecuteTime": {
     "end_time": "2025-04-30T07:02:14.503364Z",
     "start_time": "2025-04-30T07:02:13.116996Z"
    }
   },
   "cell_type": "code",
   "source": [
    "import pandas as pd\n",
    "from sklearn.preprocessing import LabelEncoder\n",
    "\n",
    "# 1. 读取 content 文件（包含节点 ID 和标签）\n",
    "content = pd.read_csv('citeseer.content', sep='\\t', header=None)\n",
    "content.columns = ['paper_id'] + [f'feat_{i}' for i in range(content.shape[1] - 2)] + ['label']\n",
    "content.drop_duplicates(subset='paper_id', inplace=True)  # 去重\n",
    "\n",
    "content_paper_ids = content['paper_id'].tolist()\n",
    "labels = content['label'].tolist()\n",
    "\n",
    "# ✅ 2. 创建 paper_id 到 node_id 编码（仅对 content 中的 paper）\n",
    "paper_id_to_node = {pid: idx for idx, pid in enumerate(content_paper_ids)}\n",
    "valid_nodes_set = set(content_paper_ids)\n",
    "\n",
    "# ✅ 3. 标签编码\n",
    "label_encoder = LabelEncoder()\n",
    "label_encoded = label_encoder.fit_transform(labels)\n",
    "label_df = pd.DataFrame({\n",
    "    'node': list(range(len(content_paper_ids))),\n",
    "    'label': label_encoded\n",
    "})\n",
    "label_df.to_csv(\"citeseer-labels.csv\", index=False, header=False)\n",
    "\n",
    "# ✅ 4. 读取 cites 边文件\n",
    "cites = pd.read_csv('citeseer.cites', sep='\\t', header=None)\n",
    "cites.columns = ['source', 'target']\n",
    "\n",
    "# ✅ 5. 过滤出 source 和 target 都在 content 中的边（双向都在 content 中）\n",
    "cites_filtered = cites[cites['source'].isin(valid_nodes_set) & cites['target'].isin(valid_nodes_set)]\n",
    "\n",
    "# ✅ 6. 将边映射为连续编号（0 ~ N-1）\n",
    "cites_mapped = cites_filtered.applymap(lambda x: paper_id_to_node[x])\n",
    "cites_mapped.to_csv(\"citeseer.csv\", sep=',', header=False, index=False)\n",
    "\n",
    "# ✅ 验证信息输出\n",
    "print(f\"原始边数: {len(cites)}\")\n",
    "print(f\"保留有效边数: {len(cites_mapped)}\")\n",
    "print(f\"节点数: {len(content_paper_ids)}\")\n"
   ],
   "id": "da7e377ec0b7ed25",
   "outputs": [
    {
     "name": "stdout",
     "output_type": "stream",
     "text": [
      "原始边数: 4732\n",
      "保留有效边数: 3298\n",
      "节点数: 3312\n"
     ]
    },
    {
     "name": "stderr",
     "output_type": "stream",
     "text": [
      "C:\\Users\\jinglu\\AppData\\Local\\Temp\\ipykernel_26000\\1077241203.py:5: DtypeWarning: Columns (0) have mixed types. Specify dtype option on import or set low_memory=False.\n",
      "  content = pd.read_csv('citeseer.content', sep='\\t', header=None)\n",
      "C:\\Users\\jinglu\\AppData\\Local\\Temp\\ipykernel_26000\\1077241203.py:33: FutureWarning: DataFrame.applymap has been deprecated. Use DataFrame.map instead.\n",
      "  cites_mapped = cites_filtered.applymap(lambda x: paper_id_to_node[x])\n"
     ]
    }
   ],
   "execution_count": 20
  },
  {
   "metadata": {
    "ExecuteTime": {
     "end_time": "2025-04-30T07:12:36.697375Z",
     "start_time": "2025-04-30T07:12:36.682363Z"
    }
   },
   "cell_type": "code",
   "source": "cites_mapped",
   "id": "c983de491e267202",
   "outputs": [
    {
     "data": {
      "text/plain": [
       "      source  target\n",
       "15      2177    2903\n",
       "17      1011    2028\n",
       "18      1011    2029\n",
       "19      2179    2200\n",
       "21      1012    2181\n",
       "...      ...     ...\n",
       "4727    2171    2172\n",
       "4728    2174    1385\n",
       "4729    2174    2173\n",
       "4730    1008     455\n",
       "4731    2175    2122\n",
       "\n",
       "[3298 rows x 2 columns]"
      ],
      "text/html": [
       "<div>\n",
       "<style scoped>\n",
       "    .dataframe tbody tr th:only-of-type {\n",
       "        vertical-align: middle;\n",
       "    }\n",
       "\n",
       "    .dataframe tbody tr th {\n",
       "        vertical-align: top;\n",
       "    }\n",
       "\n",
       "    .dataframe thead th {\n",
       "        text-align: right;\n",
       "    }\n",
       "</style>\n",
       "<table border=\"1\" class=\"dataframe\">\n",
       "  <thead>\n",
       "    <tr style=\"text-align: right;\">\n",
       "      <th></th>\n",
       "      <th>source</th>\n",
       "      <th>target</th>\n",
       "    </tr>\n",
       "  </thead>\n",
       "  <tbody>\n",
       "    <tr>\n",
       "      <th>15</th>\n",
       "      <td>2177</td>\n",
       "      <td>2903</td>\n",
       "    </tr>\n",
       "    <tr>\n",
       "      <th>17</th>\n",
       "      <td>1011</td>\n",
       "      <td>2028</td>\n",
       "    </tr>\n",
       "    <tr>\n",
       "      <th>18</th>\n",
       "      <td>1011</td>\n",
       "      <td>2029</td>\n",
       "    </tr>\n",
       "    <tr>\n",
       "      <th>19</th>\n",
       "      <td>2179</td>\n",
       "      <td>2200</td>\n",
       "    </tr>\n",
       "    <tr>\n",
       "      <th>21</th>\n",
       "      <td>1012</td>\n",
       "      <td>2181</td>\n",
       "    </tr>\n",
       "    <tr>\n",
       "      <th>...</th>\n",
       "      <td>...</td>\n",
       "      <td>...</td>\n",
       "    </tr>\n",
       "    <tr>\n",
       "      <th>4727</th>\n",
       "      <td>2171</td>\n",
       "      <td>2172</td>\n",
       "    </tr>\n",
       "    <tr>\n",
       "      <th>4728</th>\n",
       "      <td>2174</td>\n",
       "      <td>1385</td>\n",
       "    </tr>\n",
       "    <tr>\n",
       "      <th>4729</th>\n",
       "      <td>2174</td>\n",
       "      <td>2173</td>\n",
       "    </tr>\n",
       "    <tr>\n",
       "      <th>4730</th>\n",
       "      <td>1008</td>\n",
       "      <td>455</td>\n",
       "    </tr>\n",
       "    <tr>\n",
       "      <th>4731</th>\n",
       "      <td>2175</td>\n",
       "      <td>2122</td>\n",
       "    </tr>\n",
       "  </tbody>\n",
       "</table>\n",
       "<p>3298 rows × 2 columns</p>\n",
       "</div>"
      ]
     },
     "execution_count": 21,
     "metadata": {},
     "output_type": "execute_result"
    }
   ],
   "execution_count": 21
  },
  {
   "metadata": {
    "ExecuteTime": {
     "end_time": "2025-04-30T07:15:56.534773Z",
     "start_time": "2025-04-30T07:15:56.527169Z"
    }
   },
   "cell_type": "code",
   "source": "cites_mapped['source'].nunique() ",
   "id": "4804662bebc1b473",
   "outputs": [
    {
     "data": {
      "text/plain": [
       "1578"
      ]
     },
     "execution_count": 23,
     "metadata": {},
     "output_type": "execute_result"
    }
   ],
   "execution_count": 23
  }
 ],
 "metadata": {
  "kernelspec": {
   "display_name": "Python 3",
   "language": "python",
   "name": "python3"
  },
  "language_info": {
   "codemirror_mode": {
    "name": "ipython",
    "version": 2
   },
   "file_extension": ".py",
   "mimetype": "text/x-python",
   "name": "python",
   "nbconvert_exporter": "python",
   "pygments_lexer": "ipython2",
   "version": "2.7.6"
  }
 },
 "nbformat": 4,
 "nbformat_minor": 5
}
