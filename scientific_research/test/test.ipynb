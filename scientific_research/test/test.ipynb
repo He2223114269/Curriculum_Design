{
 "cells": [
  {
   "cell_type": "code",
   "execution_count": 2,
   "metadata": {
    "collapsed": true
   },
   "outputs": [
    {
     "name": "stdout",
     "output_type": "stream",
     "text": [
      "Graph with 1000 nodes and 10506 edges\n"
     ]
    }
   ],
   "source": [
    "import networkx as nx\n",
    "g = nx.newman_watts_strogatz_graph(1000, 20, 0.05)\n",
    "print(g)"
   ]
  },
  {
   "cell_type": "code",
   "execution_count": 3,
   "outputs": [],
   "source": [
    "import csv\n",
    "# Export the edges to a csv file\n",
    "with open(\"edges.csv\", \"w\") as f:\n",
    "    writer = csv.writer(f)\n",
    "    for edge in g.edges():\n",
    "        writer.writerow(edge)\n",
    "\n",
    "# Export the node attributes to a csv file\n",
    "with open(\"nodes.csv\", \"w\") as f:\n",
    "    writer = csv.writer(f)\n",
    "    writer.writerow([\"node\", \"attribute\"])\n",
    "    for node, attribute in g.nodes(data=True):\n",
    "        writer.writerow([node, attribute])"
   ],
   "metadata": {
    "collapsed": false,
    "pycharm": {
     "name": "#%%\n"
    }
   }
  },
  {
   "cell_type": "code",
   "execution_count": 5,
   "outputs": [
    {
     "ename": "TypeError",
     "evalue": "argmap_read_edgelist_9() got an unexpected keyword argument 'first_label'",
     "output_type": "error",
     "traceback": [
      "\u001B[1;31m---------------------------------------------------------------------------\u001B[0m",
      "\u001B[1;31mTypeError\u001B[0m                                 Traceback (most recent call last)",
      "\u001B[1;32m~\\AppData\\Local\\Temp\\ipykernel_29588\\2044512341.py\u001B[0m in \u001B[0;36m<module>\u001B[1;34m\u001B[0m\n\u001B[0;32m      1\u001B[0m \u001B[1;32mfrom\u001B[0m \u001B[0mkarateclub\u001B[0m\u001B[1;33m.\u001B[0m\u001B[0mcommunity_detection\u001B[0m\u001B[1;33m.\u001B[0m\u001B[0moverlapping\u001B[0m \u001B[1;32mimport\u001B[0m \u001B[0mDANMF\u001B[0m\u001B[1;33m\u001B[0m\u001B[1;33m\u001B[0m\u001B[0m\n\u001B[0;32m      2\u001B[0m \u001B[1;33m\u001B[0m\u001B[0m\n\u001B[1;32m----> 3\u001B[1;33m \u001B[0mg\u001B[0m \u001B[1;33m=\u001B[0m \u001B[0mnx\u001B[0m\u001B[1;33m.\u001B[0m\u001B[0mread_edgelist\u001B[0m\u001B[1;33m(\u001B[0m\u001B[1;34m'Email/email-Eu-core.csv'\u001B[0m\u001B[1;33m,\u001B[0m\u001B[0mdelimiter\u001B[0m\u001B[1;33m=\u001B[0m\u001B[1;34m','\u001B[0m\u001B[1;33m,\u001B[0m\u001B[0mfirst_label\u001B[0m\u001B[1;33m=\u001B[0m\u001B[1;36m1\u001B[0m\u001B[1;33m)\u001B[0m\u001B[1;33m\u001B[0m\u001B[1;33m\u001B[0m\u001B[0m\n\u001B[0m\u001B[0;32m      4\u001B[0m \u001B[0mmodel\u001B[0m \u001B[1;33m=\u001B[0m \u001B[0mDANMF\u001B[0m\u001B[1;33m(\u001B[0m\u001B[1;33m)\u001B[0m\u001B[1;33m\u001B[0m\u001B[1;33m\u001B[0m\u001B[0m\n\u001B[0;32m      5\u001B[0m \u001B[0mmodel\u001B[0m\u001B[1;33m.\u001B[0m\u001B[0mfit\u001B[0m\u001B[1;33m(\u001B[0m\u001B[0mg\u001B[0m\u001B[1;33m)\u001B[0m\u001B[1;33m\u001B[0m\u001B[1;33m\u001B[0m\u001B[0m\n",
      "\u001B[1;31mTypeError\u001B[0m: argmap_read_edgelist_9() got an unexpected keyword argument 'first_label'"
     ]
    }
   ],
   "source": [
    "from karateclub.community_detection.overlapping import DANMF\n",
    "\n",
    "g = nx.read_edgelist('Email/email-Eu-core.csv',delimiter=',',first_label=1)\n",
    "model = DANMF()\n",
    "model.fit(g)\n",
    "abel = model.get_memberships()\n"
   ],
   "metadata": {
    "collapsed": false,
    "pycharm": {
     "name": "#%%\n"
    }
   }
  }
 ],
 "metadata": {
  "kernelspec": {
   "display_name": "Python 3",
   "language": "python",
   "name": "python3"
  },
  "language_info": {
   "codemirror_mode": {
    "name": "ipython",
    "version": 2
   },
   "file_extension": ".py",
   "mimetype": "text/x-python",
   "name": "python",
   "nbconvert_exporter": "python",
   "pygments_lexer": "ipython2",
   "version": "2.7.6"
  }
 },
 "nbformat": 4,
 "nbformat_minor": 0
}