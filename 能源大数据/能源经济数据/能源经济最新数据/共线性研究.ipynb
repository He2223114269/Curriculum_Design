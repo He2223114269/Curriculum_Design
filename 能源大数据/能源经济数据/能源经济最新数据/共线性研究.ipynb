{
 "cells": [
  {
   "cell_type": "markdown",
   "id": "5f1e15b3",
   "metadata": {},
   "source": [
    "中介效应多重共线性检验"
   ]
  },
  {
   "cell_type": "code",
   "execution_count": 4,
   "id": "04c4baf6",
   "metadata": {},
   "outputs": [
    {
     "name": "stdout",
     "output_type": "stream",
     "text": [
      "  Variable           VIF\n",
      "0    const  11330.681003\n",
      "1       GF      1.091529\n",
      "2       ES      1.688369\n",
      "3       TP      2.217264\n",
      "4       ep      1.150836\n",
      "5       es     10.442958\n",
      "6      edp      7.377503\n",
      "7       er      1.341797\n"
     ]
    }
   ],
   "source": [
    "import pandas as pd\n",
    "from statsmodels.stats.outliers_influence import variance_inflation_factor\n",
    "from statsmodels.tools.tools import add_constant\n",
    "DATA = pd.read_excel(\"中介效应指标.xlsx\")\n",
    "# Assuming your data is stored in a DataFrame called 'df'\n",
    "\n",
    "# Select the independent variables for VIF calculation\n",
    "independent_vars = ['GF', 'ES', 'TP', 'ep', 'es', 'edp', 'er']\n",
    "\n",
    "# Add a constant term to the data\n",
    "X = add_constant(DATA[independent_vars])\n",
    "\n",
    "# Create a DataFrame to store the VIF results\n",
    "vif_data = pd.DataFrame()\n",
    "vif_data[\"Variable\"] = X.columns\n",
    "vif_data[\"VIF\"] = [variance_inflation_factor(X.values, i) for i in range(X.shape[1])]\n",
    "\n",
    "# Print the VIF resu\n",
    "print(vif_data)"
   ]
  },
  {
   "cell_type": "code",
   "execution_count": 5,
   "id": "f0994605",
   "metadata": {
    "scrolled": true
   },
   "outputs": [
    {
     "name": "stdout",
     "output_type": "stream",
     "text": [
      "  Variable          VIF\n",
      "0    const  8906.685459\n",
      "1       GF     1.062496\n",
      "2       ES     1.496446\n",
      "3       TP     1.512079\n",
      "4       ep     1.150827\n",
      "5      edp     1.520591\n",
      "6       er     1.323098\n"
     ]
    }
   ],
   "source": [
    "import pandas as pd\n",
    "from statsmodels.stats.outliers_influence import variance_inflation_factor\n",
    "from statsmodels.tools.tools import add_constant\n",
    "DATA = pd.read_excel(\"中介效应指标.xlsx\")\n",
    "# Assuming your data is stored in a DataFrame called 'df'\n",
    "\n",
    "# Select the independent variables for VIF calculation\n",
    "independent_vars = ['GF', 'ES', 'TP', 'ep', 'edp', 'er']\n",
    "\n",
    "# Add a constant term to the data\n",
    "X = add_constant(DATA[independent_vars])\n",
    "\n",
    "# Create a DataFrame to store the VIF results\n",
    "vif_data = pd.DataFrame()\n",
    "vif_data[\"Variable\"] = X.columns\n",
    "vif_data[\"VIF\"] = [variance_inflation_factor(X.values, i) for i in range(X.shape[1])]\n",
    "\n",
    "# Print the VIF resu\n",
    "print(vif_data)"
   ]
  },
  {
   "cell_type": "markdown",
   "id": "ae06419e",
   "metadata": {},
   "source": [
    "绿色金融多重共线性检验"
   ]
  },
  {
   "cell_type": "code",
   "execution_count": 7,
   "id": "b928c629",
   "metadata": {},
   "outputs": [
    {
     "name": "stdout",
     "output_type": "stream",
     "text": [
      "            feature        VIF\n",
      "0             const  47.966159\n",
      "1  A股上市环保企业新增银行贷款占比   1.337528\n",
      "2       高能耗行业利息支出占比   1.318441\n",
      "3      上市环保企业A股市值占比   1.272484\n",
      "4     上市高能耗企业A股市值占比   1.315227\n",
      "5          规模环境污染保险   1.465922\n",
      "6        环境污染保险赔偿比例   1.105857\n",
      "7        环境污染治理投资占比   1.285154\n",
      "8          财政环保支出占比   1.041789\n"
     ]
    }
   ],
   "source": [
    "import pandas as pd\n",
    "import statsmodels.api as sm\n",
    "from statsmodels.stats.outliers_influence import variance_inflation_factor\n",
    "\n",
    "DATA = pd.read_excel(\"绿色金融.xlsx\")\n",
    "\n",
    "X = DATA[['A股上市环保企业新增银行贷款占比', '高能耗行业利息支出占比', '上市环保企业A股市值占比','上市高能耗企业A股市值占比', '规模环境污染保险', '环境污染保险赔偿比例', '环境污染治理投资占比', '财政环保支出占比']]\n",
    "X = sm.add_constant(X)\n",
    "\n",
    "# 计算VIF\n",
    "vif_data = pd.DataFrame()\n",
    "vif_data[\"feature\"] = X.columns\n",
    "vif_data[\"VIF\"] = [variance_inflation_factor(X.values, i) for i in range(X.shape[1])]\n",
    "\n",
    "print(vif_data)"
   ]
  },
  {
   "cell_type": "markdown",
   "id": "32713bb1",
   "metadata": {},
   "source": []
  },
  {
   "cell_type": "code",
   "execution_count": null,
   "id": "5716b7a0",
   "metadata": {},
   "outputs": [],
   "source": []
  }
 ],
 "metadata": {
  "kernelspec": {
   "display_name": "Python 3 (ipykernel)",
   "language": "python",
   "name": "python3"
  },
  "language_info": {
   "codemirror_mode": {
    "name": "ipython",
    "version": 3
   },
   "file_extension": ".py",
   "mimetype": "text/x-python",
   "name": "python",
   "nbconvert_exporter": "python",
   "pygments_lexer": "ipython3",
   "version": "3.7.2"
  }
 },
 "nbformat": 4,
 "nbformat_minor": 5
}
