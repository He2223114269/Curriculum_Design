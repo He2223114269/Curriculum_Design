{
 "cells": [
  {
   "cell_type": "markdown",
   "metadata": {
    "id": "6F69DC740C1A49AAA7F1D48755E09EC2",
    "jupyter": {},
    "notebookId": "641dabcafeb4fe02b2cd3ede",
    "runtime": {
     "execution_status": null,
     "status": "default"
    },
    "scrolled": false,
    "slideshow": {
     "slide_type": "slide"
    },
    "tags": []
   },
   "source": [
    "# 机器学习实战系列[一]：工业蒸汽量预测  \n",
    "\n",
    "\n",
    "- 背景介绍  \n",
    "\n",
    "火力发电的基本原理是：燃料在燃烧时加热水生成蒸汽，蒸汽压力推动汽轮机旋转，然后汽轮机带动发电机旋转，产生电能。在这一系列的能量转化中，影响发电效率的核心是锅炉的燃烧效率，即燃料燃烧加热水产生高温高压蒸汽。锅炉的燃烧效率的影响因素很多，包括锅炉的可调参数，如燃烧给量，一二次风，引风，返料风，给水水量；以及锅炉的工况，比如锅炉床温、床压，炉膛温度、压力，过热器的温度等。  \n",
    "\n",
    "- 相关描述  \n",
    "\n",
    "经脱敏后的锅炉传感器采集的数据（采集频率是分钟级别），根据锅炉的工况，预测产生的蒸汽量。  \n",
    "\n",
    "\n",
    "- 数据说明  \n",
    "\n",
    "数据分成训练数据（train.txt）和测试数据（test.txt），其中字段”V0”-“V37”，这38个字段是作为特征变量，”target”作为目标变量。选手利用训练数据训练出模型，预测测试数据的目标变量，排名结果依据预测结果的MSE（mean square error）。  \n",
    "\n",
    "\n",
    "- 结果评估  \n",
    "\n",
    "预测结果以mean square error作为评判标准。  \n",
    "\n",
    "\n",
    "# 1.数据探索性分析  \n"
   ]
  },
  {
   "cell_type": "code",
   "execution_count": null,
   "metadata": {},
   "outputs": [],
   "source": [
    "pip install scipy -i https://pypi.tuna.tsinghua.edu.cn/simple"
   ]
  },
  {
   "cell_type": "code",
   "execution_count": 4,
   "metadata": {
    "collapsed": false,
    "id": "BF15F8F836EB43DF81049029B8C97B71",
    "jupyter": {
     "outputs_hidden": false
    },
    "notebookId": "641dabcafeb4fe02b2cd3ede",
    "scrolled": true,
    "slideshow": {
     "slide_type": "slide"
    },
    "tags": []
   },
   "outputs": [
    {
     "ename": "ModuleNotFoundError",
     "evalue": "No module named 'pandas'",
     "output_type": "error",
     "traceback": [
      "\u001b[1;31m---------------------------------------------------------------------------\u001b[0m",
      "\u001b[1;31mModuleNotFoundError\u001b[0m                       Traceback (most recent call last)",
      "Cell \u001b[1;32mIn[4], line 2\u001b[0m\n\u001b[0;32m      1\u001b[0m \u001b[38;5;28;01mimport\u001b[39;00m \u001b[38;5;21;01mnumpy\u001b[39;00m \u001b[38;5;28;01mas\u001b[39;00m \u001b[38;5;21;01mnp\u001b[39;00m\n\u001b[1;32m----> 2\u001b[0m \u001b[38;5;28;01mimport\u001b[39;00m \u001b[38;5;21;01mpandas\u001b[39;00m \u001b[38;5;28;01mas\u001b[39;00m \u001b[38;5;21;01mpd\u001b[39;00m\n\u001b[0;32m      3\u001b[0m \u001b[38;5;28;01mimport\u001b[39;00m \u001b[38;5;21;01mmatplotlib\u001b[39;00m\u001b[38;5;21;01m.\u001b[39;00m\u001b[38;5;21;01mpyplot\u001b[39;00m \u001b[38;5;28;01mas\u001b[39;00m \u001b[38;5;21;01mplt\u001b[39;00m\n\u001b[0;32m      4\u001b[0m \u001b[38;5;28;01mimport\u001b[39;00m \u001b[38;5;21;01mseaborn\u001b[39;00m \u001b[38;5;28;01mas\u001b[39;00m \u001b[38;5;21;01msns\u001b[39;00m\n",
      "\u001b[1;31mModuleNotFoundError\u001b[0m: No module named 'pandas'"
     ]
    }
   ],
   "source": [
    "import numpy as np\n",
    "import pandas as pd\n",
    "import matplotlib.pyplot as plt\n",
    "import seaborn as sns\n",
    "\n",
    "from scipy import stats\n",
    "\n",
    "import warnings\n",
    "warnings.filterwarnings(\"ignore\")\n",
    " \n",
    "%matplotlib inline"
   ]
  },
  {
   "cell_type": "code",
   "execution_count": 57,
   "metadata": {
    "collapsed": false,
    "execution": {
     "iopub.execute_input": "2023-03-23T10:10:23.489619Z",
     "iopub.status.busy": "2023-03-23T10:10:23.489286Z",
     "iopub.status.idle": "2023-03-23T10:10:24.147372Z",
     "shell.execute_reply": "2023-03-23T10:10:24.146340Z",
     "shell.execute_reply.started": "2023-03-23T10:10:23.489599Z"
    },
    "id": "1D629B6D5AE548319DA101FDBE47C1FE",
    "jupyter": {
     "outputs_hidden": false
    },
    "notebookId": "641dabcafeb4fe02b2cd3ede",
    "scrolled": true,
    "slideshow": {
     "slide_type": "slide"
    },
    "tags": []
   },
   "outputs": [
    {
     "name": "stdout",
     "output_type": "stream",
     "text": [
      "--2023-03-24 14:11:27--  http://tianchi-media.oss-cn-beijing.aliyuncs.com/DSW/Industrial_Steam_Forecast/zhengqi_test.txt\n",
      "Resolving tianchi-media.oss-cn-beijing.aliyuncs.com (tianchi-media.oss-cn-beijing.aliyuncs.com)... 49.7.22.39\n",
      "Connecting to tianchi-media.oss-cn-beijing.aliyuncs.com (tianchi-media.oss-cn-beijing.aliyuncs.com)|49.7.22.39|:80... connected.\n",
      "HTTP request sent, awaiting response... 200 OK\n",
      "Length: 466959 (456K) [text/plain]\n",
      "Saving to: ‘zhengqi_test.txt.2’\n",
      "\n",
      "zhengqi_test.txt.2  100%[===================>] 456.01K  --.-KB/s    in 0.1s    \n",
      "\n",
      "2023-03-24 14:11:28 (3.23 MB/s) - ‘zhengqi_test.txt.2’ saved [466959/466959]\n",
      "\n",
      "--2023-03-24 14:11:28--  http://tianchi-media.oss-cn-beijing.aliyuncs.com/DSW/Industrial_Steam_Forecast/zhengqi_train.txt\n",
      "Resolving tianchi-media.oss-cn-beijing.aliyuncs.com (tianchi-media.oss-cn-beijing.aliyuncs.com)... 49.7.22.39\n",
      "Connecting to tianchi-media.oss-cn-beijing.aliyuncs.com (tianchi-media.oss-cn-beijing.aliyuncs.com)|49.7.22.39|:80... connected.\n",
      "HTTP request sent, awaiting response... 200 OK\n",
      "Length: 714370 (698K) [text/plain]\n",
      "Saving to: ‘zhengqi_train.txt.2’\n",
      "\n",
      "zhengqi_train.txt.2 100%[===================>] 697.63K  --.-KB/s    in 0.1s    \n",
      "\n",
      "2023-03-24 14:11:28 (4.86 MB/s) - ‘zhengqi_train.txt.2’ saved [714370/714370]\n",
      "\n"
     ]
    }
   ],
   "source": [
    "# 下载需要用到的数据集\n",
    "!wget http://tianchi-media.oss-cn-beijing.aliyuncs.com/DSW/Industrial_Steam_Forecast/zhengqi_test.txt\n",
    "!wget http://tianchi-media.oss-cn-beijing.aliyuncs.com/DSW/Industrial_Steam_Forecast/zhengqi_train.txt"
   ]
  },
  {
   "cell_type": "code",
   "execution_count": 58,
   "metadata": {
    "collapsed": false,
    "execution": {
     "iopub.execute_input": "2023-03-23T10:10:24.148982Z",
     "iopub.status.busy": "2023-03-23T10:10:24.148701Z",
     "iopub.status.idle": "2023-03-23T10:10:24.182027Z",
     "shell.execute_reply": "2023-03-23T10:10:24.181356Z",
     "shell.execute_reply.started": "2023-03-23T10:10:24.148954Z"
    },
    "id": "7EBD5E3AED604821B14419751C81B860",
    "jupyter": {
     "outputs_hidden": false
    },
    "notebookId": "641dabcafeb4fe02b2cd3ede",
    "scrolled": true,
    "slideshow": {
     "slide_type": "slide"
    },
    "tags": []
   },
   "outputs": [],
   "source": [
    "# **读取数据文件**\n",
    "# 使用Pandas库`read_csv()`函数进行数据读取，分割符为‘\\t’\n",
    "train_data_file = \"./zhengqi_train.txt\"\n",
    "test_data_file =  \"./zhengqi_test.txt\"\n",
    "\n",
    "train_data = pd.read_csv(train_data_file, sep='\\t', encoding='utf-8')\n",
    "test_data = pd.read_csv(test_data_file, sep='\\t', encoding='utf-8')"
   ]
  },
  {
   "cell_type": "markdown",
   "metadata": {
    "id": "E167F71F2A0747D9A30C4D797597621B",
    "jupyter": {},
    "notebookId": "641dabcafeb4fe02b2cd3ede",
    "runtime": {
     "execution_status": null,
     "status": "default"
    },
    "scrolled": false,
    "slideshow": {
     "slide_type": "slide"
    },
    "tags": []
   },
   "source": [
    "## 1.1 查看数据信息"
   ]
  },
  {
   "cell_type": "code",
   "execution_count": 59,
   "metadata": {
    "collapsed": false,
    "execution": {
     "iopub.execute_input": "2023-03-23T10:10:24.184258Z",
     "iopub.status.busy": "2023-03-23T10:10:24.183674Z",
     "iopub.status.idle": "2023-03-23T10:10:24.196219Z",
     "shell.execute_reply": "2023-03-23T10:10:24.195563Z",
     "shell.execute_reply.started": "2023-03-23T10:10:24.184235Z"
    },
    "id": "0F34C49D3B11442AA58C01A9CD889626",
    "jupyter": {
     "outputs_hidden": false
    },
    "notebookId": "641dabcafeb4fe02b2cd3ede",
    "slideshow": {
     "slide_type": "slide"
    },
    "tags": []
   },
   "outputs": [
    {
     "name": "stdout",
     "output_type": "stream",
     "text": [
      "<class 'pandas.core.frame.DataFrame'>\n",
      "RangeIndex: 2888 entries, 0 to 2887\n",
      "Data columns (total 39 columns):\n",
      " #   Column  Non-Null Count  Dtype  \n",
      "---  ------  --------------  -----  \n",
      " 0   V0      2888 non-null   float64\n",
      " 1   V1      2888 non-null   float64\n",
      " 2   V2      2888 non-null   float64\n",
      " 3   V3      2888 non-null   float64\n",
      " 4   V4      2888 non-null   float64\n",
      " 5   V5      2888 non-null   float64\n",
      " 6   V6      2888 non-null   float64\n",
      " 7   V7      2888 non-null   float64\n",
      " 8   V8      2888 non-null   float64\n",
      " 9   V9      2888 non-null   float64\n",
      " 10  V10     2888 non-null   float64\n",
      " 11  V11     2888 non-null   float64\n",
      " 12  V12     2888 non-null   float64\n",
      " 13  V13     2888 non-null   float64\n",
      " 14  V14     2888 non-null   float64\n",
      " 15  V15     2888 non-null   float64\n",
      " 16  V16     2888 non-null   float64\n",
      " 17  V17     2888 non-null   float64\n",
      " 18  V18     2888 non-null   float64\n",
      " 19  V19     2888 non-null   float64\n",
      " 20  V20     2888 non-null   float64\n",
      " 21  V21     2888 non-null   float64\n",
      " 22  V22     2888 non-null   float64\n",
      " 23  V23     2888 non-null   float64\n",
      " 24  V24     2888 non-null   float64\n",
      " 25  V25     2888 non-null   float64\n",
      " 26  V26     2888 non-null   float64\n",
      " 27  V27     2888 non-null   float64\n",
      " 28  V28     2888 non-null   float64\n",
      " 29  V29     2888 non-null   float64\n",
      " 30  V30     2888 non-null   float64\n",
      " 31  V31     2888 non-null   float64\n",
      " 32  V32     2888 non-null   float64\n",
      " 33  V33     2888 non-null   float64\n",
      " 34  V34     2888 non-null   float64\n",
      " 35  V35     2888 non-null   float64\n",
      " 36  V36     2888 non-null   float64\n",
      " 37  V37     2888 non-null   float64\n",
      " 38  target  2888 non-null   float64\n",
      "dtypes: float64(39)\n",
      "memory usage: 880.1 KB\n"
     ]
    }
   ],
   "source": [
    "#查看特征变量信息\n",
    "train_data.info()"
   ]
  },
  {
   "cell_type": "markdown",
   "metadata": {
    "id": "0ED72A9D8AE3432796F1947E0E81AE27",
    "jupyter": {},
    "notebookId": "641dabcafeb4fe02b2cd3ede",
    "runtime": {
     "execution_status": null,
     "status": "default"
    },
    "scrolled": false,
    "slideshow": {
     "slide_type": "slide"
    },
    "tags": []
   },
   "source": [
    "此训练集数据共有2888个样本，数据中有V0-V37共计38个特征变量，变量类型都为数值类型，所有数据特征没有缺失值数据；  \n",
    "数据字段由于采用了脱敏处理，删除了特征数据的具体含义；target字段为标签变量"
   ]
  },
  {
   "cell_type": "code",
   "execution_count": 60,
   "metadata": {
    "collapsed": false,
    "execution": {
     "iopub.execute_input": "2023-03-23T10:10:24.197434Z",
     "iopub.status.busy": "2023-03-23T10:10:24.197225Z",
     "iopub.status.idle": "2023-03-23T10:10:24.207333Z",
     "shell.execute_reply": "2023-03-23T10:10:24.206690Z",
     "shell.execute_reply.started": "2023-03-23T10:10:24.197415Z"
    },
    "id": "F4B89007A5384B1B9A7D64991FB4301A",
    "jupyter": {
     "outputs_hidden": false
    },
    "notebookId": "641dabcafeb4fe02b2cd3ede",
    "slideshow": {
     "slide_type": "slide"
    },
    "tags": []
   },
   "outputs": [
    {
     "name": "stdout",
     "output_type": "stream",
     "text": [
      "<class 'pandas.core.frame.DataFrame'>\n",
      "RangeIndex: 1925 entries, 0 to 1924\n",
      "Data columns (total 38 columns):\n",
      " #   Column  Non-Null Count  Dtype  \n",
      "---  ------  --------------  -----  \n",
      " 0   V0      1925 non-null   float64\n",
      " 1   V1      1925 non-null   float64\n",
      " 2   V2      1925 non-null   float64\n",
      " 3   V3      1925 non-null   float64\n",
      " 4   V4      1925 non-null   float64\n",
      " 5   V5      1925 non-null   float64\n",
      " 6   V6      1925 non-null   float64\n",
      " 7   V7      1925 non-null   float64\n",
      " 8   V8      1925 non-null   float64\n",
      " 9   V9      1925 non-null   float64\n",
      " 10  V10     1925 non-null   float64\n",
      " 11  V11     1925 non-null   float64\n",
      " 12  V12     1925 non-null   float64\n",
      " 13  V13     1925 non-null   float64\n",
      " 14  V14     1925 non-null   float64\n",
      " 15  V15     1925 non-null   float64\n",
      " 16  V16     1925 non-null   float64\n",
      " 17  V17     1925 non-null   float64\n",
      " 18  V18     1925 non-null   float64\n",
      " 19  V19     1925 non-null   float64\n",
      " 20  V20     1925 non-null   float64\n",
      " 21  V21     1925 non-null   float64\n",
      " 22  V22     1925 non-null   float64\n",
      " 23  V23     1925 non-null   float64\n",
      " 24  V24     1925 non-null   float64\n",
      " 25  V25     1925 non-null   float64\n",
      " 26  V26     1925 non-null   float64\n",
      " 27  V27     1925 non-null   float64\n",
      " 28  V28     1925 non-null   float64\n",
      " 29  V29     1925 non-null   float64\n",
      " 30  V30     1925 non-null   float64\n",
      " 31  V31     1925 non-null   float64\n",
      " 32  V32     1925 non-null   float64\n",
      " 33  V33     1925 non-null   float64\n",
      " 34  V34     1925 non-null   float64\n",
      " 35  V35     1925 non-null   float64\n",
      " 36  V36     1925 non-null   float64\n",
      " 37  V37     1925 non-null   float64\n",
      "dtypes: float64(38)\n",
      "memory usage: 571.6 KB\n"
     ]
    }
   ],
   "source": [
    "test_data.info()"
   ]
  },
  {
   "cell_type": "markdown",
   "metadata": {
    "id": "0082AE88F68D4975944B81827814E660",
    "jupyter": {},
    "notebookId": "641dabcafeb4fe02b2cd3ede",
    "runtime": {
     "execution_status": null,
     "status": "default"
    },
    "scrolled": false,
    "slideshow": {
     "slide_type": "slide"
    },
    "tags": []
   },
   "source": [
    "测试集数据共有1925个样本，数据中有V0-V37共计38个特征变量，变量类型都为数值类型"
   ]
  },
  {
   "cell_type": "code",
   "execution_count": 61,
   "metadata": {
    "collapsed": false,
    "execution": {
     "iopub.execute_input": "2023-03-23T10:10:24.208422Z",
     "iopub.status.busy": "2023-03-23T10:10:24.208147Z",
     "iopub.status.idle": "2023-03-23T10:10:24.301498Z",
     "shell.execute_reply": "2023-03-23T10:10:24.300873Z",
     "shell.execute_reply.started": "2023-03-23T10:10:24.208402Z"
    },
    "id": "F4F66909DB364E2EA4020E9009BD0D38",
    "jupyter": {
     "outputs_hidden": false
    },
    "notebookId": "641dabcafeb4fe02b2cd3ede",
    "slideshow": {
     "slide_type": "slide"
    },
    "tags": []
   },
   "outputs": [
    {
     "data": {
      "text/html": [
       "<div>\n",
       "<style scoped>\n",
       "    .dataframe tbody tr th:only-of-type {\n",
       "        vertical-align: middle;\n",
       "    }\n",
       "\n",
       "    .dataframe tbody tr th {\n",
       "        vertical-align: top;\n",
       "    }\n",
       "\n",
       "    .dataframe thead th {\n",
       "        text-align: right;\n",
       "    }\n",
       "</style>\n",
       "<table border=\"1\" class=\"dataframe\">\n",
       "  <thead>\n",
       "    <tr style=\"text-align: right;\">\n",
       "      <th></th>\n",
       "      <th>V0</th>\n",
       "      <th>V1</th>\n",
       "      <th>V2</th>\n",
       "      <th>V3</th>\n",
       "      <th>V4</th>\n",
       "      <th>V5</th>\n",
       "      <th>V6</th>\n",
       "      <th>V7</th>\n",
       "      <th>V8</th>\n",
       "      <th>V9</th>\n",
       "      <th>...</th>\n",
       "      <th>V29</th>\n",
       "      <th>V30</th>\n",
       "      <th>V31</th>\n",
       "      <th>V32</th>\n",
       "      <th>V33</th>\n",
       "      <th>V34</th>\n",
       "      <th>V35</th>\n",
       "      <th>V36</th>\n",
       "      <th>V37</th>\n",
       "      <th>target</th>\n",
       "    </tr>\n",
       "  </thead>\n",
       "  <tbody>\n",
       "    <tr>\n",
       "      <th>count</th>\n",
       "      <td>2888.000000</td>\n",
       "      <td>2888.000000</td>\n",
       "      <td>2888.000000</td>\n",
       "      <td>2888.000000</td>\n",
       "      <td>2888.000000</td>\n",
       "      <td>2888.000000</td>\n",
       "      <td>2888.000000</td>\n",
       "      <td>2888.000000</td>\n",
       "      <td>2888.000000</td>\n",
       "      <td>2888.000000</td>\n",
       "      <td>...</td>\n",
       "      <td>2888.000000</td>\n",
       "      <td>2888.000000</td>\n",
       "      <td>2888.000000</td>\n",
       "      <td>2888.000000</td>\n",
       "      <td>2888.000000</td>\n",
       "      <td>2888.000000</td>\n",
       "      <td>2888.000000</td>\n",
       "      <td>2888.000000</td>\n",
       "      <td>2888.000000</td>\n",
       "      <td>2888.000000</td>\n",
       "    </tr>\n",
       "    <tr>\n",
       "      <th>mean</th>\n",
       "      <td>0.123048</td>\n",
       "      <td>0.056068</td>\n",
       "      <td>0.289720</td>\n",
       "      <td>-0.067790</td>\n",
       "      <td>0.012921</td>\n",
       "      <td>-0.558565</td>\n",
       "      <td>0.182892</td>\n",
       "      <td>0.116155</td>\n",
       "      <td>0.177856</td>\n",
       "      <td>-0.169452</td>\n",
       "      <td>...</td>\n",
       "      <td>0.097648</td>\n",
       "      <td>0.055477</td>\n",
       "      <td>0.127791</td>\n",
       "      <td>0.020806</td>\n",
       "      <td>0.007801</td>\n",
       "      <td>0.006715</td>\n",
       "      <td>0.197764</td>\n",
       "      <td>0.030658</td>\n",
       "      <td>-0.130330</td>\n",
       "      <td>0.126353</td>\n",
       "    </tr>\n",
       "    <tr>\n",
       "      <th>std</th>\n",
       "      <td>0.928031</td>\n",
       "      <td>0.941515</td>\n",
       "      <td>0.911236</td>\n",
       "      <td>0.970298</td>\n",
       "      <td>0.888377</td>\n",
       "      <td>0.517957</td>\n",
       "      <td>0.918054</td>\n",
       "      <td>0.955116</td>\n",
       "      <td>0.895444</td>\n",
       "      <td>0.953813</td>\n",
       "      <td>...</td>\n",
       "      <td>1.061200</td>\n",
       "      <td>0.901934</td>\n",
       "      <td>0.873028</td>\n",
       "      <td>0.902584</td>\n",
       "      <td>1.006995</td>\n",
       "      <td>1.003291</td>\n",
       "      <td>0.985675</td>\n",
       "      <td>0.970812</td>\n",
       "      <td>1.017196</td>\n",
       "      <td>0.983966</td>\n",
       "    </tr>\n",
       "    <tr>\n",
       "      <th>min</th>\n",
       "      <td>-4.335000</td>\n",
       "      <td>-5.122000</td>\n",
       "      <td>-3.420000</td>\n",
       "      <td>-3.956000</td>\n",
       "      <td>-4.742000</td>\n",
       "      <td>-2.182000</td>\n",
       "      <td>-4.576000</td>\n",
       "      <td>-5.048000</td>\n",
       "      <td>-4.692000</td>\n",
       "      <td>-12.891000</td>\n",
       "      <td>...</td>\n",
       "      <td>-2.912000</td>\n",
       "      <td>-4.507000</td>\n",
       "      <td>-5.859000</td>\n",
       "      <td>-4.053000</td>\n",
       "      <td>-4.627000</td>\n",
       "      <td>-4.789000</td>\n",
       "      <td>-5.695000</td>\n",
       "      <td>-2.608000</td>\n",
       "      <td>-3.630000</td>\n",
       "      <td>-3.044000</td>\n",
       "    </tr>\n",
       "    <tr>\n",
       "      <th>25%</th>\n",
       "      <td>-0.297000</td>\n",
       "      <td>-0.226250</td>\n",
       "      <td>-0.313000</td>\n",
       "      <td>-0.652250</td>\n",
       "      <td>-0.385000</td>\n",
       "      <td>-0.853000</td>\n",
       "      <td>-0.310000</td>\n",
       "      <td>-0.295000</td>\n",
       "      <td>-0.159000</td>\n",
       "      <td>-0.390000</td>\n",
       "      <td>...</td>\n",
       "      <td>-0.664000</td>\n",
       "      <td>-0.283000</td>\n",
       "      <td>-0.170250</td>\n",
       "      <td>-0.407250</td>\n",
       "      <td>-0.499000</td>\n",
       "      <td>-0.290000</td>\n",
       "      <td>-0.202500</td>\n",
       "      <td>-0.413000</td>\n",
       "      <td>-0.798250</td>\n",
       "      <td>-0.350250</td>\n",
       "    </tr>\n",
       "    <tr>\n",
       "      <th>50%</th>\n",
       "      <td>0.359000</td>\n",
       "      <td>0.272500</td>\n",
       "      <td>0.386000</td>\n",
       "      <td>-0.044500</td>\n",
       "      <td>0.110000</td>\n",
       "      <td>-0.466000</td>\n",
       "      <td>0.388000</td>\n",
       "      <td>0.344000</td>\n",
       "      <td>0.362000</td>\n",
       "      <td>0.042000</td>\n",
       "      <td>...</td>\n",
       "      <td>-0.023000</td>\n",
       "      <td>0.053500</td>\n",
       "      <td>0.299500</td>\n",
       "      <td>0.039000</td>\n",
       "      <td>-0.040000</td>\n",
       "      <td>0.160000</td>\n",
       "      <td>0.364000</td>\n",
       "      <td>0.137000</td>\n",
       "      <td>-0.185500</td>\n",
       "      <td>0.313000</td>\n",
       "    </tr>\n",
       "    <tr>\n",
       "      <th>75%</th>\n",
       "      <td>0.726000</td>\n",
       "      <td>0.599000</td>\n",
       "      <td>0.918250</td>\n",
       "      <td>0.624000</td>\n",
       "      <td>0.550250</td>\n",
       "      <td>-0.154000</td>\n",
       "      <td>0.831250</td>\n",
       "      <td>0.782250</td>\n",
       "      <td>0.726000</td>\n",
       "      <td>0.042000</td>\n",
       "      <td>...</td>\n",
       "      <td>0.745250</td>\n",
       "      <td>0.488000</td>\n",
       "      <td>0.635000</td>\n",
       "      <td>0.557000</td>\n",
       "      <td>0.462000</td>\n",
       "      <td>0.273000</td>\n",
       "      <td>0.602000</td>\n",
       "      <td>0.644250</td>\n",
       "      <td>0.495250</td>\n",
       "      <td>0.793250</td>\n",
       "    </tr>\n",
       "    <tr>\n",
       "      <th>max</th>\n",
       "      <td>2.121000</td>\n",
       "      <td>1.918000</td>\n",
       "      <td>2.828000</td>\n",
       "      <td>2.457000</td>\n",
       "      <td>2.689000</td>\n",
       "      <td>0.489000</td>\n",
       "      <td>1.895000</td>\n",
       "      <td>1.918000</td>\n",
       "      <td>2.245000</td>\n",
       "      <td>1.335000</td>\n",
       "      <td>...</td>\n",
       "      <td>4.580000</td>\n",
       "      <td>2.689000</td>\n",
       "      <td>2.013000</td>\n",
       "      <td>2.395000</td>\n",
       "      <td>5.465000</td>\n",
       "      <td>5.110000</td>\n",
       "      <td>2.324000</td>\n",
       "      <td>5.238000</td>\n",
       "      <td>3.000000</td>\n",
       "      <td>2.538000</td>\n",
       "    </tr>\n",
       "  </tbody>\n",
       "</table>\n",
       "<p>8 rows × 39 columns</p>\n",
       "</div>"
      ],
      "text/plain": [
       "                V0           V1           V2           V3           V4  \\\n",
       "count  2888.000000  2888.000000  2888.000000  2888.000000  2888.000000   \n",
       "mean      0.123048     0.056068     0.289720    -0.067790     0.012921   \n",
       "std       0.928031     0.941515     0.911236     0.970298     0.888377   \n",
       "min      -4.335000    -5.122000    -3.420000    -3.956000    -4.742000   \n",
       "25%      -0.297000    -0.226250    -0.313000    -0.652250    -0.385000   \n",
       "50%       0.359000     0.272500     0.386000    -0.044500     0.110000   \n",
       "75%       0.726000     0.599000     0.918250     0.624000     0.550250   \n",
       "max       2.121000     1.918000     2.828000     2.457000     2.689000   \n",
       "\n",
       "                V5           V6           V7           V8           V9  ...  \\\n",
       "count  2888.000000  2888.000000  2888.000000  2888.000000  2888.000000  ...   \n",
       "mean     -0.558565     0.182892     0.116155     0.177856    -0.169452  ...   \n",
       "std       0.517957     0.918054     0.955116     0.895444     0.953813  ...   \n",
       "min      -2.182000    -4.576000    -5.048000    -4.692000   -12.891000  ...   \n",
       "25%      -0.853000    -0.310000    -0.295000    -0.159000    -0.390000  ...   \n",
       "50%      -0.466000     0.388000     0.344000     0.362000     0.042000  ...   \n",
       "75%      -0.154000     0.831250     0.782250     0.726000     0.042000  ...   \n",
       "max       0.489000     1.895000     1.918000     2.245000     1.335000  ...   \n",
       "\n",
       "               V29          V30          V31          V32          V33  \\\n",
       "count  2888.000000  2888.000000  2888.000000  2888.000000  2888.000000   \n",
       "mean      0.097648     0.055477     0.127791     0.020806     0.007801   \n",
       "std       1.061200     0.901934     0.873028     0.902584     1.006995   \n",
       "min      -2.912000    -4.507000    -5.859000    -4.053000    -4.627000   \n",
       "25%      -0.664000    -0.283000    -0.170250    -0.407250    -0.499000   \n",
       "50%      -0.023000     0.053500     0.299500     0.039000    -0.040000   \n",
       "75%       0.745250     0.488000     0.635000     0.557000     0.462000   \n",
       "max       4.580000     2.689000     2.013000     2.395000     5.465000   \n",
       "\n",
       "               V34          V35          V36          V37       target  \n",
       "count  2888.000000  2888.000000  2888.000000  2888.000000  2888.000000  \n",
       "mean      0.006715     0.197764     0.030658    -0.130330     0.126353  \n",
       "std       1.003291     0.985675     0.970812     1.017196     0.983966  \n",
       "min      -4.789000    -5.695000    -2.608000    -3.630000    -3.044000  \n",
       "25%      -0.290000    -0.202500    -0.413000    -0.798250    -0.350250  \n",
       "50%       0.160000     0.364000     0.137000    -0.185500     0.313000  \n",
       "75%       0.273000     0.602000     0.644250     0.495250     0.793250  \n",
       "max       5.110000     2.324000     5.238000     3.000000     2.538000  \n",
       "\n",
       "[8 rows x 39 columns]"
      ]
     },
     "execution_count": 61,
     "metadata": {},
     "output_type": "execute_result"
    }
   ],
   "source": [
    "# 查看数据统计信息\n",
    "train_data.describe()"
   ]
  },
  {
   "cell_type": "code",
   "execution_count": 62,
   "metadata": {
    "collapsed": false,
    "execution": {
     "iopub.execute_input": "2023-03-23T10:10:24.302859Z",
     "iopub.status.busy": "2023-03-23T10:10:24.302327Z",
     "iopub.status.idle": "2023-03-23T10:10:24.393099Z",
     "shell.execute_reply": "2023-03-23T10:10:24.392425Z",
     "shell.execute_reply.started": "2023-03-23T10:10:24.302839Z"
    },
    "id": "8E2582BAF22D4217A1F3B11896969E36",
    "jupyter": {
     "outputs_hidden": false
    },
    "notebookId": "641dabcafeb4fe02b2cd3ede",
    "scrolled": true,
    "slideshow": {
     "slide_type": "slide"
    },
    "tags": []
   },
   "outputs": [
    {
     "data": {
      "text/html": [
       "<div>\n",
       "<style scoped>\n",
       "    .dataframe tbody tr th:only-of-type {\n",
       "        vertical-align: middle;\n",
       "    }\n",
       "\n",
       "    .dataframe tbody tr th {\n",
       "        vertical-align: top;\n",
       "    }\n",
       "\n",
       "    .dataframe thead th {\n",
       "        text-align: right;\n",
       "    }\n",
       "</style>\n",
       "<table border=\"1\" class=\"dataframe\">\n",
       "  <thead>\n",
       "    <tr style=\"text-align: right;\">\n",
       "      <th></th>\n",
       "      <th>V0</th>\n",
       "      <th>V1</th>\n",
       "      <th>V2</th>\n",
       "      <th>V3</th>\n",
       "      <th>V4</th>\n",
       "      <th>V5</th>\n",
       "      <th>V6</th>\n",
       "      <th>V7</th>\n",
       "      <th>V8</th>\n",
       "      <th>V9</th>\n",
       "      <th>...</th>\n",
       "      <th>V28</th>\n",
       "      <th>V29</th>\n",
       "      <th>V30</th>\n",
       "      <th>V31</th>\n",
       "      <th>V32</th>\n",
       "      <th>V33</th>\n",
       "      <th>V34</th>\n",
       "      <th>V35</th>\n",
       "      <th>V36</th>\n",
       "      <th>V37</th>\n",
       "    </tr>\n",
       "  </thead>\n",
       "  <tbody>\n",
       "    <tr>\n",
       "      <th>count</th>\n",
       "      <td>1925.000000</td>\n",
       "      <td>1925.000000</td>\n",
       "      <td>1925.000000</td>\n",
       "      <td>1925.000000</td>\n",
       "      <td>1925.000000</td>\n",
       "      <td>1925.000000</td>\n",
       "      <td>1925.000000</td>\n",
       "      <td>1925.000000</td>\n",
       "      <td>1925.000000</td>\n",
       "      <td>1925.000000</td>\n",
       "      <td>...</td>\n",
       "      <td>1925.000000</td>\n",
       "      <td>1925.000000</td>\n",
       "      <td>1925.000000</td>\n",
       "      <td>1925.000000</td>\n",
       "      <td>1925.000000</td>\n",
       "      <td>1925.000000</td>\n",
       "      <td>1925.000000</td>\n",
       "      <td>1925.000000</td>\n",
       "      <td>1925.000000</td>\n",
       "      <td>1925.000000</td>\n",
       "    </tr>\n",
       "    <tr>\n",
       "      <th>mean</th>\n",
       "      <td>-0.184404</td>\n",
       "      <td>-0.083912</td>\n",
       "      <td>-0.434762</td>\n",
       "      <td>0.101671</td>\n",
       "      <td>-0.019172</td>\n",
       "      <td>0.838049</td>\n",
       "      <td>-0.274092</td>\n",
       "      <td>-0.173971</td>\n",
       "      <td>-0.266709</td>\n",
       "      <td>0.255114</td>\n",
       "      <td>...</td>\n",
       "      <td>-0.206871</td>\n",
       "      <td>-0.146463</td>\n",
       "      <td>-0.083215</td>\n",
       "      <td>-0.191729</td>\n",
       "      <td>-0.030782</td>\n",
       "      <td>-0.011433</td>\n",
       "      <td>-0.009985</td>\n",
       "      <td>-0.296895</td>\n",
       "      <td>-0.046270</td>\n",
       "      <td>0.195735</td>\n",
       "    </tr>\n",
       "    <tr>\n",
       "      <th>std</th>\n",
       "      <td>1.073333</td>\n",
       "      <td>1.076670</td>\n",
       "      <td>0.969541</td>\n",
       "      <td>1.034925</td>\n",
       "      <td>1.147286</td>\n",
       "      <td>0.963043</td>\n",
       "      <td>1.054119</td>\n",
       "      <td>1.040101</td>\n",
       "      <td>1.085916</td>\n",
       "      <td>1.014394</td>\n",
       "      <td>...</td>\n",
       "      <td>1.064140</td>\n",
       "      <td>0.880593</td>\n",
       "      <td>1.126414</td>\n",
       "      <td>1.138454</td>\n",
       "      <td>1.130228</td>\n",
       "      <td>0.989732</td>\n",
       "      <td>0.995213</td>\n",
       "      <td>0.946896</td>\n",
       "      <td>1.040854</td>\n",
       "      <td>0.940599</td>\n",
       "    </tr>\n",
       "    <tr>\n",
       "      <th>min</th>\n",
       "      <td>-4.814000</td>\n",
       "      <td>-5.488000</td>\n",
       "      <td>-4.283000</td>\n",
       "      <td>-3.276000</td>\n",
       "      <td>-4.921000</td>\n",
       "      <td>-1.168000</td>\n",
       "      <td>-5.649000</td>\n",
       "      <td>-5.625000</td>\n",
       "      <td>-6.059000</td>\n",
       "      <td>-6.784000</td>\n",
       "      <td>...</td>\n",
       "      <td>-2.435000</td>\n",
       "      <td>-2.413000</td>\n",
       "      <td>-4.507000</td>\n",
       "      <td>-7.698000</td>\n",
       "      <td>-4.057000</td>\n",
       "      <td>-4.627000</td>\n",
       "      <td>-4.789000</td>\n",
       "      <td>-7.477000</td>\n",
       "      <td>-2.608000</td>\n",
       "      <td>-3.346000</td>\n",
       "    </tr>\n",
       "    <tr>\n",
       "      <th>25%</th>\n",
       "      <td>-0.664000</td>\n",
       "      <td>-0.451000</td>\n",
       "      <td>-0.978000</td>\n",
       "      <td>-0.644000</td>\n",
       "      <td>-0.497000</td>\n",
       "      <td>0.122000</td>\n",
       "      <td>-0.732000</td>\n",
       "      <td>-0.509000</td>\n",
       "      <td>-0.775000</td>\n",
       "      <td>-0.390000</td>\n",
       "      <td>...</td>\n",
       "      <td>-0.453000</td>\n",
       "      <td>-0.818000</td>\n",
       "      <td>-0.339000</td>\n",
       "      <td>-0.476000</td>\n",
       "      <td>-0.472000</td>\n",
       "      <td>-0.460000</td>\n",
       "      <td>-0.290000</td>\n",
       "      <td>-0.349000</td>\n",
       "      <td>-0.593000</td>\n",
       "      <td>-0.432000</td>\n",
       "    </tr>\n",
       "    <tr>\n",
       "      <th>50%</th>\n",
       "      <td>0.065000</td>\n",
       "      <td>0.195000</td>\n",
       "      <td>-0.267000</td>\n",
       "      <td>0.220000</td>\n",
       "      <td>0.118000</td>\n",
       "      <td>0.437000</td>\n",
       "      <td>-0.082000</td>\n",
       "      <td>0.018000</td>\n",
       "      <td>-0.004000</td>\n",
       "      <td>0.401000</td>\n",
       "      <td>...</td>\n",
       "      <td>-0.445000</td>\n",
       "      <td>-0.199000</td>\n",
       "      <td>0.010000</td>\n",
       "      <td>0.100000</td>\n",
       "      <td>0.155000</td>\n",
       "      <td>-0.040000</td>\n",
       "      <td>0.160000</td>\n",
       "      <td>-0.270000</td>\n",
       "      <td>0.083000</td>\n",
       "      <td>0.152000</td>\n",
       "    </tr>\n",
       "    <tr>\n",
       "      <th>75%</th>\n",
       "      <td>0.549000</td>\n",
       "      <td>0.589000</td>\n",
       "      <td>0.278000</td>\n",
       "      <td>0.793000</td>\n",
       "      <td>0.610000</td>\n",
       "      <td>1.928000</td>\n",
       "      <td>0.457000</td>\n",
       "      <td>0.515000</td>\n",
       "      <td>0.482000</td>\n",
       "      <td>0.904000</td>\n",
       "      <td>...</td>\n",
       "      <td>-0.434000</td>\n",
       "      <td>0.468000</td>\n",
       "      <td>0.447000</td>\n",
       "      <td>0.471000</td>\n",
       "      <td>0.627000</td>\n",
       "      <td>0.419000</td>\n",
       "      <td>0.273000</td>\n",
       "      <td>0.364000</td>\n",
       "      <td>0.651000</td>\n",
       "      <td>0.797000</td>\n",
       "    </tr>\n",
       "    <tr>\n",
       "      <th>max</th>\n",
       "      <td>2.100000</td>\n",
       "      <td>2.120000</td>\n",
       "      <td>1.946000</td>\n",
       "      <td>2.603000</td>\n",
       "      <td>4.475000</td>\n",
       "      <td>3.176000</td>\n",
       "      <td>1.528000</td>\n",
       "      <td>1.394000</td>\n",
       "      <td>2.408000</td>\n",
       "      <td>1.766000</td>\n",
       "      <td>...</td>\n",
       "      <td>4.656000</td>\n",
       "      <td>3.022000</td>\n",
       "      <td>3.139000</td>\n",
       "      <td>1.428000</td>\n",
       "      <td>2.299000</td>\n",
       "      <td>5.465000</td>\n",
       "      <td>5.110000</td>\n",
       "      <td>1.671000</td>\n",
       "      <td>2.861000</td>\n",
       "      <td>3.021000</td>\n",
       "    </tr>\n",
       "  </tbody>\n",
       "</table>\n",
       "<p>8 rows × 38 columns</p>\n",
       "</div>"
      ],
      "text/plain": [
       "                V0           V1           V2           V3           V4  \\\n",
       "count  1925.000000  1925.000000  1925.000000  1925.000000  1925.000000   \n",
       "mean     -0.184404    -0.083912    -0.434762     0.101671    -0.019172   \n",
       "std       1.073333     1.076670     0.969541     1.034925     1.147286   \n",
       "min      -4.814000    -5.488000    -4.283000    -3.276000    -4.921000   \n",
       "25%      -0.664000    -0.451000    -0.978000    -0.644000    -0.497000   \n",
       "50%       0.065000     0.195000    -0.267000     0.220000     0.118000   \n",
       "75%       0.549000     0.589000     0.278000     0.793000     0.610000   \n",
       "max       2.100000     2.120000     1.946000     2.603000     4.475000   \n",
       "\n",
       "                V5           V6           V7           V8           V9  ...  \\\n",
       "count  1925.000000  1925.000000  1925.000000  1925.000000  1925.000000  ...   \n",
       "mean      0.838049    -0.274092    -0.173971    -0.266709     0.255114  ...   \n",
       "std       0.963043     1.054119     1.040101     1.085916     1.014394  ...   \n",
       "min      -1.168000    -5.649000    -5.625000    -6.059000    -6.784000  ...   \n",
       "25%       0.122000    -0.732000    -0.509000    -0.775000    -0.390000  ...   \n",
       "50%       0.437000    -0.082000     0.018000    -0.004000     0.401000  ...   \n",
       "75%       1.928000     0.457000     0.515000     0.482000     0.904000  ...   \n",
       "max       3.176000     1.528000     1.394000     2.408000     1.766000  ...   \n",
       "\n",
       "               V28          V29          V30          V31          V32  \\\n",
       "count  1925.000000  1925.000000  1925.000000  1925.000000  1925.000000   \n",
       "mean     -0.206871    -0.146463    -0.083215    -0.191729    -0.030782   \n",
       "std       1.064140     0.880593     1.126414     1.138454     1.130228   \n",
       "min      -2.435000    -2.413000    -4.507000    -7.698000    -4.057000   \n",
       "25%      -0.453000    -0.818000    -0.339000    -0.476000    -0.472000   \n",
       "50%      -0.445000    -0.199000     0.010000     0.100000     0.155000   \n",
       "75%      -0.434000     0.468000     0.447000     0.471000     0.627000   \n",
       "max       4.656000     3.022000     3.139000     1.428000     2.299000   \n",
       "\n",
       "               V33          V34          V35          V36          V37  \n",
       "count  1925.000000  1925.000000  1925.000000  1925.000000  1925.000000  \n",
       "mean     -0.011433    -0.009985    -0.296895    -0.046270     0.195735  \n",
       "std       0.989732     0.995213     0.946896     1.040854     0.940599  \n",
       "min      -4.627000    -4.789000    -7.477000    -2.608000    -3.346000  \n",
       "25%      -0.460000    -0.290000    -0.349000    -0.593000    -0.432000  \n",
       "50%      -0.040000     0.160000    -0.270000     0.083000     0.152000  \n",
       "75%       0.419000     0.273000     0.364000     0.651000     0.797000  \n",
       "max       5.465000     5.110000     1.671000     2.861000     3.021000  \n",
       "\n",
       "[8 rows x 38 columns]"
      ]
     },
     "execution_count": 62,
     "metadata": {},
     "output_type": "execute_result"
    }
   ],
   "source": [
    "test_data.describe()"
   ]
  },
  {
   "cell_type": "markdown",
   "metadata": {
    "id": "74CE61A428AD4EDE8DA3DB0C4FCEA115",
    "jupyter": {},
    "notebookId": "641dabcafeb4fe02b2cd3ede",
    "runtime": {
     "execution_status": null,
     "status": "default"
    },
    "scrolled": false,
    "slideshow": {
     "slide_type": "slide"
    },
    "tags": []
   },
   "source": [
    "上面数据显示了数据的统计信息，例如样本数，数据的均值mean，标准差std，最小值，最大值等"
   ]
  },
  {
   "cell_type": "code",
   "execution_count": 63,
   "metadata": {
    "collapsed": false,
    "execution": {
     "iopub.execute_input": "2023-03-23T10:10:24.394285Z",
     "iopub.status.busy": "2023-03-23T10:10:24.394011Z",
     "iopub.status.idle": "2023-03-23T10:10:24.413260Z",
     "shell.execute_reply": "2023-03-23T10:10:24.412707Z",
     "shell.execute_reply.started": "2023-03-23T10:10:24.394261Z"
    },
    "id": "17A12CF40A6B4777B9176A9A5914A555",
    "jupyter": {
     "outputs_hidden": false
    },
    "notebookId": "641dabcafeb4fe02b2cd3ede",
    "scrolled": true,
    "slideshow": {
     "slide_type": "slide"
    },
    "tags": []
   },
   "outputs": [
    {
     "data": {
      "text/html": [
       "<div>\n",
       "<style scoped>\n",
       "    .dataframe tbody tr th:only-of-type {\n",
       "        vertical-align: middle;\n",
       "    }\n",
       "\n",
       "    .dataframe tbody tr th {\n",
       "        vertical-align: top;\n",
       "    }\n",
       "\n",
       "    .dataframe thead th {\n",
       "        text-align: right;\n",
       "    }\n",
       "</style>\n",
       "<table border=\"1\" class=\"dataframe\">\n",
       "  <thead>\n",
       "    <tr style=\"text-align: right;\">\n",
       "      <th></th>\n",
       "      <th>V0</th>\n",
       "      <th>V1</th>\n",
       "      <th>V2</th>\n",
       "      <th>V3</th>\n",
       "      <th>V4</th>\n",
       "      <th>V5</th>\n",
       "      <th>V6</th>\n",
       "      <th>V7</th>\n",
       "      <th>V8</th>\n",
       "      <th>V9</th>\n",
       "      <th>...</th>\n",
       "      <th>V29</th>\n",
       "      <th>V30</th>\n",
       "      <th>V31</th>\n",
       "      <th>V32</th>\n",
       "      <th>V33</th>\n",
       "      <th>V34</th>\n",
       "      <th>V35</th>\n",
       "      <th>V36</th>\n",
       "      <th>V37</th>\n",
       "      <th>target</th>\n",
       "    </tr>\n",
       "  </thead>\n",
       "  <tbody>\n",
       "    <tr>\n",
       "      <th>0</th>\n",
       "      <td>0.566</td>\n",
       "      <td>0.016</td>\n",
       "      <td>-0.143</td>\n",
       "      <td>0.407</td>\n",
       "      <td>0.452</td>\n",
       "      <td>-0.901</td>\n",
       "      <td>-1.812</td>\n",
       "      <td>-2.360</td>\n",
       "      <td>-0.436</td>\n",
       "      <td>-2.114</td>\n",
       "      <td>...</td>\n",
       "      <td>0.136</td>\n",
       "      <td>0.109</td>\n",
       "      <td>-0.615</td>\n",
       "      <td>0.327</td>\n",
       "      <td>-4.627</td>\n",
       "      <td>-4.789</td>\n",
       "      <td>-5.101</td>\n",
       "      <td>-2.608</td>\n",
       "      <td>-3.508</td>\n",
       "      <td>0.175</td>\n",
       "    </tr>\n",
       "    <tr>\n",
       "      <th>1</th>\n",
       "      <td>0.968</td>\n",
       "      <td>0.437</td>\n",
       "      <td>0.066</td>\n",
       "      <td>0.566</td>\n",
       "      <td>0.194</td>\n",
       "      <td>-0.893</td>\n",
       "      <td>-1.566</td>\n",
       "      <td>-2.360</td>\n",
       "      <td>0.332</td>\n",
       "      <td>-2.114</td>\n",
       "      <td>...</td>\n",
       "      <td>-0.128</td>\n",
       "      <td>0.124</td>\n",
       "      <td>0.032</td>\n",
       "      <td>0.600</td>\n",
       "      <td>-0.843</td>\n",
       "      <td>0.160</td>\n",
       "      <td>0.364</td>\n",
       "      <td>-0.335</td>\n",
       "      <td>-0.730</td>\n",
       "      <td>0.676</td>\n",
       "    </tr>\n",
       "    <tr>\n",
       "      <th>2</th>\n",
       "      <td>1.013</td>\n",
       "      <td>0.568</td>\n",
       "      <td>0.235</td>\n",
       "      <td>0.370</td>\n",
       "      <td>0.112</td>\n",
       "      <td>-0.797</td>\n",
       "      <td>-1.367</td>\n",
       "      <td>-2.360</td>\n",
       "      <td>0.396</td>\n",
       "      <td>-2.114</td>\n",
       "      <td>...</td>\n",
       "      <td>-0.009</td>\n",
       "      <td>0.361</td>\n",
       "      <td>0.277</td>\n",
       "      <td>-0.116</td>\n",
       "      <td>-0.843</td>\n",
       "      <td>0.160</td>\n",
       "      <td>0.364</td>\n",
       "      <td>0.765</td>\n",
       "      <td>-0.589</td>\n",
       "      <td>0.633</td>\n",
       "    </tr>\n",
       "    <tr>\n",
       "      <th>3</th>\n",
       "      <td>0.733</td>\n",
       "      <td>0.368</td>\n",
       "      <td>0.283</td>\n",
       "      <td>0.165</td>\n",
       "      <td>0.599</td>\n",
       "      <td>-0.679</td>\n",
       "      <td>-1.200</td>\n",
       "      <td>-2.086</td>\n",
       "      <td>0.403</td>\n",
       "      <td>-2.114</td>\n",
       "      <td>...</td>\n",
       "      <td>0.015</td>\n",
       "      <td>0.417</td>\n",
       "      <td>0.279</td>\n",
       "      <td>0.603</td>\n",
       "      <td>-0.843</td>\n",
       "      <td>-0.065</td>\n",
       "      <td>0.364</td>\n",
       "      <td>0.333</td>\n",
       "      <td>-0.112</td>\n",
       "      <td>0.206</td>\n",
       "    </tr>\n",
       "    <tr>\n",
       "      <th>4</th>\n",
       "      <td>0.684</td>\n",
       "      <td>0.638</td>\n",
       "      <td>0.260</td>\n",
       "      <td>0.209</td>\n",
       "      <td>0.337</td>\n",
       "      <td>-0.454</td>\n",
       "      <td>-1.073</td>\n",
       "      <td>-2.086</td>\n",
       "      <td>0.314</td>\n",
       "      <td>-2.114</td>\n",
       "      <td>...</td>\n",
       "      <td>0.183</td>\n",
       "      <td>1.078</td>\n",
       "      <td>0.328</td>\n",
       "      <td>0.418</td>\n",
       "      <td>-0.843</td>\n",
       "      <td>-0.215</td>\n",
       "      <td>0.364</td>\n",
       "      <td>-0.280</td>\n",
       "      <td>-0.028</td>\n",
       "      <td>0.384</td>\n",
       "    </tr>\n",
       "  </tbody>\n",
       "</table>\n",
       "<p>5 rows × 39 columns</p>\n",
       "</div>"
      ],
      "text/plain": [
       "      V0     V1     V2     V3     V4     V5     V6     V7     V8     V9  ...  \\\n",
       "0  0.566  0.016 -0.143  0.407  0.452 -0.901 -1.812 -2.360 -0.436 -2.114  ...   \n",
       "1  0.968  0.437  0.066  0.566  0.194 -0.893 -1.566 -2.360  0.332 -2.114  ...   \n",
       "2  1.013  0.568  0.235  0.370  0.112 -0.797 -1.367 -2.360  0.396 -2.114  ...   \n",
       "3  0.733  0.368  0.283  0.165  0.599 -0.679 -1.200 -2.086  0.403 -2.114  ...   \n",
       "4  0.684  0.638  0.260  0.209  0.337 -0.454 -1.073 -2.086  0.314 -2.114  ...   \n",
       "\n",
       "     V29    V30    V31    V32    V33    V34    V35    V36    V37  target  \n",
       "0  0.136  0.109 -0.615  0.327 -4.627 -4.789 -5.101 -2.608 -3.508   0.175  \n",
       "1 -0.128  0.124  0.032  0.600 -0.843  0.160  0.364 -0.335 -0.730   0.676  \n",
       "2 -0.009  0.361  0.277 -0.116 -0.843  0.160  0.364  0.765 -0.589   0.633  \n",
       "3  0.015  0.417  0.279  0.603 -0.843 -0.065  0.364  0.333 -0.112   0.206  \n",
       "4  0.183  1.078  0.328  0.418 -0.843 -0.215  0.364 -0.280 -0.028   0.384  \n",
       "\n",
       "[5 rows x 39 columns]"
      ]
     },
     "execution_count": 63,
     "metadata": {},
     "output_type": "execute_result"
    }
   ],
   "source": [
    "# 查看数据字段信息\n",
    "train_data.head()"
   ]
  },
  {
   "cell_type": "markdown",
   "metadata": {
    "id": "DD9ECD23126E4EE29EB226C306FB8E29",
    "jupyter": {},
    "notebookId": "641dabcafeb4fe02b2cd3ede",
    "runtime": {
     "execution_status": null,
     "status": "default"
    },
    "scrolled": false,
    "slideshow": {
     "slide_type": "slide"
    },
    "tags": []
   },
   "source": [
    "上面显示训练集前5条数据的基本信息，可以看到数据都是浮点型数据，数据都是数值型连续型特征"
   ]
  },
  {
   "cell_type": "code",
   "execution_count": 64,
   "metadata": {
    "collapsed": false,
    "execution": {
     "iopub.execute_input": "2023-03-23T10:10:24.415837Z",
     "iopub.status.busy": "2023-03-23T10:10:24.415517Z",
     "iopub.status.idle": "2023-03-23T10:10:24.434082Z",
     "shell.execute_reply": "2023-03-23T10:10:24.433568Z",
     "shell.execute_reply.started": "2023-03-23T10:10:24.415817Z"
    },
    "id": "71BA347573B9408B957E0F0FBF004775",
    "jupyter": {
     "outputs_hidden": false
    },
    "notebookId": "641dabcafeb4fe02b2cd3ede",
    "scrolled": true,
    "slideshow": {
     "slide_type": "slide"
    },
    "tags": []
   },
   "outputs": [
    {
     "data": {
      "text/html": [
       "<div>\n",
       "<style scoped>\n",
       "    .dataframe tbody tr th:only-of-type {\n",
       "        vertical-align: middle;\n",
       "    }\n",
       "\n",
       "    .dataframe tbody tr th {\n",
       "        vertical-align: top;\n",
       "    }\n",
       "\n",
       "    .dataframe thead th {\n",
       "        text-align: right;\n",
       "    }\n",
       "</style>\n",
       "<table border=\"1\" class=\"dataframe\">\n",
       "  <thead>\n",
       "    <tr style=\"text-align: right;\">\n",
       "      <th></th>\n",
       "      <th>V0</th>\n",
       "      <th>V1</th>\n",
       "      <th>V2</th>\n",
       "      <th>V3</th>\n",
       "      <th>V4</th>\n",
       "      <th>V5</th>\n",
       "      <th>V6</th>\n",
       "      <th>V7</th>\n",
       "      <th>V8</th>\n",
       "      <th>V9</th>\n",
       "      <th>...</th>\n",
       "      <th>V28</th>\n",
       "      <th>V29</th>\n",
       "      <th>V30</th>\n",
       "      <th>V31</th>\n",
       "      <th>V32</th>\n",
       "      <th>V33</th>\n",
       "      <th>V34</th>\n",
       "      <th>V35</th>\n",
       "      <th>V36</th>\n",
       "      <th>V37</th>\n",
       "    </tr>\n",
       "  </thead>\n",
       "  <tbody>\n",
       "    <tr>\n",
       "      <th>0</th>\n",
       "      <td>0.368</td>\n",
       "      <td>0.380</td>\n",
       "      <td>-0.225</td>\n",
       "      <td>-0.049</td>\n",
       "      <td>0.379</td>\n",
       "      <td>0.092</td>\n",
       "      <td>0.550</td>\n",
       "      <td>0.551</td>\n",
       "      <td>0.244</td>\n",
       "      <td>0.904</td>\n",
       "      <td>...</td>\n",
       "      <td>-0.449</td>\n",
       "      <td>0.047</td>\n",
       "      <td>0.057</td>\n",
       "      <td>-0.042</td>\n",
       "      <td>0.847</td>\n",
       "      <td>0.534</td>\n",
       "      <td>-0.009</td>\n",
       "      <td>-0.190</td>\n",
       "      <td>-0.567</td>\n",
       "      <td>0.388</td>\n",
       "    </tr>\n",
       "    <tr>\n",
       "      <th>1</th>\n",
       "      <td>0.148</td>\n",
       "      <td>0.489</td>\n",
       "      <td>-0.247</td>\n",
       "      <td>-0.049</td>\n",
       "      <td>0.122</td>\n",
       "      <td>-0.201</td>\n",
       "      <td>0.487</td>\n",
       "      <td>0.493</td>\n",
       "      <td>-0.127</td>\n",
       "      <td>0.904</td>\n",
       "      <td>...</td>\n",
       "      <td>-0.443</td>\n",
       "      <td>0.047</td>\n",
       "      <td>0.560</td>\n",
       "      <td>0.176</td>\n",
       "      <td>0.551</td>\n",
       "      <td>0.046</td>\n",
       "      <td>-0.220</td>\n",
       "      <td>0.008</td>\n",
       "      <td>-0.294</td>\n",
       "      <td>0.104</td>\n",
       "    </tr>\n",
       "    <tr>\n",
       "      <th>2</th>\n",
       "      <td>-0.166</td>\n",
       "      <td>-0.062</td>\n",
       "      <td>-0.311</td>\n",
       "      <td>0.046</td>\n",
       "      <td>-0.055</td>\n",
       "      <td>0.063</td>\n",
       "      <td>0.485</td>\n",
       "      <td>0.493</td>\n",
       "      <td>-0.227</td>\n",
       "      <td>0.904</td>\n",
       "      <td>...</td>\n",
       "      <td>-0.458</td>\n",
       "      <td>-0.398</td>\n",
       "      <td>0.101</td>\n",
       "      <td>0.199</td>\n",
       "      <td>0.634</td>\n",
       "      <td>0.017</td>\n",
       "      <td>-0.234</td>\n",
       "      <td>0.008</td>\n",
       "      <td>0.373</td>\n",
       "      <td>0.569</td>\n",
       "    </tr>\n",
       "    <tr>\n",
       "      <th>3</th>\n",
       "      <td>0.102</td>\n",
       "      <td>0.294</td>\n",
       "      <td>-0.259</td>\n",
       "      <td>0.051</td>\n",
       "      <td>-0.183</td>\n",
       "      <td>0.148</td>\n",
       "      <td>0.474</td>\n",
       "      <td>0.504</td>\n",
       "      <td>0.010</td>\n",
       "      <td>0.904</td>\n",
       "      <td>...</td>\n",
       "      <td>-0.456</td>\n",
       "      <td>-0.398</td>\n",
       "      <td>1.007</td>\n",
       "      <td>0.137</td>\n",
       "      <td>1.042</td>\n",
       "      <td>-0.040</td>\n",
       "      <td>-0.290</td>\n",
       "      <td>0.008</td>\n",
       "      <td>-0.666</td>\n",
       "      <td>0.391</td>\n",
       "    </tr>\n",
       "    <tr>\n",
       "      <th>4</th>\n",
       "      <td>0.300</td>\n",
       "      <td>0.428</td>\n",
       "      <td>0.208</td>\n",
       "      <td>0.051</td>\n",
       "      <td>-0.033</td>\n",
       "      <td>0.116</td>\n",
       "      <td>0.408</td>\n",
       "      <td>0.497</td>\n",
       "      <td>0.155</td>\n",
       "      <td>0.904</td>\n",
       "      <td>...</td>\n",
       "      <td>-0.458</td>\n",
       "      <td>-0.776</td>\n",
       "      <td>0.291</td>\n",
       "      <td>0.370</td>\n",
       "      <td>0.181</td>\n",
       "      <td>-0.040</td>\n",
       "      <td>-0.290</td>\n",
       "      <td>0.008</td>\n",
       "      <td>-0.140</td>\n",
       "      <td>-0.497</td>\n",
       "    </tr>\n",
       "  </tbody>\n",
       "</table>\n",
       "<p>5 rows × 38 columns</p>\n",
       "</div>"
      ],
      "text/plain": [
       "      V0     V1     V2     V3     V4     V5     V6     V7     V8     V9  ...  \\\n",
       "0  0.368  0.380 -0.225 -0.049  0.379  0.092  0.550  0.551  0.244  0.904  ...   \n",
       "1  0.148  0.489 -0.247 -0.049  0.122 -0.201  0.487  0.493 -0.127  0.904  ...   \n",
       "2 -0.166 -0.062 -0.311  0.046 -0.055  0.063  0.485  0.493 -0.227  0.904  ...   \n",
       "3  0.102  0.294 -0.259  0.051 -0.183  0.148  0.474  0.504  0.010  0.904  ...   \n",
       "4  0.300  0.428  0.208  0.051 -0.033  0.116  0.408  0.497  0.155  0.904  ...   \n",
       "\n",
       "     V28    V29    V30    V31    V32    V33    V34    V35    V36    V37  \n",
       "0 -0.449  0.047  0.057 -0.042  0.847  0.534 -0.009 -0.190 -0.567  0.388  \n",
       "1 -0.443  0.047  0.560  0.176  0.551  0.046 -0.220  0.008 -0.294  0.104  \n",
       "2 -0.458 -0.398  0.101  0.199  0.634  0.017 -0.234  0.008  0.373  0.569  \n",
       "3 -0.456 -0.398  1.007  0.137  1.042 -0.040 -0.290  0.008 -0.666  0.391  \n",
       "4 -0.458 -0.776  0.291  0.370  0.181 -0.040 -0.290  0.008 -0.140 -0.497  \n",
       "\n",
       "[5 rows x 38 columns]"
      ]
     },
     "execution_count": 64,
     "metadata": {},
     "output_type": "execute_result"
    }
   ],
   "source": [
    "test_data.head()"
   ]
  },
  {
   "cell_type": "markdown",
   "metadata": {
    "id": "97966FF3ADF641CDA519ED20A8B15EF8",
    "jupyter": {},
    "notebookId": "641dabcafeb4fe02b2cd3ede",
    "runtime": {
     "execution_status": null,
     "status": "default"
    },
    "scrolled": false,
    "slideshow": {
     "slide_type": "slide"
    },
    "tags": []
   },
   "source": [
    "## 1.2 可视化探索数据"
   ]
  },
  {
   "cell_type": "code",
   "execution_count": 65,
   "metadata": {
    "collapsed": false,
    "execution": {
     "iopub.execute_input": "2023-03-23T10:10:24.435098Z",
     "iopub.status.busy": "2023-03-23T10:10:24.434797Z",
     "iopub.status.idle": "2023-03-23T10:10:24.660707Z",
     "shell.execute_reply": "2023-03-23T10:10:24.660061Z",
     "shell.execute_reply.started": "2023-03-23T10:10:24.435078Z"
    },
    "id": "360F7B4E84E04A3EAB58C08F5ABAC51A",
    "jupyter": {
     "outputs_hidden": false
    },
    "notebookId": "641dabcafeb4fe02b2cd3ede",
    "scrolled": true,
    "slideshow": {
     "slide_type": "slide"
    },
    "tags": []
   },
   "outputs": [
    {
     "data": {
      "text/plain": [
       "<matplotlib.axes._subplots.AxesSubplot at 0x7f3693d6a790>"
      ]
     },
     "execution_count": 65,
     "metadata": {},
     "output_type": "execute_result"
    },
    {
     "data": {
      "text/html": [
       "<img src=\"https://cdn.kesci.com/upload/rt/360F7B4E84E04A3EAB58C08F5ABAC51A/rs13f5tkll.png\">"
      ],
      "text/plain": [
       "<Figure size 288x432 with 1 Axes>"
      ]
     },
     "metadata": {
      "needs_background": "light"
     },
     "output_type": "display_data"
    }
   ],
   "source": [
    "fig = plt.figure(figsize=(4, 6))  # 指定绘图对象宽度和高度\n",
    "sns.boxplot(train_data['V0'],orient=\"v\", width=0.5)"
   ]
  },
  {
   "cell_type": "code",
   "execution_count": 66,
   "metadata": {
    "collapsed": false,
    "execution": {
     "iopub.execute_input": "2023-03-23T10:10:24.661948Z",
     "iopub.status.busy": "2023-03-23T10:10:24.661657Z",
     "iopub.status.idle": "2023-03-23T10:10:24.664856Z",
     "shell.execute_reply": "2023-03-23T10:10:24.664287Z",
     "shell.execute_reply.started": "2023-03-23T10:10:24.661926Z"
    },
    "id": "4078D9FE2C864C179FE51D67E563CF4E",
    "jupyter": {
     "outputs_hidden": false
    },
    "notebookId": "641dabcafeb4fe02b2cd3ede",
    "scrolled": true,
    "slideshow": {
     "slide_type": "slide"
    },
    "tags": []
   },
   "outputs": [],
   "source": [
    "# 画箱式图\n",
    "# column = train_data.columns.tolist()[:39]  # 列表头\n",
    "# fig = plt.figure(figsize=(20, 40))  # 指定绘图对象宽度和高度\n",
    "# for i in range(38):\n",
    "#     plt.subplot(13, 3, i + 1)  # 13行3列子图\n",
    "#     sns.boxplot(train_data[column[i]], orient=\"v\", width=0.5)  # 箱式图\n",
    "#     plt.ylabel(column[i], fontsize=8)\n",
    "# plt.show()\n",
    "#箱图自行打开"
   ]
  },
  {
   "cell_type": "markdown",
   "metadata": {
    "id": "F50CF4C259114122875E5F667F5AC68D",
    "jupyter": {},
    "notebookId": "641dabcafeb4fe02b2cd3ede",
    "runtime": {
     "execution_status": null,
     "status": "default"
    },
    "scrolled": false,
    "slideshow": {
     "slide_type": "slide"
    },
    "tags": []
   },
   "source": [
    "查看数据分布图  \n",
    "- 查看特征变量‘V0’的数据分布直方图，并绘制Q-Q图查看数据是否近似于正态分布"
   ]
  },
  {
   "cell_type": "code",
   "execution_count": 67,
   "metadata": {
    "collapsed": false,
    "execution": {
     "iopub.execute_input": "2023-03-23T10:10:24.665979Z",
     "iopub.status.busy": "2023-03-23T10:10:24.665583Z",
     "iopub.status.idle": "2023-03-23T10:10:25.068128Z",
     "shell.execute_reply": "2023-03-23T10:10:25.067497Z",
     "shell.execute_reply.started": "2023-03-23T10:10:24.665959Z"
    },
    "id": "EA789651ED4E48CDB556ABE652AE251D",
    "jupyter": {
     "outputs_hidden": false
    },
    "notebookId": "641dabcafeb4fe02b2cd3ede",
    "scrolled": true,
    "slideshow": {
     "slide_type": "slide"
    },
    "tags": []
   },
   "outputs": [
    {
     "data": {
      "text/html": [
       "<img src=\"https://cdn.kesci.com/upload/rt/EA789651ED4E48CDB556ABE652AE251D/rs13f5xoq3.png\">"
      ],
      "text/plain": [
       "<Figure size 720x360 with 2 Axes>"
      ]
     },
     "metadata": {
      "needs_background": "light"
     },
     "output_type": "display_data"
    }
   ],
   "source": [
    "plt.figure(figsize=(10,5))\n",
    "\n",
    "ax=plt.subplot(1,2,1)\n",
    "sns.distplot(train_data['V0'],fit=stats.norm)\n",
    "ax=plt.subplot(1,2,2)\n",
    "res = stats.probplot(train_data['V0'], plot=plt)"
   ]
  },
  {
   "cell_type": "markdown",
   "metadata": {
    "id": "E999A168E9CF4B12A191A1956680E720",
    "jupyter": {},
    "notebookId": "641dabcafeb4fe02b2cd3ede",
    "runtime": {
     "execution_status": null,
     "status": "default"
    },
    "scrolled": false,
    "slideshow": {
     "slide_type": "slide"
    },
    "tags": []
   },
   "source": [
    "查看查看所有数据的直方图和Q-Q图，查看训练集的数据是否近似于正态分布"
   ]
  },
  {
   "cell_type": "code",
   "execution_count": 68,
   "metadata": {
    "collapsed": false,
    "execution": {
     "iopub.execute_input": "2023-03-23T10:10:25.069300Z",
     "iopub.status.busy": "2023-03-23T10:10:25.069013Z",
     "iopub.status.idle": "2023-03-23T10:10:25.072030Z",
     "shell.execute_reply": "2023-03-23T10:10:25.071500Z",
     "shell.execute_reply.started": "2023-03-23T10:10:25.069277Z"
    },
    "id": "739AAAB1DA3A452AA84865F7389AB5B5",
    "jupyter": {
     "outputs_hidden": false
    },
    "notebookId": "641dabcafeb4fe02b2cd3ede",
    "scrolled": true,
    "slideshow": {
     "slide_type": "slide"
    },
    "tags": []
   },
   "outputs": [],
   "source": [
    "# train_cols = 6\n",
    "# train_rows = len(train_data.columns)\n",
    "# plt.figure(figsize=(4*train_cols,4*train_rows))\n",
    "\n",
    "# i=0\n",
    "# for col in train_data.columns:\n",
    "#     i+=1\n",
    "#     ax=plt.subplot(train_rows,train_cols,i)\n",
    "#     sns.distplot(train_data[col],fit=stats.norm)\n",
    "    \n",
    "#     i+=1\n",
    "#     ax=plt.subplot(train_rows,train_cols,i)\n",
    "#     res = stats.probplot(train_data[col], plot=plt)\n",
    "# plt.show()\n",
    "#QQ图自行打开"
   ]
  },
  {
   "cell_type": "markdown",
   "metadata": {
    "id": "D3AEC30747C2472BB8B43C0F1C7895A6",
    "jupyter": {},
    "notebookId": "641dabcafeb4fe02b2cd3ede",
    "runtime": {
     "execution_status": null,
     "status": "default"
    },
    "scrolled": false,
    "slideshow": {
     "slide_type": "slide"
    },
    "tags": []
   },
   "source": [
    "由上面的数据分布图信息可以看出，很多特征变量（如'V1','V9','V24','V28'等）的数据分布不是正态的，数据并不跟随对角线，后续可以使用数据变换对数据进行转换。  \n",
    "\n",
    "对比同一特征变量‘V0’下，训练集数据和测试集数据的分布情况，查看数据分布是否一致"
   ]
  },
  {
   "cell_type": "code",
   "execution_count": 69,
   "metadata": {
    "collapsed": false,
    "execution": {
     "iopub.execute_input": "2023-03-23T10:10:25.072991Z",
     "iopub.status.busy": "2023-03-23T10:10:25.072726Z",
     "iopub.status.idle": "2023-03-23T10:10:25.456712Z",
     "shell.execute_reply": "2023-03-23T10:10:25.456074Z",
     "shell.execute_reply.started": "2023-03-23T10:10:25.072970Z"
    },
    "id": "C5A5A1B3D95B42A6BB220F07BA9C3834",
    "jupyter": {
     "outputs_hidden": false
    },
    "notebookId": "641dabcafeb4fe02b2cd3ede",
    "scrolled": true,
    "slideshow": {
     "slide_type": "slide"
    },
    "tags": []
   },
   "outputs": [
    {
     "data": {
      "text/html": [
       "<img src=\"https://cdn.kesci.com/upload/rt/C5A5A1B3D95B42A6BB220F07BA9C3834/rs13f5opkj.png\">"
      ],
      "text/plain": [
       "<Figure size 432x288 with 1 Axes>"
      ]
     },
     "metadata": {
      "needs_background": "light"
     },
     "output_type": "display_data"
    }
   ],
   "source": [
    "ax = sns.kdeplot(train_data['V0'], color=\"Red\", shade=True)\n",
    "ax = sns.kdeplot(test_data['V0'], color=\"Blue\", shade=True)\n",
    "ax.set_xlabel('V0')\n",
    "ax.set_ylabel(\"Frequency\")\n",
    "ax = ax.legend([\"train\",\"test\"])"
   ]
  },
  {
   "cell_type": "markdown",
   "metadata": {
    "id": "EA489682190B487DB101B8B48FD83D76",
    "jupyter": {},
    "notebookId": "641dabcafeb4fe02b2cd3ede",
    "runtime": {
     "execution_status": null,
     "status": "default"
    },
    "scrolled": false,
    "slideshow": {
     "slide_type": "slide"
    },
    "tags": []
   },
   "source": [
    "查看所有特征变量下，训练集数据和测试集数据的分布情况，分析并寻找出数据分布不一致的特征变量。"
   ]
  },
  {
   "cell_type": "code",
   "execution_count": 70,
   "metadata": {
    "collapsed": false,
    "execution": {
     "iopub.execute_input": "2023-03-23T10:10:25.457898Z",
     "iopub.status.busy": "2023-03-23T10:10:25.457609Z",
     "iopub.status.idle": "2023-03-23T10:10:25.460731Z",
     "shell.execute_reply": "2023-03-23T10:10:25.460191Z",
     "shell.execute_reply.started": "2023-03-23T10:10:25.457876Z"
    },
    "id": "EC234E6764DA4918820D917C9F66A998",
    "jupyter": {
     "outputs_hidden": false
    },
    "notebookId": "641dabcafeb4fe02b2cd3ede",
    "scrolled": true,
    "slideshow": {
     "slide_type": "slide"
    },
    "tags": []
   },
   "outputs": [],
   "source": [
    "# dist_cols = 6\n",
    "# dist_rows = len(test_data.columns)\n",
    "# plt.figure(figsize=(4*dist_cols,4*dist_rows))\n",
    "\n",
    "# i=1\n",
    "# for col in test_data.columns:\n",
    "#     ax=plt.subplot(dist_rows,dist_cols,i)\n",
    "#     ax = sns.kdeplot(train_data[col], color=\"Red\", shade=True)\n",
    "#     ax = sns.kdeplot(test_data[col], color=\"Blue\", shade=True)\n",
    "#     ax.set_xlabel(col)\n",
    "#     ax.set_ylabel(\"Frequency\")\n",
    "#     ax = ax.legend([\"train\",\"test\"])\n",
    "    \n",
    "#     i+=1\n",
    "# plt.show()\n",
    "#自行打开"
   ]
  },
  {
   "cell_type": "markdown",
   "metadata": {
    "id": "FAFF2520ACBE4155AE73A8D824B29A6B",
    "jupyter": {},
    "notebookId": "641dabcafeb4fe02b2cd3ede",
    "runtime": {
     "execution_status": null,
     "status": "default"
    },
    "scrolled": false,
    "slideshow": {
     "slide_type": "slide"
    },
    "tags": []
   },
   "source": [
    "查看特征'V5', 'V17', 'V28', 'V22', 'V11', 'V9'数据的数据分布"
   ]
  },
  {
   "cell_type": "code",
   "execution_count": 71,
   "metadata": {
    "collapsed": false,
    "execution": {
     "iopub.execute_input": "2023-03-23T10:10:25.461727Z",
     "iopub.status.busy": "2023-03-23T10:10:25.461474Z",
     "iopub.status.idle": "2023-03-23T10:10:26.388479Z",
     "shell.execute_reply": "2023-03-23T10:10:26.387843Z",
     "shell.execute_reply.started": "2023-03-23T10:10:25.461705Z"
    },
    "id": "1F6FBF9102FE44A597FF6D7E1CB5741B",
    "jupyter": {
     "outputs_hidden": false
    },
    "notebookId": "641dabcafeb4fe02b2cd3ede",
    "scrolled": true,
    "slideshow": {
     "slide_type": "slide"
    },
    "tags": []
   },
   "outputs": [
    {
     "data": {
      "text/html": [
       "<img src=\"https://cdn.kesci.com/upload/rt/1F6FBF9102FE44A597FF6D7E1CB5741B/rs13f62lnn.png\">"
      ],
      "text/plain": [
       "<Figure size 2160x360 with 6 Axes>"
      ]
     },
     "metadata": {
      "needs_background": "light"
     },
     "output_type": "display_data"
    }
   ],
   "source": [
    "drop_col = 6\n",
    "drop_row = 1\n",
    "\n",
    "plt.figure(figsize=(5*drop_col,5*drop_row))\n",
    "\n",
    "i=1\n",
    "for col in [\"V5\",\"V9\",\"V11\",\"V17\",\"V22\",\"V28\"]:\n",
    "    ax =plt.subplot(drop_row,drop_col,i)\n",
    "    ax = sns.kdeplot(train_data[col], color=\"Red\", shade=True)\n",
    "    ax = sns.kdeplot(test_data[col], color=\"Blue\", shade=True)\n",
    "    ax.set_xlabel(col)\n",
    "    ax.set_ylabel(\"Frequency\")\n",
    "    ax = ax.legend([\"train\",\"test\"])\n",
    "    \n",
    "    i+=1\n",
    "plt.show()"
   ]
  },
  {
   "cell_type": "markdown",
   "metadata": {
    "id": "194DB419CFFB49C696F4BF2C0EB1CF2B",
    "jupyter": {},
    "notebookId": "641dabcafeb4fe02b2cd3ede",
    "runtime": {
     "execution_status": null,
     "status": "default"
    },
    "scrolled": false,
    "slideshow": {
     "slide_type": "slide"
    },
    "tags": []
   },
   "source": [
    "由上图的数据分布可以看到特征'V5','V9','V11','V17','V22','V28' 训练集数据与测试集数据分布不一致，会导致模型泛化能力差，采用删除此类特征方法。"
   ]
  },
  {
   "cell_type": "code",
   "execution_count": 72,
   "metadata": {
    "collapsed": false,
    "execution": {
     "iopub.execute_input": "2023-03-23T10:10:26.389773Z",
     "iopub.status.busy": "2023-03-23T10:10:26.389477Z",
     "iopub.status.idle": "2023-03-23T10:10:26.392734Z",
     "shell.execute_reply": "2023-03-23T10:10:26.392216Z",
     "shell.execute_reply.started": "2023-03-23T10:10:26.389749Z"
    },
    "id": "F429602E893444EB8FACD8BD5E4FE5AE",
    "jupyter": {
     "outputs_hidden": false
    },
    "notebookId": "641dabcafeb4fe02b2cd3ede",
    "scrolled": true,
    "slideshow": {
     "slide_type": "slide"
    },
    "tags": []
   },
   "outputs": [],
   "source": [
    "drop_columns = ['V5','V9','V11','V17','V22','V28']\n",
    "# 合并训练集和测试集数据，并可视化训练集和测试集数据特征分布图"
   ]
  },
  {
   "cell_type": "markdown",
   "metadata": {
    "id": "0686E0ACBE6A4E1C8DCEFFA810045400",
    "jupyter": {},
    "notebookId": "641dabcafeb4fe02b2cd3ede",
    "runtime": {
     "execution_status": null,
     "status": "default"
    },
    "scrolled": false,
    "slideshow": {
     "slide_type": "slide"
    },
    "tags": []
   },
   "source": [
    "**可视化线性回归关系**  \n",
    "- 查看特征变量‘V0’与'target'变量的线性回归关系"
   ]
  },
  {
   "cell_type": "code",
   "execution_count": 73,
   "metadata": {
    "collapsed": false,
    "execution": {
     "iopub.execute_input": "2023-03-23T10:10:26.393712Z",
     "iopub.status.busy": "2023-03-23T10:10:26.393465Z",
     "iopub.status.idle": "2023-03-23T10:10:26.940984Z",
     "shell.execute_reply": "2023-03-23T10:10:26.940154Z",
     "shell.execute_reply.started": "2023-03-23T10:10:26.393692Z"
    },
    "id": "FF6E663A0820467BBC609A100B93BF3B",
    "jupyter": {
     "outputs_hidden": false
    },
    "notebookId": "641dabcafeb4fe02b2cd3ede",
    "scrolled": true,
    "slideshow": {
     "slide_type": "slide"
    },
    "tags": []
   },
   "outputs": [
    {
     "data": {
      "text/html": [
       "<img src=\"https://cdn.kesci.com/upload/rt/FF6E663A0820467BBC609A100B93BF3B/rs13f7ico5.png\">"
      ],
      "text/plain": [
       "<Figure size 576x288 with 2 Axes>"
      ]
     },
     "metadata": {
      "needs_background": "light"
     },
     "output_type": "display_data"
    }
   ],
   "source": [
    "fcols = 2\n",
    "frows = 1\n",
    "\n",
    "plt.figure(figsize=(8,4))\n",
    "\n",
    "ax=plt.subplot(1,2,1)\n",
    "sns.regplot(x='V0', y='target', data=train_data, ax=ax, \n",
    "            scatter_kws={'marker':'.','s':3,'alpha':0.3},\n",
    "            line_kws={'color':'k'});\n",
    "plt.xlabel('V0')\n",
    "plt.ylabel('target')\n",
    "\n",
    "ax=plt.subplot(1,2,2)\n",
    "sns.distplot(train_data['V0'].dropna())\n",
    "plt.xlabel('V0')\n",
    "\n",
    "plt.show()"
   ]
  },
  {
   "cell_type": "markdown",
   "metadata": {
    "id": "B8E767DFDE254F75AC497A44B9BECB63",
    "jupyter": {},
    "notebookId": "641dabcafeb4fe02b2cd3ede",
    "runtime": {
     "execution_status": null,
     "status": "default"
    },
    "scrolled": false,
    "slideshow": {
     "slide_type": "slide"
    },
    "tags": []
   },
   "source": [
    "### 1.2.2 查看变量间线性回归关系"
   ]
  },
  {
   "cell_type": "code",
   "execution_count": 74,
   "metadata": {
    "collapsed": false,
    "execution": {
     "iopub.execute_input": "2023-03-23T10:10:26.942419Z",
     "iopub.status.busy": "2023-03-23T10:10:26.942060Z",
     "iopub.status.idle": "2023-03-23T10:10:26.945700Z",
     "shell.execute_reply": "2023-03-23T10:10:26.945044Z",
     "shell.execute_reply.started": "2023-03-23T10:10:26.942395Z"
    },
    "id": "BA688BBC4B014EB2A8692DC664B238CF",
    "jupyter": {
     "outputs_hidden": false
    },
    "notebookId": "641dabcafeb4fe02b2cd3ede",
    "scrolled": true,
    "slideshow": {
     "slide_type": "slide"
    },
    "tags": []
   },
   "outputs": [],
   "source": [
    "# fcols = 6\n",
    "# frows = len(test_data.columns)\n",
    "# plt.figure(figsize=(5*fcols,4*frows))\n",
    "\n",
    "# i=0\n",
    "# for col in test_data.columns:\n",
    "#     i+=1\n",
    "#     ax=plt.subplot(frows,fcols,i)\n",
    "#     sns.regplot(x=col, y='target', data=train_data, ax=ax, \n",
    "#                 scatter_kws={'marker':'.','s':3,'alpha':0.3},\n",
    "#                 line_kws={'color':'k'});\n",
    "#     plt.xlabel(col)\n",
    "#     plt.ylabel('target')\n",
    "    \n",
    "#     i+=1\n",
    "#     ax=plt.subplot(frows,fcols,i)\n",
    "#     sns.distplot(train_data[col].dropna())\n",
    "    # plt.xlabel(col)\n",
    "    #已注释图片生成，自行打开"
   ]
  },
  {
   "cell_type": "markdown",
   "metadata": {
    "id": "00EDB4F4A63D4002BCE45912C31FED64",
    "jupyter": {},
    "notebookId": "641dabcafeb4fe02b2cd3ede",
    "runtime": {
     "execution_status": null,
     "status": "default"
    },
    "scrolled": false,
    "slideshow": {
     "slide_type": "slide"
    },
    "tags": []
   },
   "source": [
    "###  1.2.2 查看特征变量的相关性"
   ]
  },
  {
   "cell_type": "code",
   "execution_count": 75,
   "metadata": {
    "collapsed": false,
    "execution": {
     "iopub.execute_input": "2023-03-23T10:10:26.947147Z",
     "iopub.status.busy": "2023-03-23T10:10:26.946569Z",
     "iopub.status.idle": "2023-03-23T10:10:26.988883Z",
     "shell.execute_reply": "2023-03-23T10:10:26.988250Z",
     "shell.execute_reply.started": "2023-03-23T10:10:26.947125Z"
    },
    "id": "A9D1F42833874EC19D6D5EB9CE6937E5",
    "jupyter": {
     "outputs_hidden": false
    },
    "notebookId": "641dabcafeb4fe02b2cd3ede",
    "scrolled": true,
    "slideshow": {
     "slide_type": "slide"
    },
    "tags": []
   },
   "outputs": [
    {
     "data": {
      "text/html": [
       "<div>\n",
       "<style scoped>\n",
       "    .dataframe tbody tr th:only-of-type {\n",
       "        vertical-align: middle;\n",
       "    }\n",
       "\n",
       "    .dataframe tbody tr th {\n",
       "        vertical-align: top;\n",
       "    }\n",
       "\n",
       "    .dataframe thead th {\n",
       "        text-align: right;\n",
       "    }\n",
       "</style>\n",
       "<table border=\"1\" class=\"dataframe\">\n",
       "  <thead>\n",
       "    <tr style=\"text-align: right;\">\n",
       "      <th></th>\n",
       "      <th>V0</th>\n",
       "      <th>V1</th>\n",
       "      <th>V2</th>\n",
       "      <th>V3</th>\n",
       "      <th>V4</th>\n",
       "      <th>V6</th>\n",
       "      <th>V7</th>\n",
       "      <th>V8</th>\n",
       "      <th>V10</th>\n",
       "      <th>V12</th>\n",
       "      <th>...</th>\n",
       "      <th>V29</th>\n",
       "      <th>V30</th>\n",
       "      <th>V31</th>\n",
       "      <th>V32</th>\n",
       "      <th>V33</th>\n",
       "      <th>V34</th>\n",
       "      <th>V35</th>\n",
       "      <th>V36</th>\n",
       "      <th>V37</th>\n",
       "      <th>target</th>\n",
       "    </tr>\n",
       "  </thead>\n",
       "  <tbody>\n",
       "    <tr>\n",
       "      <th>V0</th>\n",
       "      <td>1.000000</td>\n",
       "      <td>0.908607</td>\n",
       "      <td>0.463643</td>\n",
       "      <td>0.409576</td>\n",
       "      <td>0.781212</td>\n",
       "      <td>0.189267</td>\n",
       "      <td>0.141294</td>\n",
       "      <td>0.794013</td>\n",
       "      <td>0.298443</td>\n",
       "      <td>0.751830</td>\n",
       "      <td>...</td>\n",
       "      <td>0.302145</td>\n",
       "      <td>0.156968</td>\n",
       "      <td>0.675003</td>\n",
       "      <td>0.050951</td>\n",
       "      <td>0.056439</td>\n",
       "      <td>-0.019342</td>\n",
       "      <td>0.138933</td>\n",
       "      <td>0.231417</td>\n",
       "      <td>-0.494076</td>\n",
       "      <td>0.873212</td>\n",
       "    </tr>\n",
       "    <tr>\n",
       "      <th>V1</th>\n",
       "      <td>0.908607</td>\n",
       "      <td>1.000000</td>\n",
       "      <td>0.506514</td>\n",
       "      <td>0.383924</td>\n",
       "      <td>0.657790</td>\n",
       "      <td>0.276805</td>\n",
       "      <td>0.205023</td>\n",
       "      <td>0.874650</td>\n",
       "      <td>0.310120</td>\n",
       "      <td>0.656186</td>\n",
       "      <td>...</td>\n",
       "      <td>0.147096</td>\n",
       "      <td>0.175997</td>\n",
       "      <td>0.769745</td>\n",
       "      <td>0.085604</td>\n",
       "      <td>0.035129</td>\n",
       "      <td>-0.029115</td>\n",
       "      <td>0.146329</td>\n",
       "      <td>0.235299</td>\n",
       "      <td>-0.494043</td>\n",
       "      <td>0.871846</td>\n",
       "    </tr>\n",
       "    <tr>\n",
       "      <th>V2</th>\n",
       "      <td>0.463643</td>\n",
       "      <td>0.506514</td>\n",
       "      <td>1.000000</td>\n",
       "      <td>0.410148</td>\n",
       "      <td>0.057697</td>\n",
       "      <td>0.615938</td>\n",
       "      <td>0.477114</td>\n",
       "      <td>0.703431</td>\n",
       "      <td>0.346006</td>\n",
       "      <td>0.059941</td>\n",
       "      <td>...</td>\n",
       "      <td>-0.275764</td>\n",
       "      <td>0.175943</td>\n",
       "      <td>0.653764</td>\n",
       "      <td>0.033942</td>\n",
       "      <td>0.050309</td>\n",
       "      <td>-0.025620</td>\n",
       "      <td>0.043648</td>\n",
       "      <td>0.316462</td>\n",
       "      <td>-0.734956</td>\n",
       "      <td>0.638878</td>\n",
       "    </tr>\n",
       "    <tr>\n",
       "      <th>V3</th>\n",
       "      <td>0.409576</td>\n",
       "      <td>0.383924</td>\n",
       "      <td>0.410148</td>\n",
       "      <td>1.000000</td>\n",
       "      <td>0.315046</td>\n",
       "      <td>0.233896</td>\n",
       "      <td>0.197836</td>\n",
       "      <td>0.411946</td>\n",
       "      <td>0.321262</td>\n",
       "      <td>0.306397</td>\n",
       "      <td>...</td>\n",
       "      <td>0.117610</td>\n",
       "      <td>0.043966</td>\n",
       "      <td>0.421954</td>\n",
       "      <td>-0.092423</td>\n",
       "      <td>-0.007159</td>\n",
       "      <td>-0.031898</td>\n",
       "      <td>0.080034</td>\n",
       "      <td>0.324475</td>\n",
       "      <td>-0.229613</td>\n",
       "      <td>0.512074</td>\n",
       "    </tr>\n",
       "    <tr>\n",
       "      <th>V4</th>\n",
       "      <td>0.781212</td>\n",
       "      <td>0.657790</td>\n",
       "      <td>0.057697</td>\n",
       "      <td>0.315046</td>\n",
       "      <td>1.000000</td>\n",
       "      <td>-0.117529</td>\n",
       "      <td>-0.052370</td>\n",
       "      <td>0.449542</td>\n",
       "      <td>0.141129</td>\n",
       "      <td>0.927685</td>\n",
       "      <td>...</td>\n",
       "      <td>0.659093</td>\n",
       "      <td>0.022807</td>\n",
       "      <td>0.447016</td>\n",
       "      <td>-0.026186</td>\n",
       "      <td>0.062367</td>\n",
       "      <td>0.028659</td>\n",
       "      <td>0.100010</td>\n",
       "      <td>0.113609</td>\n",
       "      <td>-0.031054</td>\n",
       "      <td>0.603984</td>\n",
       "    </tr>\n",
       "    <tr>\n",
       "      <th>V6</th>\n",
       "      <td>0.189267</td>\n",
       "      <td>0.276805</td>\n",
       "      <td>0.615938</td>\n",
       "      <td>0.233896</td>\n",
       "      <td>-0.117529</td>\n",
       "      <td>1.000000</td>\n",
       "      <td>0.917502</td>\n",
       "      <td>0.468233</td>\n",
       "      <td>0.415660</td>\n",
       "      <td>-0.087312</td>\n",
       "      <td>...</td>\n",
       "      <td>-0.467980</td>\n",
       "      <td>0.188907</td>\n",
       "      <td>0.546535</td>\n",
       "      <td>0.144550</td>\n",
       "      <td>0.054210</td>\n",
       "      <td>-0.002914</td>\n",
       "      <td>0.044992</td>\n",
       "      <td>0.433804</td>\n",
       "      <td>-0.404817</td>\n",
       "      <td>0.370037</td>\n",
       "    </tr>\n",
       "    <tr>\n",
       "      <th>V7</th>\n",
       "      <td>0.141294</td>\n",
       "      <td>0.205023</td>\n",
       "      <td>0.477114</td>\n",
       "      <td>0.197836</td>\n",
       "      <td>-0.052370</td>\n",
       "      <td>0.917502</td>\n",
       "      <td>1.000000</td>\n",
       "      <td>0.389987</td>\n",
       "      <td>0.310982</td>\n",
       "      <td>-0.036791</td>\n",
       "      <td>...</td>\n",
       "      <td>-0.311363</td>\n",
       "      <td>0.170113</td>\n",
       "      <td>0.475254</td>\n",
       "      <td>0.122707</td>\n",
       "      <td>0.034508</td>\n",
       "      <td>-0.019103</td>\n",
       "      <td>0.111166</td>\n",
       "      <td>0.340479</td>\n",
       "      <td>-0.292285</td>\n",
       "      <td>0.287815</td>\n",
       "    </tr>\n",
       "    <tr>\n",
       "      <th>V8</th>\n",
       "      <td>0.794013</td>\n",
       "      <td>0.874650</td>\n",
       "      <td>0.703431</td>\n",
       "      <td>0.411946</td>\n",
       "      <td>0.449542</td>\n",
       "      <td>0.468233</td>\n",
       "      <td>0.389987</td>\n",
       "      <td>1.000000</td>\n",
       "      <td>0.419703</td>\n",
       "      <td>0.420557</td>\n",
       "      <td>...</td>\n",
       "      <td>-0.011091</td>\n",
       "      <td>0.150258</td>\n",
       "      <td>0.878072</td>\n",
       "      <td>0.038430</td>\n",
       "      <td>0.026843</td>\n",
       "      <td>-0.036297</td>\n",
       "      <td>0.179167</td>\n",
       "      <td>0.326586</td>\n",
       "      <td>-0.553121</td>\n",
       "      <td>0.831904</td>\n",
       "    </tr>\n",
       "    <tr>\n",
       "      <th>V10</th>\n",
       "      <td>0.298443</td>\n",
       "      <td>0.310120</td>\n",
       "      <td>0.346006</td>\n",
       "      <td>0.321262</td>\n",
       "      <td>0.141129</td>\n",
       "      <td>0.415660</td>\n",
       "      <td>0.310982</td>\n",
       "      <td>0.419703</td>\n",
       "      <td>1.000000</td>\n",
       "      <td>0.140462</td>\n",
       "      <td>...</td>\n",
       "      <td>-0.105042</td>\n",
       "      <td>-0.036705</td>\n",
       "      <td>0.560213</td>\n",
       "      <td>-0.093213</td>\n",
       "      <td>0.016739</td>\n",
       "      <td>-0.026994</td>\n",
       "      <td>0.026846</td>\n",
       "      <td>0.922190</td>\n",
       "      <td>-0.045851</td>\n",
       "      <td>0.394767</td>\n",
       "    </tr>\n",
       "    <tr>\n",
       "      <th>V12</th>\n",
       "      <td>0.751830</td>\n",
       "      <td>0.656186</td>\n",
       "      <td>0.059941</td>\n",
       "      <td>0.306397</td>\n",
       "      <td>0.927685</td>\n",
       "      <td>-0.087312</td>\n",
       "      <td>-0.036791</td>\n",
       "      <td>0.420557</td>\n",
       "      <td>0.140462</td>\n",
       "      <td>1.000000</td>\n",
       "      <td>...</td>\n",
       "      <td>0.666775</td>\n",
       "      <td>0.028866</td>\n",
       "      <td>0.441963</td>\n",
       "      <td>-0.007658</td>\n",
       "      <td>0.046674</td>\n",
       "      <td>0.010122</td>\n",
       "      <td>0.081963</td>\n",
       "      <td>0.112150</td>\n",
       "      <td>-0.054827</td>\n",
       "      <td>0.594189</td>\n",
       "    </tr>\n",
       "    <tr>\n",
       "      <th>V13</th>\n",
       "      <td>0.185144</td>\n",
       "      <td>0.157518</td>\n",
       "      <td>0.204762</td>\n",
       "      <td>-0.003636</td>\n",
       "      <td>0.075993</td>\n",
       "      <td>0.138367</td>\n",
       "      <td>0.110973</td>\n",
       "      <td>0.153299</td>\n",
       "      <td>-0.059553</td>\n",
       "      <td>0.098771</td>\n",
       "      <td>...</td>\n",
       "      <td>0.008235</td>\n",
       "      <td>0.027328</td>\n",
       "      <td>0.113743</td>\n",
       "      <td>0.130598</td>\n",
       "      <td>0.157513</td>\n",
       "      <td>0.116944</td>\n",
       "      <td>0.219906</td>\n",
       "      <td>-0.024751</td>\n",
       "      <td>-0.379714</td>\n",
       "      <td>0.203373</td>\n",
       "    </tr>\n",
       "    <tr>\n",
       "      <th>V14</th>\n",
       "      <td>-0.004144</td>\n",
       "      <td>-0.006268</td>\n",
       "      <td>-0.106282</td>\n",
       "      <td>-0.232677</td>\n",
       "      <td>0.023853</td>\n",
       "      <td>0.072911</td>\n",
       "      <td>0.163931</td>\n",
       "      <td>0.008138</td>\n",
       "      <td>-0.077543</td>\n",
       "      <td>0.020069</td>\n",
       "      <td>...</td>\n",
       "      <td>0.056814</td>\n",
       "      <td>-0.004057</td>\n",
       "      <td>0.010989</td>\n",
       "      <td>0.106581</td>\n",
       "      <td>0.073535</td>\n",
       "      <td>0.043218</td>\n",
       "      <td>0.233523</td>\n",
       "      <td>-0.086217</td>\n",
       "      <td>0.010553</td>\n",
       "      <td>0.008424</td>\n",
       "    </tr>\n",
       "    <tr>\n",
       "      <th>V15</th>\n",
       "      <td>0.314520</td>\n",
       "      <td>0.164702</td>\n",
       "      <td>-0.224573</td>\n",
       "      <td>0.143457</td>\n",
       "      <td>0.615704</td>\n",
       "      <td>-0.431542</td>\n",
       "      <td>-0.291272</td>\n",
       "      <td>0.018366</td>\n",
       "      <td>-0.046737</td>\n",
       "      <td>0.642081</td>\n",
       "      <td>...</td>\n",
       "      <td>0.951314</td>\n",
       "      <td>-0.111311</td>\n",
       "      <td>0.011768</td>\n",
       "      <td>-0.104618</td>\n",
       "      <td>0.050254</td>\n",
       "      <td>0.048602</td>\n",
       "      <td>0.100817</td>\n",
       "      <td>-0.051861</td>\n",
       "      <td>0.245635</td>\n",
       "      <td>0.154020</td>\n",
       "    </tr>\n",
       "    <tr>\n",
       "      <th>V16</th>\n",
       "      <td>0.347357</td>\n",
       "      <td>0.435606</td>\n",
       "      <td>0.782474</td>\n",
       "      <td>0.394517</td>\n",
       "      <td>0.023818</td>\n",
       "      <td>0.847119</td>\n",
       "      <td>0.752683</td>\n",
       "      <td>0.680031</td>\n",
       "      <td>0.546975</td>\n",
       "      <td>0.025736</td>\n",
       "      <td>...</td>\n",
       "      <td>-0.342210</td>\n",
       "      <td>0.154794</td>\n",
       "      <td>0.778538</td>\n",
       "      <td>0.041474</td>\n",
       "      <td>0.028878</td>\n",
       "      <td>-0.054775</td>\n",
       "      <td>0.082293</td>\n",
       "      <td>0.551880</td>\n",
       "      <td>-0.420053</td>\n",
       "      <td>0.536748</td>\n",
       "    </tr>\n",
       "    <tr>\n",
       "      <th>V18</th>\n",
       "      <td>0.148622</td>\n",
       "      <td>0.123862</td>\n",
       "      <td>0.132105</td>\n",
       "      <td>0.022868</td>\n",
       "      <td>0.136022</td>\n",
       "      <td>0.110570</td>\n",
       "      <td>0.098691</td>\n",
       "      <td>0.093682</td>\n",
       "      <td>-0.024693</td>\n",
       "      <td>0.119833</td>\n",
       "      <td>...</td>\n",
       "      <td>0.053958</td>\n",
       "      <td>0.470341</td>\n",
       "      <td>0.079718</td>\n",
       "      <td>0.411967</td>\n",
       "      <td>0.512139</td>\n",
       "      <td>0.365410</td>\n",
       "      <td>0.152088</td>\n",
       "      <td>0.019603</td>\n",
       "      <td>-0.181937</td>\n",
       "      <td>0.170721</td>\n",
       "    </tr>\n",
       "    <tr>\n",
       "      <th>V19</th>\n",
       "      <td>-0.100294</td>\n",
       "      <td>-0.092673</td>\n",
       "      <td>-0.161802</td>\n",
       "      <td>-0.246008</td>\n",
       "      <td>-0.205729</td>\n",
       "      <td>0.215290</td>\n",
       "      <td>0.158371</td>\n",
       "      <td>-0.144693</td>\n",
       "      <td>0.074903</td>\n",
       "      <td>-0.148319</td>\n",
       "      <td>...</td>\n",
       "      <td>-0.205409</td>\n",
       "      <td>0.100133</td>\n",
       "      <td>-0.131542</td>\n",
       "      <td>0.144018</td>\n",
       "      <td>-0.021517</td>\n",
       "      <td>-0.079753</td>\n",
       "      <td>-0.220737</td>\n",
       "      <td>0.087605</td>\n",
       "      <td>0.012115</td>\n",
       "      <td>-0.114976</td>\n",
       "    </tr>\n",
       "    <tr>\n",
       "      <th>V20</th>\n",
       "      <td>0.462493</td>\n",
       "      <td>0.459795</td>\n",
       "      <td>0.298385</td>\n",
       "      <td>0.289594</td>\n",
       "      <td>0.291309</td>\n",
       "      <td>0.136091</td>\n",
       "      <td>0.089399</td>\n",
       "      <td>0.412868</td>\n",
       "      <td>0.207612</td>\n",
       "      <td>0.271559</td>\n",
       "      <td>...</td>\n",
       "      <td>0.016233</td>\n",
       "      <td>0.086165</td>\n",
       "      <td>0.326863</td>\n",
       "      <td>0.050699</td>\n",
       "      <td>0.009358</td>\n",
       "      <td>-0.000979</td>\n",
       "      <td>0.048981</td>\n",
       "      <td>0.161315</td>\n",
       "      <td>-0.322006</td>\n",
       "      <td>0.444965</td>\n",
       "    </tr>\n",
       "    <tr>\n",
       "      <th>V21</th>\n",
       "      <td>-0.029285</td>\n",
       "      <td>-0.012911</td>\n",
       "      <td>-0.030932</td>\n",
       "      <td>0.114373</td>\n",
       "      <td>0.174025</td>\n",
       "      <td>-0.051806</td>\n",
       "      <td>-0.065300</td>\n",
       "      <td>-0.047839</td>\n",
       "      <td>0.082288</td>\n",
       "      <td>0.144371</td>\n",
       "      <td>...</td>\n",
       "      <td>0.157097</td>\n",
       "      <td>-0.077945</td>\n",
       "      <td>0.053025</td>\n",
       "      <td>-0.159128</td>\n",
       "      <td>-0.087561</td>\n",
       "      <td>-0.053707</td>\n",
       "      <td>-0.199398</td>\n",
       "      <td>0.047340</td>\n",
       "      <td>0.315470</td>\n",
       "      <td>-0.010063</td>\n",
       "    </tr>\n",
       "    <tr>\n",
       "      <th>V23</th>\n",
       "      <td>0.231136</td>\n",
       "      <td>0.222574</td>\n",
       "      <td>0.065509</td>\n",
       "      <td>0.081374</td>\n",
       "      <td>0.196530</td>\n",
       "      <td>0.069901</td>\n",
       "      <td>0.125180</td>\n",
       "      <td>0.174124</td>\n",
       "      <td>-0.066537</td>\n",
       "      <td>0.180049</td>\n",
       "      <td>...</td>\n",
       "      <td>0.116122</td>\n",
       "      <td>0.363963</td>\n",
       "      <td>0.129783</td>\n",
       "      <td>0.367086</td>\n",
       "      <td>0.183666</td>\n",
       "      <td>0.196681</td>\n",
       "      <td>0.635252</td>\n",
       "      <td>-0.035949</td>\n",
       "      <td>-0.187582</td>\n",
       "      <td>0.226331</td>\n",
       "    </tr>\n",
       "    <tr>\n",
       "      <th>V24</th>\n",
       "      <td>-0.324959</td>\n",
       "      <td>-0.233556</td>\n",
       "      <td>0.010225</td>\n",
       "      <td>-0.237326</td>\n",
       "      <td>-0.529866</td>\n",
       "      <td>0.072418</td>\n",
       "      <td>-0.030292</td>\n",
       "      <td>-0.136898</td>\n",
       "      <td>-0.029420</td>\n",
       "      <td>-0.550881</td>\n",
       "      <td>...</td>\n",
       "      <td>-0.642370</td>\n",
       "      <td>0.033532</td>\n",
       "      <td>-0.202097</td>\n",
       "      <td>0.060608</td>\n",
       "      <td>-0.134320</td>\n",
       "      <td>-0.095588</td>\n",
       "      <td>-0.243738</td>\n",
       "      <td>-0.041325</td>\n",
       "      <td>-0.137614</td>\n",
       "      <td>-0.264815</td>\n",
       "    </tr>\n",
       "    <tr>\n",
       "      <th>V25</th>\n",
       "      <td>-0.200706</td>\n",
       "      <td>-0.070627</td>\n",
       "      <td>0.481785</td>\n",
       "      <td>-0.100569</td>\n",
       "      <td>-0.444375</td>\n",
       "      <td>0.438610</td>\n",
       "      <td>0.316744</td>\n",
       "      <td>0.173320</td>\n",
       "      <td>0.079805</td>\n",
       "      <td>-0.448877</td>\n",
       "      <td>...</td>\n",
       "      <td>-0.575154</td>\n",
       "      <td>0.088238</td>\n",
       "      <td>0.201243</td>\n",
       "      <td>0.065501</td>\n",
       "      <td>-0.013312</td>\n",
       "      <td>-0.030747</td>\n",
       "      <td>-0.093948</td>\n",
       "      <td>0.069302</td>\n",
       "      <td>-0.246742</td>\n",
       "      <td>-0.019373</td>\n",
       "    </tr>\n",
       "    <tr>\n",
       "      <th>V26</th>\n",
       "      <td>-0.125140</td>\n",
       "      <td>-0.043012</td>\n",
       "      <td>0.035370</td>\n",
       "      <td>-0.027685</td>\n",
       "      <td>-0.080487</td>\n",
       "      <td>0.106055</td>\n",
       "      <td>0.160566</td>\n",
       "      <td>0.015724</td>\n",
       "      <td>0.072366</td>\n",
       "      <td>-0.124111</td>\n",
       "      <td>...</td>\n",
       "      <td>-0.133694</td>\n",
       "      <td>-0.057247</td>\n",
       "      <td>0.062879</td>\n",
       "      <td>-0.004545</td>\n",
       "      <td>-0.034596</td>\n",
       "      <td>0.051294</td>\n",
       "      <td>0.085576</td>\n",
       "      <td>0.064963</td>\n",
       "      <td>0.010880</td>\n",
       "      <td>-0.046724</td>\n",
       "    </tr>\n",
       "    <tr>\n",
       "      <th>V27</th>\n",
       "      <td>0.733198</td>\n",
       "      <td>0.824198</td>\n",
       "      <td>0.726250</td>\n",
       "      <td>0.392006</td>\n",
       "      <td>0.412083</td>\n",
       "      <td>0.474441</td>\n",
       "      <td>0.424185</td>\n",
       "      <td>0.901100</td>\n",
       "      <td>0.246085</td>\n",
       "      <td>0.374380</td>\n",
       "      <td>...</td>\n",
       "      <td>-0.032772</td>\n",
       "      <td>0.208074</td>\n",
       "      <td>0.790239</td>\n",
       "      <td>0.095127</td>\n",
       "      <td>0.030135</td>\n",
       "      <td>-0.036123</td>\n",
       "      <td>0.159884</td>\n",
       "      <td>0.226713</td>\n",
       "      <td>-0.617771</td>\n",
       "      <td>0.812585</td>\n",
       "    </tr>\n",
       "    <tr>\n",
       "      <th>V29</th>\n",
       "      <td>0.302145</td>\n",
       "      <td>0.147096</td>\n",
       "      <td>-0.275764</td>\n",
       "      <td>0.117610</td>\n",
       "      <td>0.659093</td>\n",
       "      <td>-0.467980</td>\n",
       "      <td>-0.311363</td>\n",
       "      <td>-0.011091</td>\n",
       "      <td>-0.105042</td>\n",
       "      <td>0.666775</td>\n",
       "      <td>...</td>\n",
       "      <td>1.000000</td>\n",
       "      <td>-0.122817</td>\n",
       "      <td>-0.004364</td>\n",
       "      <td>-0.110699</td>\n",
       "      <td>0.035272</td>\n",
       "      <td>0.035392</td>\n",
       "      <td>0.078588</td>\n",
       "      <td>-0.099309</td>\n",
       "      <td>0.285581</td>\n",
       "      <td>0.123329</td>\n",
       "    </tr>\n",
       "    <tr>\n",
       "      <th>V30</th>\n",
       "      <td>0.156968</td>\n",
       "      <td>0.175997</td>\n",
       "      <td>0.175943</td>\n",
       "      <td>0.043966</td>\n",
       "      <td>0.022807</td>\n",
       "      <td>0.188907</td>\n",
       "      <td>0.170113</td>\n",
       "      <td>0.150258</td>\n",
       "      <td>-0.036705</td>\n",
       "      <td>0.028866</td>\n",
       "      <td>...</td>\n",
       "      <td>-0.122817</td>\n",
       "      <td>1.000000</td>\n",
       "      <td>0.114318</td>\n",
       "      <td>0.695725</td>\n",
       "      <td>0.083693</td>\n",
       "      <td>-0.028573</td>\n",
       "      <td>-0.027987</td>\n",
       "      <td>0.006961</td>\n",
       "      <td>-0.256814</td>\n",
       "      <td>0.187311</td>\n",
       "    </tr>\n",
       "    <tr>\n",
       "      <th>V31</th>\n",
       "      <td>0.675003</td>\n",
       "      <td>0.769745</td>\n",
       "      <td>0.653764</td>\n",
       "      <td>0.421954</td>\n",
       "      <td>0.447016</td>\n",
       "      <td>0.546535</td>\n",
       "      <td>0.475254</td>\n",
       "      <td>0.878072</td>\n",
       "      <td>0.560213</td>\n",
       "      <td>0.441963</td>\n",
       "      <td>...</td>\n",
       "      <td>-0.004364</td>\n",
       "      <td>0.114318</td>\n",
       "      <td>1.000000</td>\n",
       "      <td>0.016782</td>\n",
       "      <td>0.016733</td>\n",
       "      <td>-0.047273</td>\n",
       "      <td>0.152314</td>\n",
       "      <td>0.510851</td>\n",
       "      <td>-0.357785</td>\n",
       "      <td>0.750297</td>\n",
       "    </tr>\n",
       "    <tr>\n",
       "      <th>V32</th>\n",
       "      <td>0.050951</td>\n",
       "      <td>0.085604</td>\n",
       "      <td>0.033942</td>\n",
       "      <td>-0.092423</td>\n",
       "      <td>-0.026186</td>\n",
       "      <td>0.144550</td>\n",
       "      <td>0.122707</td>\n",
       "      <td>0.038430</td>\n",
       "      <td>-0.093213</td>\n",
       "      <td>-0.007658</td>\n",
       "      <td>...</td>\n",
       "      <td>-0.110699</td>\n",
       "      <td>0.695725</td>\n",
       "      <td>0.016782</td>\n",
       "      <td>1.000000</td>\n",
       "      <td>0.105255</td>\n",
       "      <td>0.069300</td>\n",
       "      <td>0.016901</td>\n",
       "      <td>-0.054411</td>\n",
       "      <td>-0.162417</td>\n",
       "      <td>0.066606</td>\n",
       "    </tr>\n",
       "    <tr>\n",
       "      <th>V33</th>\n",
       "      <td>0.056439</td>\n",
       "      <td>0.035129</td>\n",
       "      <td>0.050309</td>\n",
       "      <td>-0.007159</td>\n",
       "      <td>0.062367</td>\n",
       "      <td>0.054210</td>\n",
       "      <td>0.034508</td>\n",
       "      <td>0.026843</td>\n",
       "      <td>0.016739</td>\n",
       "      <td>0.046674</td>\n",
       "      <td>...</td>\n",
       "      <td>0.035272</td>\n",
       "      <td>0.083693</td>\n",
       "      <td>0.016733</td>\n",
       "      <td>0.105255</td>\n",
       "      <td>1.000000</td>\n",
       "      <td>0.719126</td>\n",
       "      <td>0.167597</td>\n",
       "      <td>0.031586</td>\n",
       "      <td>-0.062715</td>\n",
       "      <td>0.077273</td>\n",
       "    </tr>\n",
       "    <tr>\n",
       "      <th>V34</th>\n",
       "      <td>-0.019342</td>\n",
       "      <td>-0.029115</td>\n",
       "      <td>-0.025620</td>\n",
       "      <td>-0.031898</td>\n",
       "      <td>0.028659</td>\n",
       "      <td>-0.002914</td>\n",
       "      <td>-0.019103</td>\n",
       "      <td>-0.036297</td>\n",
       "      <td>-0.026994</td>\n",
       "      <td>0.010122</td>\n",
       "      <td>...</td>\n",
       "      <td>0.035392</td>\n",
       "      <td>-0.028573</td>\n",
       "      <td>-0.047273</td>\n",
       "      <td>0.069300</td>\n",
       "      <td>0.719126</td>\n",
       "      <td>1.000000</td>\n",
       "      <td>0.233616</td>\n",
       "      <td>-0.019032</td>\n",
       "      <td>-0.006854</td>\n",
       "      <td>-0.006034</td>\n",
       "    </tr>\n",
       "    <tr>\n",
       "      <th>V35</th>\n",
       "      <td>0.138933</td>\n",
       "      <td>0.146329</td>\n",
       "      <td>0.043648</td>\n",
       "      <td>0.080034</td>\n",
       "      <td>0.100010</td>\n",
       "      <td>0.044992</td>\n",
       "      <td>0.111166</td>\n",
       "      <td>0.179167</td>\n",
       "      <td>0.026846</td>\n",
       "      <td>0.081963</td>\n",
       "      <td>...</td>\n",
       "      <td>0.078588</td>\n",
       "      <td>-0.027987</td>\n",
       "      <td>0.152314</td>\n",
       "      <td>0.016901</td>\n",
       "      <td>0.167597</td>\n",
       "      <td>0.233616</td>\n",
       "      <td>1.000000</td>\n",
       "      <td>0.025401</td>\n",
       "      <td>-0.077991</td>\n",
       "      <td>0.140294</td>\n",
       "    </tr>\n",
       "    <tr>\n",
       "      <th>V36</th>\n",
       "      <td>0.231417</td>\n",
       "      <td>0.235299</td>\n",
       "      <td>0.316462</td>\n",
       "      <td>0.324475</td>\n",
       "      <td>0.113609</td>\n",
       "      <td>0.433804</td>\n",
       "      <td>0.340479</td>\n",
       "      <td>0.326586</td>\n",
       "      <td>0.922190</td>\n",
       "      <td>0.112150</td>\n",
       "      <td>...</td>\n",
       "      <td>-0.099309</td>\n",
       "      <td>0.006961</td>\n",
       "      <td>0.510851</td>\n",
       "      <td>-0.054411</td>\n",
       "      <td>0.031586</td>\n",
       "      <td>-0.019032</td>\n",
       "      <td>0.025401</td>\n",
       "      <td>1.000000</td>\n",
       "      <td>-0.039478</td>\n",
       "      <td>0.319309</td>\n",
       "    </tr>\n",
       "    <tr>\n",
       "      <th>V37</th>\n",
       "      <td>-0.494076</td>\n",
       "      <td>-0.494043</td>\n",
       "      <td>-0.734956</td>\n",
       "      <td>-0.229613</td>\n",
       "      <td>-0.031054</td>\n",
       "      <td>-0.404817</td>\n",
       "      <td>-0.292285</td>\n",
       "      <td>-0.553121</td>\n",
       "      <td>-0.045851</td>\n",
       "      <td>-0.054827</td>\n",
       "      <td>...</td>\n",
       "      <td>0.285581</td>\n",
       "      <td>-0.256814</td>\n",
       "      <td>-0.357785</td>\n",
       "      <td>-0.162417</td>\n",
       "      <td>-0.062715</td>\n",
       "      <td>-0.006854</td>\n",
       "      <td>-0.077991</td>\n",
       "      <td>-0.039478</td>\n",
       "      <td>1.000000</td>\n",
       "      <td>-0.565795</td>\n",
       "    </tr>\n",
       "    <tr>\n",
       "      <th>target</th>\n",
       "      <td>0.873212</td>\n",
       "      <td>0.871846</td>\n",
       "      <td>0.638878</td>\n",
       "      <td>0.512074</td>\n",
       "      <td>0.603984</td>\n",
       "      <td>0.370037</td>\n",
       "      <td>0.287815</td>\n",
       "      <td>0.831904</td>\n",
       "      <td>0.394767</td>\n",
       "      <td>0.594189</td>\n",
       "      <td>...</td>\n",
       "      <td>0.123329</td>\n",
       "      <td>0.187311</td>\n",
       "      <td>0.750297</td>\n",
       "      <td>0.066606</td>\n",
       "      <td>0.077273</td>\n",
       "      <td>-0.006034</td>\n",
       "      <td>0.140294</td>\n",
       "      <td>0.319309</td>\n",
       "      <td>-0.565795</td>\n",
       "      <td>1.000000</td>\n",
       "    </tr>\n",
       "  </tbody>\n",
       "</table>\n",
       "<p>33 rows × 33 columns</p>\n",
       "</div>"
      ],
      "text/plain": [
       "              V0        V1        V2        V3        V4        V6        V7  \\\n",
       "V0      1.000000  0.908607  0.463643  0.409576  0.781212  0.189267  0.141294   \n",
       "V1      0.908607  1.000000  0.506514  0.383924  0.657790  0.276805  0.205023   \n",
       "V2      0.463643  0.506514  1.000000  0.410148  0.057697  0.615938  0.477114   \n",
       "V3      0.409576  0.383924  0.410148  1.000000  0.315046  0.233896  0.197836   \n",
       "V4      0.781212  0.657790  0.057697  0.315046  1.000000 -0.117529 -0.052370   \n",
       "V6      0.189267  0.276805  0.615938  0.233896 -0.117529  1.000000  0.917502   \n",
       "V7      0.141294  0.205023  0.477114  0.197836 -0.052370  0.917502  1.000000   \n",
       "V8      0.794013  0.874650  0.703431  0.411946  0.449542  0.468233  0.389987   \n",
       "V10     0.298443  0.310120  0.346006  0.321262  0.141129  0.415660  0.310982   \n",
       "V12     0.751830  0.656186  0.059941  0.306397  0.927685 -0.087312 -0.036791   \n",
       "V13     0.185144  0.157518  0.204762 -0.003636  0.075993  0.138367  0.110973   \n",
       "V14    -0.004144 -0.006268 -0.106282 -0.232677  0.023853  0.072911  0.163931   \n",
       "V15     0.314520  0.164702 -0.224573  0.143457  0.615704 -0.431542 -0.291272   \n",
       "V16     0.347357  0.435606  0.782474  0.394517  0.023818  0.847119  0.752683   \n",
       "V18     0.148622  0.123862  0.132105  0.022868  0.136022  0.110570  0.098691   \n",
       "V19    -0.100294 -0.092673 -0.161802 -0.246008 -0.205729  0.215290  0.158371   \n",
       "V20     0.462493  0.459795  0.298385  0.289594  0.291309  0.136091  0.089399   \n",
       "V21    -0.029285 -0.012911 -0.030932  0.114373  0.174025 -0.051806 -0.065300   \n",
       "V23     0.231136  0.222574  0.065509  0.081374  0.196530  0.069901  0.125180   \n",
       "V24    -0.324959 -0.233556  0.010225 -0.237326 -0.529866  0.072418 -0.030292   \n",
       "V25    -0.200706 -0.070627  0.481785 -0.100569 -0.444375  0.438610  0.316744   \n",
       "V26    -0.125140 -0.043012  0.035370 -0.027685 -0.080487  0.106055  0.160566   \n",
       "V27     0.733198  0.824198  0.726250  0.392006  0.412083  0.474441  0.424185   \n",
       "V29     0.302145  0.147096 -0.275764  0.117610  0.659093 -0.467980 -0.311363   \n",
       "V30     0.156968  0.175997  0.175943  0.043966  0.022807  0.188907  0.170113   \n",
       "V31     0.675003  0.769745  0.653764  0.421954  0.447016  0.546535  0.475254   \n",
       "V32     0.050951  0.085604  0.033942 -0.092423 -0.026186  0.144550  0.122707   \n",
       "V33     0.056439  0.035129  0.050309 -0.007159  0.062367  0.054210  0.034508   \n",
       "V34    -0.019342 -0.029115 -0.025620 -0.031898  0.028659 -0.002914 -0.019103   \n",
       "V35     0.138933  0.146329  0.043648  0.080034  0.100010  0.044992  0.111166   \n",
       "V36     0.231417  0.235299  0.316462  0.324475  0.113609  0.433804  0.340479   \n",
       "V37    -0.494076 -0.494043 -0.734956 -0.229613 -0.031054 -0.404817 -0.292285   \n",
       "target  0.873212  0.871846  0.638878  0.512074  0.603984  0.370037  0.287815   \n",
       "\n",
       "              V8       V10       V12  ...       V29       V30       V31  \\\n",
       "V0      0.794013  0.298443  0.751830  ...  0.302145  0.156968  0.675003   \n",
       "V1      0.874650  0.310120  0.656186  ...  0.147096  0.175997  0.769745   \n",
       "V2      0.703431  0.346006  0.059941  ... -0.275764  0.175943  0.653764   \n",
       "V3      0.411946  0.321262  0.306397  ...  0.117610  0.043966  0.421954   \n",
       "V4      0.449542  0.141129  0.927685  ...  0.659093  0.022807  0.447016   \n",
       "V6      0.468233  0.415660 -0.087312  ... -0.467980  0.188907  0.546535   \n",
       "V7      0.389987  0.310982 -0.036791  ... -0.311363  0.170113  0.475254   \n",
       "V8      1.000000  0.419703  0.420557  ... -0.011091  0.150258  0.878072   \n",
       "V10     0.419703  1.000000  0.140462  ... -0.105042 -0.036705  0.560213   \n",
       "V12     0.420557  0.140462  1.000000  ...  0.666775  0.028866  0.441963   \n",
       "V13     0.153299 -0.059553  0.098771  ...  0.008235  0.027328  0.113743   \n",
       "V14     0.008138 -0.077543  0.020069  ...  0.056814 -0.004057  0.010989   \n",
       "V15     0.018366 -0.046737  0.642081  ...  0.951314 -0.111311  0.011768   \n",
       "V16     0.680031  0.546975  0.025736  ... -0.342210  0.154794  0.778538   \n",
       "V18     0.093682 -0.024693  0.119833  ...  0.053958  0.470341  0.079718   \n",
       "V19    -0.144693  0.074903 -0.148319  ... -0.205409  0.100133 -0.131542   \n",
       "V20     0.412868  0.207612  0.271559  ...  0.016233  0.086165  0.326863   \n",
       "V21    -0.047839  0.082288  0.144371  ...  0.157097 -0.077945  0.053025   \n",
       "V23     0.174124 -0.066537  0.180049  ...  0.116122  0.363963  0.129783   \n",
       "V24    -0.136898 -0.029420 -0.550881  ... -0.642370  0.033532 -0.202097   \n",
       "V25     0.173320  0.079805 -0.448877  ... -0.575154  0.088238  0.201243   \n",
       "V26     0.015724  0.072366 -0.124111  ... -0.133694 -0.057247  0.062879   \n",
       "V27     0.901100  0.246085  0.374380  ... -0.032772  0.208074  0.790239   \n",
       "V29    -0.011091 -0.105042  0.666775  ...  1.000000 -0.122817 -0.004364   \n",
       "V30     0.150258 -0.036705  0.028866  ... -0.122817  1.000000  0.114318   \n",
       "V31     0.878072  0.560213  0.441963  ... -0.004364  0.114318  1.000000   \n",
       "V32     0.038430 -0.093213 -0.007658  ... -0.110699  0.695725  0.016782   \n",
       "V33     0.026843  0.016739  0.046674  ...  0.035272  0.083693  0.016733   \n",
       "V34    -0.036297 -0.026994  0.010122  ...  0.035392 -0.028573 -0.047273   \n",
       "V35     0.179167  0.026846  0.081963  ...  0.078588 -0.027987  0.152314   \n",
       "V36     0.326586  0.922190  0.112150  ... -0.099309  0.006961  0.510851   \n",
       "V37    -0.553121 -0.045851 -0.054827  ...  0.285581 -0.256814 -0.357785   \n",
       "target  0.831904  0.394767  0.594189  ...  0.123329  0.187311  0.750297   \n",
       "\n",
       "             V32       V33       V34       V35       V36       V37    target  \n",
       "V0      0.050951  0.056439 -0.019342  0.138933  0.231417 -0.494076  0.873212  \n",
       "V1      0.085604  0.035129 -0.029115  0.146329  0.235299 -0.494043  0.871846  \n",
       "V2      0.033942  0.050309 -0.025620  0.043648  0.316462 -0.734956  0.638878  \n",
       "V3     -0.092423 -0.007159 -0.031898  0.080034  0.324475 -0.229613  0.512074  \n",
       "V4     -0.026186  0.062367  0.028659  0.100010  0.113609 -0.031054  0.603984  \n",
       "V6      0.144550  0.054210 -0.002914  0.044992  0.433804 -0.404817  0.370037  \n",
       "V7      0.122707  0.034508 -0.019103  0.111166  0.340479 -0.292285  0.287815  \n",
       "V8      0.038430  0.026843 -0.036297  0.179167  0.326586 -0.553121  0.831904  \n",
       "V10    -0.093213  0.016739 -0.026994  0.026846  0.922190 -0.045851  0.394767  \n",
       "V12    -0.007658  0.046674  0.010122  0.081963  0.112150 -0.054827  0.594189  \n",
       "V13     0.130598  0.157513  0.116944  0.219906 -0.024751 -0.379714  0.203373  \n",
       "V14     0.106581  0.073535  0.043218  0.233523 -0.086217  0.010553  0.008424  \n",
       "V15    -0.104618  0.050254  0.048602  0.100817 -0.051861  0.245635  0.154020  \n",
       "V16     0.041474  0.028878 -0.054775  0.082293  0.551880 -0.420053  0.536748  \n",
       "V18     0.411967  0.512139  0.365410  0.152088  0.019603 -0.181937  0.170721  \n",
       "V19     0.144018 -0.021517 -0.079753 -0.220737  0.087605  0.012115 -0.114976  \n",
       "V20     0.050699  0.009358 -0.000979  0.048981  0.161315 -0.322006  0.444965  \n",
       "V21    -0.159128 -0.087561 -0.053707 -0.199398  0.047340  0.315470 -0.010063  \n",
       "V23     0.367086  0.183666  0.196681  0.635252 -0.035949 -0.187582  0.226331  \n",
       "V24     0.060608 -0.134320 -0.095588 -0.243738 -0.041325 -0.137614 -0.264815  \n",
       "V25     0.065501 -0.013312 -0.030747 -0.093948  0.069302 -0.246742 -0.019373  \n",
       "V26    -0.004545 -0.034596  0.051294  0.085576  0.064963  0.010880 -0.046724  \n",
       "V27     0.095127  0.030135 -0.036123  0.159884  0.226713 -0.617771  0.812585  \n",
       "V29    -0.110699  0.035272  0.035392  0.078588 -0.099309  0.285581  0.123329  \n",
       "V30     0.695725  0.083693 -0.028573 -0.027987  0.006961 -0.256814  0.187311  \n",
       "V31     0.016782  0.016733 -0.047273  0.152314  0.510851 -0.357785  0.750297  \n",
       "V32     1.000000  0.105255  0.069300  0.016901 -0.054411 -0.162417  0.066606  \n",
       "V33     0.105255  1.000000  0.719126  0.167597  0.031586 -0.062715  0.077273  \n",
       "V34     0.069300  0.719126  1.000000  0.233616 -0.019032 -0.006854 -0.006034  \n",
       "V35     0.016901  0.167597  0.233616  1.000000  0.025401 -0.077991  0.140294  \n",
       "V36    -0.054411  0.031586 -0.019032  0.025401  1.000000 -0.039478  0.319309  \n",
       "V37    -0.162417 -0.062715 -0.006854 -0.077991 -0.039478  1.000000 -0.565795  \n",
       "target  0.066606  0.077273 -0.006034  0.140294  0.319309 -0.565795  1.000000  \n",
       "\n",
       "[33 rows x 33 columns]"
      ]
     },
     "execution_count": 75,
     "metadata": {},
     "output_type": "execute_result"
    }
   ],
   "source": [
    "\n",
    "data_train1 = train_data.drop(['V5','V9','V11','V17','V22','V28'],axis=1)\n",
    "train_corr = data_train1.corr()\n",
    "train_corr"
   ]
  },
  {
   "cell_type": "code",
   "execution_count": 76,
   "metadata": {
    "collapsed": false,
    "execution": {
     "iopub.execute_input": "2023-03-23T10:10:26.990066Z",
     "iopub.status.busy": "2023-03-23T10:10:26.989757Z",
     "iopub.status.idle": "2023-03-23T10:10:30.998495Z",
     "shell.execute_reply": "2023-03-23T10:10:30.997701Z",
     "shell.execute_reply.started": "2023-03-23T10:10:26.990046Z"
    },
    "id": "A76BCC7A8CDB4310935C6EE472B87DF4",
    "jupyter": {
     "outputs_hidden": false
    },
    "notebookId": "641dabcafeb4fe02b2cd3ede",
    "scrolled": true,
    "slideshow": {
     "slide_type": "slide"
    },
    "tags": []
   },
   "outputs": [
    {
     "data": {
      "text/html": [
       "<img src=\"https://cdn.kesci.com/upload/rt/A76BCC7A8CDB4310935C6EE472B87DF4/rs13fawylw.png\">"
      ],
      "text/plain": [
       "<Figure size 1440x1152 with 2 Axes>"
      ]
     },
     "metadata": {
      "needs_background": "light"
     },
     "output_type": "display_data"
    }
   ],
   "source": [
    "# 画出相关性热力图\n",
    "ax = plt.subplots(figsize=(20, 16))#调整画布大小\n",
    "\n",
    "ax = sns.heatmap(train_corr, vmax=.8, square=True, annot=True)#画热力图   annot=True 显示系数"
   ]
  },
  {
   "cell_type": "code",
   "execution_count": 77,
   "metadata": {
    "collapsed": false,
    "execution": {
     "iopub.execute_input": "2023-03-23T10:10:31.000032Z",
     "iopub.status.busy": "2023-03-23T10:10:30.999690Z",
     "iopub.status.idle": "2023-03-23T10:10:32.923004Z",
     "shell.execute_reply": "2023-03-23T10:10:32.922368Z",
     "shell.execute_reply.started": "2023-03-23T10:10:30.999999Z"
    },
    "id": "6E888A533AF54D188112BF251D6AAB08",
    "jupyter": {
     "outputs_hidden": false
    },
    "notebookId": "641dabcafeb4fe02b2cd3ede",
    "scrolled": true,
    "slideshow": {
     "slide_type": "slide"
    },
    "tags": []
   },
   "outputs": [
    {
     "data": {
      "text/html": [
       "<img src=\"https://cdn.kesci.com/upload/rt/6E888A533AF54D188112BF251D6AAB08/rs13fbadn6.png\">"
      ],
      "text/plain": [
       "<Figure size 1440x1152 with 2 Axes>"
      ]
     },
     "metadata": {
      "needs_background": "light"
     },
     "output_type": "display_data"
    }
   ],
   "source": [
    "# 找出相关程度\n",
    "data_train1 = train_data.drop(['V5','V9','V11','V17','V22','V28'],axis=1)\n",
    "\n",
    "plt.figure(figsize=(20, 16))  # 指定绘图对象宽度和高度\n",
    "colnm = data_train1.columns.tolist()  # 列表头\n",
    "mcorr = data_train1[colnm].corr(method=\"spearman\")  # 相关系数矩阵，即给出了任意两个变量之间的相关系数\n",
    "mask = np.zeros_like(mcorr, dtype=np.bool)  # 构造与mcorr同维数矩阵 为bool型\n",
    "mask[np.triu_indices_from(mask)] = True  # 角分线右侧为True\n",
    "cmap = sns.diverging_palette(220, 10, as_cmap=True)  # 返回matplotlib colormap对象\n",
    "g = sns.heatmap(mcorr, mask=mask, cmap=cmap, square=True, annot=True, fmt='0.2f')  # 热力图（看两两相似度）\n",
    "plt.show()"
   ]
  },
  {
   "cell_type": "markdown",
   "metadata": {
    "id": "7FCDDCD5A5104BEA95684A63D130FBED",
    "jupyter": {},
    "notebookId": "641dabcafeb4fe02b2cd3ede",
    "runtime": {
     "execution_status": null,
     "status": "default"
    },
    "scrolled": false,
    "slideshow": {
     "slide_type": "slide"
    },
    "tags": []
   },
   "source": [
    "上图为所有特征变量和target变量两两之间的相关系数，由此可以看出各个特征变量V0-V37之间的相关性以及特征变量V0-V37与target的相关性。  \n",
    "\n",
    "### 1.2.3 查找重要变量  \n",
    "\n",
    "查找出特征变量和target变量相关系数大于0.5的特征变量"
   ]
  },
  {
   "cell_type": "code",
   "execution_count": 78,
   "metadata": {
    "collapsed": false,
    "execution": {
     "iopub.execute_input": "2023-03-23T10:10:32.924167Z",
     "iopub.status.busy": "2023-03-23T10:10:32.923880Z",
     "iopub.status.idle": "2023-03-23T10:10:33.442674Z",
     "shell.execute_reply": "2023-03-23T10:10:33.442056Z",
     "shell.execute_reply.started": "2023-03-23T10:10:32.924144Z"
    },
    "id": "D333C4B3204947FE83F1D2CE3BD6D9D0",
    "jupyter": {
     "outputs_hidden": false
    },
    "notebookId": "641dabcafeb4fe02b2cd3ede",
    "scrolled": true,
    "slideshow": {
     "slide_type": "slide"
    },
    "tags": []
   },
   "outputs": [
    {
     "data": {
      "text/html": [
       "<img src=\"https://cdn.kesci.com/upload/rt/D333C4B3204947FE83F1D2CE3BD6D9D0/rs13fbk5uo.png\">"
      ],
      "text/plain": [
       "<Figure size 720x720 with 2 Axes>"
      ]
     },
     "metadata": {
      "needs_background": "light"
     },
     "output_type": "display_data"
    }
   ],
   "source": [
    "#寻找K个最相关的特征信息\n",
    "k = 10 # number of variables for heatmap\n",
    "cols = train_corr.nlargest(k, 'target')['target'].index\n",
    "\n",
    "cm = np.corrcoef(train_data[cols].values.T)\n",
    "hm = plt.subplots(figsize=(10, 10))#调整画布大小\n",
    "#hm = sns.heatmap(cm, cbar=True, annot=True, square=True)\n",
    "#g = sns.heatmap(train_data[cols].corr(),annot=True,square=True,cmap=\"RdYlGn\")\n",
    "hm = sns.heatmap(train_data[cols].corr(),annot=True,square=True)\n",
    "\n",
    "plt.show()"
   ]
  },
  {
   "cell_type": "code",
   "execution_count": 79,
   "metadata": {
    "collapsed": false,
    "execution": {
     "iopub.execute_input": "2023-03-23T10:10:33.447885Z",
     "iopub.status.busy": "2023-03-23T10:10:33.447603Z",
     "iopub.status.idle": "2023-03-23T10:10:34.208968Z",
     "shell.execute_reply": "2023-03-23T10:10:34.208231Z",
     "shell.execute_reply.started": "2023-03-23T10:10:33.447863Z"
    },
    "id": "6CB1A0DED4794C208A9491A354D6ED1D",
    "jupyter": {
     "outputs_hidden": false
    },
    "notebookId": "641dabcafeb4fe02b2cd3ede",
    "scrolled": true,
    "slideshow": {
     "slide_type": "slide"
    },
    "tags": []
   },
   "outputs": [
    {
     "data": {
      "text/html": [
       "<img src=\"https://cdn.kesci.com/upload/rt/6CB1A0DED4794C208A9491A354D6ED1D/rs13fcge33.png\">"
      ],
      "text/plain": [
       "<Figure size 720x720 with 2 Axes>"
      ]
     },
     "metadata": {
      "needs_background": "light"
     },
     "output_type": "display_data"
    }
   ],
   "source": [
    "threshold = 0.5\n",
    "\n",
    "corrmat = train_data.corr()\n",
    "top_corr_features = corrmat.index[abs(corrmat[\"target\"])>threshold]\n",
    "plt.figure(figsize=(10,10))\n",
    "g = sns.heatmap(train_data[top_corr_features].corr(),annot=True,cmap=\"RdYlGn\")\n"
   ]
  },
  {
   "cell_type": "code",
   "execution_count": 80,
   "metadata": {
    "collapsed": false,
    "execution": {
     "iopub.execute_input": "2023-03-23T10:10:34.210163Z",
     "iopub.status.busy": "2023-03-23T10:10:34.209881Z",
     "iopub.status.idle": "2023-03-23T10:10:34.213307Z",
     "shell.execute_reply": "2023-03-23T10:10:34.212791Z",
     "shell.execute_reply.started": "2023-03-23T10:10:34.210141Z"
    },
    "id": "3D877834EB67400BBF828F7A02DC03CD",
    "jupyter": {
     "outputs_hidden": false
    },
    "notebookId": "641dabcafeb4fe02b2cd3ede",
    "scrolled": true,
    "slideshow": {
     "slide_type": "slide"
    },
    "tags": []
   },
   "outputs": [],
   "source": [
    "drop_columns.clear()\n",
    "drop_columns = ['V5','V9','V11','V17','V22','V28']"
   ]
  },
  {
   "cell_type": "code",
   "execution_count": 81,
   "metadata": {
    "collapsed": false,
    "execution": {
     "iopub.execute_input": "2023-03-23T10:10:34.214249Z",
     "iopub.status.busy": "2023-03-23T10:10:34.213998Z",
     "iopub.status.idle": "2023-03-23T10:10:34.227460Z",
     "shell.execute_reply": "2023-03-23T10:10:34.226902Z",
     "shell.execute_reply.started": "2023-03-23T10:10:34.214230Z"
    },
    "id": "233E4512349E48DEB757AA3FA1A2C68A",
    "jupyter": {
     "outputs_hidden": false
    },
    "notebookId": "641dabcafeb4fe02b2cd3ede",
    "scrolled": true,
    "slideshow": {
     "slide_type": "slide"
    },
    "tags": []
   },
   "outputs": [],
   "source": [
    "# Threshold for removing correlated variables\n",
    "threshold = 0.5\n",
    "\n",
    "# Absolute value correlation matrix\n",
    "corr_matrix = data_train1.corr().abs()\n",
    "drop_col=corr_matrix[corr_matrix[\"target\"]<threshold].index\n",
    "#data_all.drop(drop_col, axis=1, inplace=True)"
   ]
  },
  {
   "cell_type": "markdown",
   "metadata": {
    "id": "5642A8130A9040BC962468F754E47B94",
    "jupyter": {},
    "notebookId": "641dabcafeb4fe02b2cd3ede",
    "runtime": {
     "execution_status": null,
     "status": "default"
    },
    "scrolled": false,
    "slideshow": {
     "slide_type": "slide"
    },
    "tags": []
   },
   "source": [
    "由于'V14', 'V21', 'V25', 'V26', 'V32', 'V33', 'V34'特征的相关系数值小于0.5，故认为这些特征与最终的预测target值不相关，删除这些特征变量；"
   ]
  },
  {
   "cell_type": "code",
   "execution_count": 82,
   "metadata": {
    "collapsed": false,
    "execution": {
     "iopub.execute_input": "2023-03-23T10:10:34.228509Z",
     "iopub.status.busy": "2023-03-23T10:10:34.228129Z",
     "iopub.status.idle": "2023-03-23T10:10:34.250503Z",
     "shell.execute_reply": "2023-03-23T10:10:34.250010Z",
     "shell.execute_reply.started": "2023-03-23T10:10:34.228490Z"
    },
    "id": "AED15CD8C66B48559C8F7416106BEC3B",
    "jupyter": {
     "outputs_hidden": false
    },
    "notebookId": "641dabcafeb4fe02b2cd3ede",
    "scrolled": true,
    "slideshow": {
     "slide_type": "slide"
    },
    "tags": []
   },
   "outputs": [
    {
     "data": {
      "text/html": [
       "<div>\n",
       "<style scoped>\n",
       "    .dataframe tbody tr th:only-of-type {\n",
       "        vertical-align: middle;\n",
       "    }\n",
       "\n",
       "    .dataframe tbody tr th {\n",
       "        vertical-align: top;\n",
       "    }\n",
       "\n",
       "    .dataframe thead th {\n",
       "        text-align: right;\n",
       "    }\n",
       "</style>\n",
       "<table border=\"1\" class=\"dataframe\">\n",
       "  <thead>\n",
       "    <tr style=\"text-align: right;\">\n",
       "      <th></th>\n",
       "      <th>V0</th>\n",
       "      <th>V1</th>\n",
       "      <th>V2</th>\n",
       "      <th>V3</th>\n",
       "      <th>V4</th>\n",
       "      <th>V6</th>\n",
       "      <th>V7</th>\n",
       "      <th>V8</th>\n",
       "      <th>V10</th>\n",
       "      <th>V12</th>\n",
       "      <th>...</th>\n",
       "      <th>V27</th>\n",
       "      <th>V29</th>\n",
       "      <th>V30</th>\n",
       "      <th>V31</th>\n",
       "      <th>V32</th>\n",
       "      <th>V33</th>\n",
       "      <th>V34</th>\n",
       "      <th>V35</th>\n",
       "      <th>V36</th>\n",
       "      <th>V37</th>\n",
       "    </tr>\n",
       "  </thead>\n",
       "  <tbody>\n",
       "    <tr>\n",
       "      <th>0</th>\n",
       "      <td>0.566</td>\n",
       "      <td>0.016</td>\n",
       "      <td>-0.143</td>\n",
       "      <td>0.407</td>\n",
       "      <td>0.452</td>\n",
       "      <td>-1.812</td>\n",
       "      <td>-2.360</td>\n",
       "      <td>-0.436</td>\n",
       "      <td>-0.940</td>\n",
       "      <td>-0.073</td>\n",
       "      <td>...</td>\n",
       "      <td>0.168</td>\n",
       "      <td>0.136</td>\n",
       "      <td>0.109</td>\n",
       "      <td>-0.615</td>\n",
       "      <td>0.327</td>\n",
       "      <td>-4.627</td>\n",
       "      <td>-4.789</td>\n",
       "      <td>-5.101</td>\n",
       "      <td>-2.608</td>\n",
       "      <td>-3.508</td>\n",
       "    </tr>\n",
       "    <tr>\n",
       "      <th>1</th>\n",
       "      <td>0.968</td>\n",
       "      <td>0.437</td>\n",
       "      <td>0.066</td>\n",
       "      <td>0.566</td>\n",
       "      <td>0.194</td>\n",
       "      <td>-1.566</td>\n",
       "      <td>-2.360</td>\n",
       "      <td>0.332</td>\n",
       "      <td>0.188</td>\n",
       "      <td>-0.134</td>\n",
       "      <td>...</td>\n",
       "      <td>0.338</td>\n",
       "      <td>-0.128</td>\n",
       "      <td>0.124</td>\n",
       "      <td>0.032</td>\n",
       "      <td>0.600</td>\n",
       "      <td>-0.843</td>\n",
       "      <td>0.160</td>\n",
       "      <td>0.364</td>\n",
       "      <td>-0.335</td>\n",
       "      <td>-0.730</td>\n",
       "    </tr>\n",
       "    <tr>\n",
       "      <th>2</th>\n",
       "      <td>1.013</td>\n",
       "      <td>0.568</td>\n",
       "      <td>0.235</td>\n",
       "      <td>0.370</td>\n",
       "      <td>0.112</td>\n",
       "      <td>-1.367</td>\n",
       "      <td>-2.360</td>\n",
       "      <td>0.396</td>\n",
       "      <td>0.874</td>\n",
       "      <td>-0.072</td>\n",
       "      <td>...</td>\n",
       "      <td>0.326</td>\n",
       "      <td>-0.009</td>\n",
       "      <td>0.361</td>\n",
       "      <td>0.277</td>\n",
       "      <td>-0.116</td>\n",
       "      <td>-0.843</td>\n",
       "      <td>0.160</td>\n",
       "      <td>0.364</td>\n",
       "      <td>0.765</td>\n",
       "      <td>-0.589</td>\n",
       "    </tr>\n",
       "    <tr>\n",
       "      <th>3</th>\n",
       "      <td>0.733</td>\n",
       "      <td>0.368</td>\n",
       "      <td>0.283</td>\n",
       "      <td>0.165</td>\n",
       "      <td>0.599</td>\n",
       "      <td>-1.200</td>\n",
       "      <td>-2.086</td>\n",
       "      <td>0.403</td>\n",
       "      <td>0.011</td>\n",
       "      <td>-0.014</td>\n",
       "      <td>...</td>\n",
       "      <td>0.277</td>\n",
       "      <td>0.015</td>\n",
       "      <td>0.417</td>\n",
       "      <td>0.279</td>\n",
       "      <td>0.603</td>\n",
       "      <td>-0.843</td>\n",
       "      <td>-0.065</td>\n",
       "      <td>0.364</td>\n",
       "      <td>0.333</td>\n",
       "      <td>-0.112</td>\n",
       "    </tr>\n",
       "    <tr>\n",
       "      <th>4</th>\n",
       "      <td>0.684</td>\n",
       "      <td>0.638</td>\n",
       "      <td>0.260</td>\n",
       "      <td>0.209</td>\n",
       "      <td>0.337</td>\n",
       "      <td>-1.073</td>\n",
       "      <td>-2.086</td>\n",
       "      <td>0.314</td>\n",
       "      <td>-0.251</td>\n",
       "      <td>0.199</td>\n",
       "      <td>...</td>\n",
       "      <td>0.332</td>\n",
       "      <td>0.183</td>\n",
       "      <td>1.078</td>\n",
       "      <td>0.328</td>\n",
       "      <td>0.418</td>\n",
       "      <td>-0.843</td>\n",
       "      <td>-0.215</td>\n",
       "      <td>0.364</td>\n",
       "      <td>-0.280</td>\n",
       "      <td>-0.028</td>\n",
       "    </tr>\n",
       "  </tbody>\n",
       "</table>\n",
       "<p>5 rows × 32 columns</p>\n",
       "</div>"
      ],
      "text/plain": [
       "      V0     V1     V2     V3     V4     V6     V7     V8    V10    V12  ...  \\\n",
       "0  0.566  0.016 -0.143  0.407  0.452 -1.812 -2.360 -0.436 -0.940 -0.073  ...   \n",
       "1  0.968  0.437  0.066  0.566  0.194 -1.566 -2.360  0.332  0.188 -0.134  ...   \n",
       "2  1.013  0.568  0.235  0.370  0.112 -1.367 -2.360  0.396  0.874 -0.072  ...   \n",
       "3  0.733  0.368  0.283  0.165  0.599 -1.200 -2.086  0.403  0.011 -0.014  ...   \n",
       "4  0.684  0.638  0.260  0.209  0.337 -1.073 -2.086  0.314 -0.251  0.199  ...   \n",
       "\n",
       "     V27    V29    V30    V31    V32    V33    V34    V35    V36    V37  \n",
       "0  0.168  0.136  0.109 -0.615  0.327 -4.627 -4.789 -5.101 -2.608 -3.508  \n",
       "1  0.338 -0.128  0.124  0.032  0.600 -0.843  0.160  0.364 -0.335 -0.730  \n",
       "2  0.326 -0.009  0.361  0.277 -0.116 -0.843  0.160  0.364  0.765 -0.589  \n",
       "3  0.277  0.015  0.417  0.279  0.603 -0.843 -0.065  0.364  0.333 -0.112  \n",
       "4  0.332  0.183  1.078  0.328  0.418 -0.843 -0.215  0.364 -0.280 -0.028  \n",
       "\n",
       "[5 rows x 32 columns]"
      ]
     },
     "execution_count": 82,
     "metadata": {},
     "output_type": "execute_result"
    }
   ],
   "source": [
    "#merge train_set and test_set\n",
    "train_x =  train_data.drop(['target'], axis=1)\n",
    "\n",
    "#data_all=pd.concat([train_data,test_data],axis=0,ignore_index=True)\n",
    "data_all = pd.concat([train_x,test_data]) \n",
    "\n",
    "\n",
    "data_all.drop(drop_columns,axis=1,inplace=True)\n",
    "#View data\n",
    "data_all.head()"
   ]
  },
  {
   "cell_type": "code",
   "execution_count": 83,
   "metadata": {
    "collapsed": false,
    "execution": {
     "iopub.execute_input": "2023-03-23T10:10:34.251530Z",
     "iopub.status.busy": "2023-03-23T10:10:34.251158Z",
     "iopub.status.idle": "2023-03-23T10:10:34.354761Z",
     "shell.execute_reply": "2023-03-23T10:10:34.354226Z",
     "shell.execute_reply.started": "2023-03-23T10:10:34.251511Z"
    },
    "id": "F11C8308CD2C49D086DE64E9626A0AE5",
    "jupyter": {
     "outputs_hidden": false
    },
    "notebookId": "641dabcafeb4fe02b2cd3ede",
    "scrolled": true,
    "slideshow": {
     "slide_type": "slide"
    },
    "tags": []
   },
   "outputs": [
    {
     "data": {
      "text/html": [
       "<div>\n",
       "<style scoped>\n",
       "    .dataframe tbody tr th:only-of-type {\n",
       "        vertical-align: middle;\n",
       "    }\n",
       "\n",
       "    .dataframe tbody tr th {\n",
       "        vertical-align: top;\n",
       "    }\n",
       "\n",
       "    .dataframe thead th {\n",
       "        text-align: right;\n",
       "    }\n",
       "</style>\n",
       "<table border=\"1\" class=\"dataframe\">\n",
       "  <thead>\n",
       "    <tr style=\"text-align: right;\">\n",
       "      <th></th>\n",
       "      <th>V0</th>\n",
       "      <th>V1</th>\n",
       "      <th>V2</th>\n",
       "      <th>V3</th>\n",
       "      <th>V4</th>\n",
       "      <th>V6</th>\n",
       "      <th>V7</th>\n",
       "      <th>V8</th>\n",
       "      <th>V10</th>\n",
       "      <th>V12</th>\n",
       "      <th>...</th>\n",
       "      <th>V27</th>\n",
       "      <th>V29</th>\n",
       "      <th>V30</th>\n",
       "      <th>V31</th>\n",
       "      <th>V32</th>\n",
       "      <th>V33</th>\n",
       "      <th>V34</th>\n",
       "      <th>V35</th>\n",
       "      <th>V36</th>\n",
       "      <th>V37</th>\n",
       "    </tr>\n",
       "  </thead>\n",
       "  <tbody>\n",
       "    <tr>\n",
       "      <th>count</th>\n",
       "      <td>4813.000000</td>\n",
       "      <td>4813.000000</td>\n",
       "      <td>4813.000000</td>\n",
       "      <td>4813.000000</td>\n",
       "      <td>4813.000000</td>\n",
       "      <td>4813.000000</td>\n",
       "      <td>4813.000000</td>\n",
       "      <td>4813.000000</td>\n",
       "      <td>4813.000000</td>\n",
       "      <td>4813.000000</td>\n",
       "      <td>...</td>\n",
       "      <td>4813.000000</td>\n",
       "      <td>4813.000000</td>\n",
       "      <td>4813.000000</td>\n",
       "      <td>4813.000000</td>\n",
       "      <td>4813.000000</td>\n",
       "      <td>4813.000000</td>\n",
       "      <td>4813.000000</td>\n",
       "      <td>4813.000000</td>\n",
       "      <td>4813.000000</td>\n",
       "      <td>4813.000000</td>\n",
       "    </tr>\n",
       "    <tr>\n",
       "      <th>mean</th>\n",
       "      <td>0.694172</td>\n",
       "      <td>0.721357</td>\n",
       "      <td>0.602300</td>\n",
       "      <td>0.603139</td>\n",
       "      <td>0.523743</td>\n",
       "      <td>0.748823</td>\n",
       "      <td>0.745740</td>\n",
       "      <td>0.715607</td>\n",
       "      <td>0.348518</td>\n",
       "      <td>0.578507</td>\n",
       "      <td>...</td>\n",
       "      <td>0.881401</td>\n",
       "      <td>0.388683</td>\n",
       "      <td>0.589459</td>\n",
       "      <td>0.792709</td>\n",
       "      <td>0.628824</td>\n",
       "      <td>0.458493</td>\n",
       "      <td>0.483790</td>\n",
       "      <td>0.762873</td>\n",
       "      <td>0.332385</td>\n",
       "      <td>0.545795</td>\n",
       "    </tr>\n",
       "    <tr>\n",
       "      <th>std</th>\n",
       "      <td>0.144198</td>\n",
       "      <td>0.131443</td>\n",
       "      <td>0.140628</td>\n",
       "      <td>0.152462</td>\n",
       "      <td>0.106430</td>\n",
       "      <td>0.132560</td>\n",
       "      <td>0.132577</td>\n",
       "      <td>0.118105</td>\n",
       "      <td>0.134882</td>\n",
       "      <td>0.105088</td>\n",
       "      <td>...</td>\n",
       "      <td>0.128221</td>\n",
       "      <td>0.133475</td>\n",
       "      <td>0.130786</td>\n",
       "      <td>0.102976</td>\n",
       "      <td>0.155003</td>\n",
       "      <td>0.099095</td>\n",
       "      <td>0.101020</td>\n",
       "      <td>0.102037</td>\n",
       "      <td>0.127456</td>\n",
       "      <td>0.150356</td>\n",
       "    </tr>\n",
       "    <tr>\n",
       "      <th>min</th>\n",
       "      <td>0.000000</td>\n",
       "      <td>0.000000</td>\n",
       "      <td>0.000000</td>\n",
       "      <td>0.000000</td>\n",
       "      <td>0.000000</td>\n",
       "      <td>0.000000</td>\n",
       "      <td>0.000000</td>\n",
       "      <td>0.000000</td>\n",
       "      <td>0.000000</td>\n",
       "      <td>0.000000</td>\n",
       "      <td>...</td>\n",
       "      <td>0.000000</td>\n",
       "      <td>0.000000</td>\n",
       "      <td>0.000000</td>\n",
       "      <td>0.000000</td>\n",
       "      <td>0.000000</td>\n",
       "      <td>0.000000</td>\n",
       "      <td>0.000000</td>\n",
       "      <td>0.000000</td>\n",
       "      <td>0.000000</td>\n",
       "      <td>0.000000</td>\n",
       "    </tr>\n",
       "    <tr>\n",
       "      <th>25%</th>\n",
       "      <td>0.626676</td>\n",
       "      <td>0.679416</td>\n",
       "      <td>0.514414</td>\n",
       "      <td>0.503888</td>\n",
       "      <td>0.478182</td>\n",
       "      <td>0.683324</td>\n",
       "      <td>0.696938</td>\n",
       "      <td>0.664934</td>\n",
       "      <td>0.284327</td>\n",
       "      <td>0.532892</td>\n",
       "      <td>...</td>\n",
       "      <td>0.888575</td>\n",
       "      <td>0.292445</td>\n",
       "      <td>0.550092</td>\n",
       "      <td>0.761816</td>\n",
       "      <td>0.562461</td>\n",
       "      <td>0.409037</td>\n",
       "      <td>0.454490</td>\n",
       "      <td>0.727273</td>\n",
       "      <td>0.270584</td>\n",
       "      <td>0.445647</td>\n",
       "    </tr>\n",
       "    <tr>\n",
       "      <th>50%</th>\n",
       "      <td>0.729488</td>\n",
       "      <td>0.752497</td>\n",
       "      <td>0.617072</td>\n",
       "      <td>0.614270</td>\n",
       "      <td>0.535866</td>\n",
       "      <td>0.774125</td>\n",
       "      <td>0.771974</td>\n",
       "      <td>0.742884</td>\n",
       "      <td>0.366469</td>\n",
       "      <td>0.591635</td>\n",
       "      <td>...</td>\n",
       "      <td>0.916015</td>\n",
       "      <td>0.375734</td>\n",
       "      <td>0.594428</td>\n",
       "      <td>0.815055</td>\n",
       "      <td>0.643056</td>\n",
       "      <td>0.454518</td>\n",
       "      <td>0.499949</td>\n",
       "      <td>0.800020</td>\n",
       "      <td>0.347056</td>\n",
       "      <td>0.539317</td>\n",
       "    </tr>\n",
       "    <tr>\n",
       "      <th>75%</th>\n",
       "      <td>0.790195</td>\n",
       "      <td>0.799553</td>\n",
       "      <td>0.700464</td>\n",
       "      <td>0.710474</td>\n",
       "      <td>0.585036</td>\n",
       "      <td>0.842259</td>\n",
       "      <td>0.836405</td>\n",
       "      <td>0.790835</td>\n",
       "      <td>0.432965</td>\n",
       "      <td>0.641971</td>\n",
       "      <td>...</td>\n",
       "      <td>0.932555</td>\n",
       "      <td>0.471837</td>\n",
       "      <td>0.650798</td>\n",
       "      <td>0.852229</td>\n",
       "      <td>0.719777</td>\n",
       "      <td>0.500000</td>\n",
       "      <td>0.511365</td>\n",
       "      <td>0.800020</td>\n",
       "      <td>0.414861</td>\n",
       "      <td>0.643061</td>\n",
       "    </tr>\n",
       "    <tr>\n",
       "      <th>max</th>\n",
       "      <td>1.000000</td>\n",
       "      <td>1.000000</td>\n",
       "      <td>1.000000</td>\n",
       "      <td>1.000000</td>\n",
       "      <td>1.000000</td>\n",
       "      <td>1.000000</td>\n",
       "      <td>1.000000</td>\n",
       "      <td>1.000000</td>\n",
       "      <td>1.000000</td>\n",
       "      <td>1.000000</td>\n",
       "      <td>...</td>\n",
       "      <td>1.000000</td>\n",
       "      <td>1.000000</td>\n",
       "      <td>1.000000</td>\n",
       "      <td>1.000000</td>\n",
       "      <td>1.000000</td>\n",
       "      <td>1.000000</td>\n",
       "      <td>1.000000</td>\n",
       "      <td>1.000000</td>\n",
       "      <td>1.000000</td>\n",
       "      <td>1.000000</td>\n",
       "    </tr>\n",
       "  </tbody>\n",
       "</table>\n",
       "<p>8 rows × 32 columns</p>\n",
       "</div>"
      ],
      "text/plain": [
       "                V0           V1           V2           V3           V4  \\\n",
       "count  4813.000000  4813.000000  4813.000000  4813.000000  4813.000000   \n",
       "mean      0.694172     0.721357     0.602300     0.603139     0.523743   \n",
       "std       0.144198     0.131443     0.140628     0.152462     0.106430   \n",
       "min       0.000000     0.000000     0.000000     0.000000     0.000000   \n",
       "25%       0.626676     0.679416     0.514414     0.503888     0.478182   \n",
       "50%       0.729488     0.752497     0.617072     0.614270     0.535866   \n",
       "75%       0.790195     0.799553     0.700464     0.710474     0.585036   \n",
       "max       1.000000     1.000000     1.000000     1.000000     1.000000   \n",
       "\n",
       "                V6           V7           V8          V10          V12  ...  \\\n",
       "count  4813.000000  4813.000000  4813.000000  4813.000000  4813.000000  ...   \n",
       "mean      0.748823     0.745740     0.715607     0.348518     0.578507  ...   \n",
       "std       0.132560     0.132577     0.118105     0.134882     0.105088  ...   \n",
       "min       0.000000     0.000000     0.000000     0.000000     0.000000  ...   \n",
       "25%       0.683324     0.696938     0.664934     0.284327     0.532892  ...   \n",
       "50%       0.774125     0.771974     0.742884     0.366469     0.591635  ...   \n",
       "75%       0.842259     0.836405     0.790835     0.432965     0.641971  ...   \n",
       "max       1.000000     1.000000     1.000000     1.000000     1.000000  ...   \n",
       "\n",
       "               V27          V29          V30          V31          V32  \\\n",
       "count  4813.000000  4813.000000  4813.000000  4813.000000  4813.000000   \n",
       "mean      0.881401     0.388683     0.589459     0.792709     0.628824   \n",
       "std       0.128221     0.133475     0.130786     0.102976     0.155003   \n",
       "min       0.000000     0.000000     0.000000     0.000000     0.000000   \n",
       "25%       0.888575     0.292445     0.550092     0.761816     0.562461   \n",
       "50%       0.916015     0.375734     0.594428     0.815055     0.643056   \n",
       "75%       0.932555     0.471837     0.650798     0.852229     0.719777   \n",
       "max       1.000000     1.000000     1.000000     1.000000     1.000000   \n",
       "\n",
       "               V33          V34          V35          V36          V37  \n",
       "count  4813.000000  4813.000000  4813.000000  4813.000000  4813.000000  \n",
       "mean      0.458493     0.483790     0.762873     0.332385     0.545795  \n",
       "std       0.099095     0.101020     0.102037     0.127456     0.150356  \n",
       "min       0.000000     0.000000     0.000000     0.000000     0.000000  \n",
       "25%       0.409037     0.454490     0.727273     0.270584     0.445647  \n",
       "50%       0.454518     0.499949     0.800020     0.347056     0.539317  \n",
       "75%       0.500000     0.511365     0.800020     0.414861     0.643061  \n",
       "max       1.000000     1.000000     1.000000     1.000000     1.000000  \n",
       "\n",
       "[8 rows x 32 columns]"
      ]
     },
     "execution_count": 83,
     "metadata": {},
     "output_type": "execute_result"
    }
   ],
   "source": [
    "# normalise numeric columns\n",
    "cols_numeric=list(data_all.columns)\n",
    "\n",
    "def scale_minmax(col):\n",
    "    return (col-col.min())/(col.max()-col.min())\n",
    "\n",
    "data_all[cols_numeric] = data_all[cols_numeric].apply(scale_minmax,axis=0)\n",
    "data_all[cols_numeric].describe()"
   ]
  },
  {
   "cell_type": "code",
   "execution_count": 84,
   "metadata": {
    "collapsed": false,
    "execution": {
     "iopub.execute_input": "2023-03-23T10:10:34.355740Z",
     "iopub.status.busy": "2023-03-23T10:10:34.355502Z",
     "iopub.status.idle": "2023-03-23T10:10:34.396039Z",
     "shell.execute_reply": "2023-03-23T10:10:34.395423Z",
     "shell.execute_reply.started": "2023-03-23T10:10:34.355720Z"
    },
    "id": "4546ADADFB664D35B57E54B5CD9FCD82",
    "jupyter": {
     "outputs_hidden": false
    },
    "notebookId": "641dabcafeb4fe02b2cd3ede",
    "scrolled": true,
    "slideshow": {
     "slide_type": "slide"
    },
    "tags": []
   },
   "outputs": [],
   "source": [
    "#col_data_process = cols_numeric.append('target')\n",
    "train_data_process = train_data[cols_numeric]\n",
    "train_data_process = train_data_process[cols_numeric].apply(scale_minmax,axis=0)\n",
    "\n",
    "test_data_process = test_data[cols_numeric]\n",
    "test_data_process = test_data_process[cols_numeric].apply(scale_minmax,axis=0)\n"
   ]
  },
  {
   "cell_type": "code",
   "execution_count": 85,
   "metadata": {
    "collapsed": false,
    "execution": {
     "iopub.execute_input": "2023-03-23T10:10:34.397166Z",
     "iopub.status.busy": "2023-03-23T10:10:34.396772Z",
     "iopub.status.idle": "2023-03-23T10:10:34.399532Z",
     "shell.execute_reply": "2023-03-23T10:10:34.399033Z",
     "shell.execute_reply.started": "2023-03-23T10:10:34.397146Z"
    },
    "id": "558EFDE8EC244C44836563A244071476",
    "jupyter": {
     "outputs_hidden": false
    },
    "notebookId": "641dabcafeb4fe02b2cd3ede",
    "scrolled": true,
    "slideshow": {
     "slide_type": "slide"
    },
    "tags": []
   },
   "outputs": [],
   "source": [
    "cols_numeric_left = cols_numeric[0:13]\n",
    "cols_numeric_right = cols_numeric[13:]"
   ]
  },
  {
   "cell_type": "code",
   "execution_count": 86,
   "metadata": {
    "collapsed": false,
    "execution": {
     "iopub.execute_input": "2023-03-23T10:10:34.400504Z",
     "iopub.status.busy": "2023-03-23T10:10:34.400212Z",
     "iopub.status.idle": "2023-03-23T10:10:46.049657Z",
     "shell.execute_reply": "2023-03-23T10:10:46.048948Z",
     "shell.execute_reply.started": "2023-03-23T10:10:34.400485Z"
    },
    "id": "E8942807A8D9432389F024BDAD604F83",
    "jupyter": {
     "outputs_hidden": false
    },
    "notebookId": "641dabcafeb4fe02b2cd3ede",
    "scrolled": true,
    "slideshow": {
     "slide_type": "slide"
    },
    "tags": []
   },
   "outputs": [
    {
     "data": {
      "text/html": [
       "<img src=\"https://cdn.kesci.com/upload/rt/E8942807A8D9432389F024BDAD604F83/rs13fn68m.png\">"
      ],
      "text/plain": [
       "<Figure size 1728x3744 with 78 Axes>"
      ]
     },
     "metadata": {
      "needs_background": "light"
     },
     "output_type": "display_data"
    }
   ],
   "source": [
    "## Check effect of Box-Cox transforms on distributions of continuous variables\n",
    "\n",
    "train_data_process = pd.concat([train_data_process, train_data['target']], axis=1)\n",
    "\n",
    "fcols = 6\n",
    "frows = len(cols_numeric_left)\n",
    "plt.figure(figsize=(4*fcols,4*frows))\n",
    "i=0\n",
    "\n",
    "for var in cols_numeric_left:\n",
    "    dat = train_data_process[[var, 'target']].dropna()\n",
    "        \n",
    "    i+=1\n",
    "    plt.subplot(frows,fcols,i)\n",
    "    sns.distplot(dat[var] , fit=stats.norm);\n",
    "    plt.title(var+' Original')\n",
    "    plt.xlabel('')\n",
    "        \n",
    "    i+=1\n",
    "    plt.subplot(frows,fcols,i)\n",
    "    _=stats.probplot(dat[var], plot=plt)\n",
    "    plt.title('skew='+'{:.4f}'.format(stats.skew(dat[var])))\n",
    "    plt.xlabel('')\n",
    "    plt.ylabel('')\n",
    "        \n",
    "    i+=1\n",
    "    plt.subplot(frows,fcols,i)\n",
    "    plt.plot(dat[var], dat['target'],'.',alpha=0.5)\n",
    "    plt.title('corr='+'{:.2f}'.format(np.corrcoef(dat[var], dat['target'])[0][1]))\n",
    " \n",
    "    i+=1\n",
    "    plt.subplot(frows,fcols,i)\n",
    "    trans_var, lambda_var = stats.boxcox(dat[var].dropna()+1)\n",
    "    trans_var = scale_minmax(trans_var)      \n",
    "    sns.distplot(trans_var , fit=stats.norm);\n",
    "    plt.title(var+' Tramsformed')\n",
    "    plt.xlabel('')\n",
    "        \n",
    "    i+=1\n",
    "    plt.subplot(frows,fcols,i)\n",
    "    _=stats.probplot(trans_var, plot=plt)\n",
    "    plt.title('skew='+'{:.4f}'.format(stats.skew(trans_var)))\n",
    "    plt.xlabel('')\n",
    "    plt.ylabel('')\n",
    "        \n",
    "    i+=1\n",
    "    plt.subplot(frows,fcols,i)\n",
    "    plt.plot(trans_var, dat['target'],'.',alpha=0.5)\n",
    "    plt.title('corr='+'{:.2f}'.format(np.corrcoef(trans_var,dat['target'])[0][1]))"
   ]
  },
  {
   "cell_type": "code",
   "execution_count": 87,
   "metadata": {
    "collapsed": false,
    "execution": {
     "iopub.execute_input": "2023-03-23T10:10:46.050867Z",
     "iopub.status.busy": "2023-03-23T10:10:46.050587Z",
     "iopub.status.idle": "2023-03-23T10:10:46.054529Z",
     "shell.execute_reply": "2023-03-23T10:10:46.053837Z",
     "shell.execute_reply.started": "2023-03-23T10:10:46.050846Z"
    },
    "id": "B83DBF82978C4F448F1C49ABE8D6D7BF",
    "jupyter": {
     "outputs_hidden": false
    },
    "notebookId": "641dabcafeb4fe02b2cd3ede",
    "scrolled": true,
    "slideshow": {
     "slide_type": "slide"
    },
    "tags": []
   },
   "outputs": [],
   "source": [
    "# ## Check effect of Box-Cox transforms on distributions of continuous variables\n",
    "\n",
    " #已注释图片生成，自行打开\n",
    "\n",
    "\n",
    "# fcols = 6\n",
    "# frows = len(cols_numeric_right)\n",
    "# plt.figure(figsize=(4*fcols,4*frows))\n",
    "# i=0\n",
    "\n",
    "# for var in cols_numeric_right:\n",
    "#     dat = train_data_process[[var, 'target']].dropna()\n",
    "        \n",
    "#     i+=1\n",
    "#     plt.subplot(frows,fcols,i)\n",
    "#     sns.distplot(dat[var] , fit=stats.norm);\n",
    "#     plt.title(var+' Original')\n",
    "#     plt.xlabel('')\n",
    "        \n",
    "#     i+=1\n",
    "#     plt.subplot(frows,fcols,i)\n",
    "#     _=stats.probplot(dat[var], plot=plt)\n",
    "#     plt.title('skew='+'{:.4f}'.format(stats.skew(dat[var])))\n",
    "#     plt.xlabel('')\n",
    "#     plt.ylabel('')\n",
    "        \n",
    "#     i+=1\n",
    "#     plt.subplot(frows,fcols,i)\n",
    "#     plt.plot(dat[var], dat['target'],'.',alpha=0.5)\n",
    "#     plt.title('corr='+'{:.2f}'.format(np.corrcoef(dat[var], dat['target'])[0][1]))\n",
    " \n",
    "#     i+=1\n",
    "#     plt.subplot(frows,fcols,i)\n",
    "#     trans_var, lambda_var = stats.boxcox(dat[var].dropna()+1)\n",
    "#     trans_var = scale_minmax(trans_var)      \n",
    "#     sns.distplot(trans_var , fit=stats.norm);\n",
    "#     plt.title(var+' Tramsformed')\n",
    "#     plt.xlabel('')\n",
    "        \n",
    "#     i+=1\n",
    "#     plt.subplot(frows,fcols,i)\n",
    "#     _=stats.probplot(trans_var, plot=plt)\n",
    "#     plt.title('skew='+'{:.4f}'.format(stats.skew(trans_var)))\n",
    "#     plt.xlabel('')\n",
    "#     plt.ylabel('')\n",
    "        \n",
    "#     i+=1\n",
    "#     plt.subplot(frows,fcols,i)\n",
    "#     plt.plot(trans_var, dat['target'],'.',alpha=0.5)\n",
    "#     plt.title('corr='+'{:.2f}'.format(np.corrcoef(trans_var,dat['target'])[0][1]))"
   ]
  },
  {
   "cell_type": "markdown",
   "metadata": {
    "id": "4D8A34899F1E4F8283E8861878C734C7",
    "jupyter": {},
    "notebookId": "641dabcafeb4fe02b2cd3ede",
    "runtime": {
     "execution_status": null,
     "status": "default"
    },
    "scrolled": false,
    "slideshow": {
     "slide_type": "slide"
    },
    "tags": []
   },
   "source": [
    "# 2.数据特征工程  \n",
    "\n",
    "## 2.1数据预处理和特征处理"
   ]
  },
  {
   "cell_type": "code",
   "execution_count": 88,
   "metadata": {
    "collapsed": false,
    "execution": {
     "iopub.execute_input": "2023-03-23T10:10:46.055500Z",
     "iopub.status.busy": "2023-03-23T10:10:46.055252Z",
     "iopub.status.idle": "2023-03-23T10:10:46.086588Z",
     "shell.execute_reply": "2023-03-23T10:10:46.086035Z",
     "shell.execute_reply.started": "2023-03-23T10:10:46.055481Z"
    },
    "id": "2CB5DD027911427394666ABE5E6E1EFE",
    "jupyter": {
     "outputs_hidden": false
    },
    "notebookId": "641dabcafeb4fe02b2cd3ede",
    "scrolled": true,
    "slideshow": {
     "slide_type": "slide"
    },
    "tags": []
   },
   "outputs": [],
   "source": [
    "# 导入数据分析工具包\n",
    "import numpy as np\n",
    "import pandas as pd\n",
    "import matplotlib.pyplot as plt\n",
    "import seaborn as sns\n",
    "\n",
    "from scipy import stats\n",
    "\n",
    "import warnings\n",
    "warnings.filterwarnings(\"ignore\")\n",
    " \n",
    "%matplotlib inline\n",
    "\n",
    "# 读取数据\n",
    "train_data_file = \"./zhengqi_train.txt\"\n",
    "test_data_file =  \"./zhengqi_test.txt\"\n",
    "\n",
    "train_data = pd.read_csv(train_data_file, sep='\\t', encoding='utf-8')\n",
    "test_data = pd.read_csv(test_data_file, sep='\\t', encoding='utf-8')"
   ]
  },
  {
   "cell_type": "code",
   "execution_count": 89,
   "metadata": {
    "collapsed": false,
    "execution": {
     "iopub.execute_input": "2023-03-23T10:10:46.087581Z",
     "iopub.status.busy": "2023-03-23T10:10:46.087345Z",
     "iopub.status.idle": "2023-03-23T10:10:46.179321Z",
     "shell.execute_reply": "2023-03-23T10:10:46.178785Z",
     "shell.execute_reply.started": "2023-03-23T10:10:46.087561Z"
    },
    "id": "62ADC1C998BC47708C035ADC903FA02F",
    "jupyter": {
     "outputs_hidden": false
    },
    "notebookId": "641dabcafeb4fe02b2cd3ede",
    "scrolled": true,
    "slideshow": {
     "slide_type": "slide"
    },
    "tags": []
   },
   "outputs": [
    {
     "data": {
      "text/html": [
       "<div>\n",
       "<style scoped>\n",
       "    .dataframe tbody tr th:only-of-type {\n",
       "        vertical-align: middle;\n",
       "    }\n",
       "\n",
       "    .dataframe tbody tr th {\n",
       "        vertical-align: top;\n",
       "    }\n",
       "\n",
       "    .dataframe thead th {\n",
       "        text-align: right;\n",
       "    }\n",
       "</style>\n",
       "<table border=\"1\" class=\"dataframe\">\n",
       "  <thead>\n",
       "    <tr style=\"text-align: right;\">\n",
       "      <th></th>\n",
       "      <th>V0</th>\n",
       "      <th>V1</th>\n",
       "      <th>V2</th>\n",
       "      <th>V3</th>\n",
       "      <th>V4</th>\n",
       "      <th>V5</th>\n",
       "      <th>V6</th>\n",
       "      <th>V7</th>\n",
       "      <th>V8</th>\n",
       "      <th>V9</th>\n",
       "      <th>...</th>\n",
       "      <th>V29</th>\n",
       "      <th>V30</th>\n",
       "      <th>V31</th>\n",
       "      <th>V32</th>\n",
       "      <th>V33</th>\n",
       "      <th>V34</th>\n",
       "      <th>V35</th>\n",
       "      <th>V36</th>\n",
       "      <th>V37</th>\n",
       "      <th>target</th>\n",
       "    </tr>\n",
       "  </thead>\n",
       "  <tbody>\n",
       "    <tr>\n",
       "      <th>count</th>\n",
       "      <td>2888.000000</td>\n",
       "      <td>2888.000000</td>\n",
       "      <td>2888.000000</td>\n",
       "      <td>2888.000000</td>\n",
       "      <td>2888.000000</td>\n",
       "      <td>2888.000000</td>\n",
       "      <td>2888.000000</td>\n",
       "      <td>2888.000000</td>\n",
       "      <td>2888.000000</td>\n",
       "      <td>2888.000000</td>\n",
       "      <td>...</td>\n",
       "      <td>2888.000000</td>\n",
       "      <td>2888.000000</td>\n",
       "      <td>2888.000000</td>\n",
       "      <td>2888.000000</td>\n",
       "      <td>2888.000000</td>\n",
       "      <td>2888.000000</td>\n",
       "      <td>2888.000000</td>\n",
       "      <td>2888.000000</td>\n",
       "      <td>2888.000000</td>\n",
       "      <td>2888.000000</td>\n",
       "    </tr>\n",
       "    <tr>\n",
       "      <th>mean</th>\n",
       "      <td>0.123048</td>\n",
       "      <td>0.056068</td>\n",
       "      <td>0.289720</td>\n",
       "      <td>-0.067790</td>\n",
       "      <td>0.012921</td>\n",
       "      <td>-0.558565</td>\n",
       "      <td>0.182892</td>\n",
       "      <td>0.116155</td>\n",
       "      <td>0.177856</td>\n",
       "      <td>-0.169452</td>\n",
       "      <td>...</td>\n",
       "      <td>0.097648</td>\n",
       "      <td>0.055477</td>\n",
       "      <td>0.127791</td>\n",
       "      <td>0.020806</td>\n",
       "      <td>0.007801</td>\n",
       "      <td>0.006715</td>\n",
       "      <td>0.197764</td>\n",
       "      <td>0.030658</td>\n",
       "      <td>-0.130330</td>\n",
       "      <td>0.126353</td>\n",
       "    </tr>\n",
       "    <tr>\n",
       "      <th>std</th>\n",
       "      <td>0.928031</td>\n",
       "      <td>0.941515</td>\n",
       "      <td>0.911236</td>\n",
       "      <td>0.970298</td>\n",
       "      <td>0.888377</td>\n",
       "      <td>0.517957</td>\n",
       "      <td>0.918054</td>\n",
       "      <td>0.955116</td>\n",
       "      <td>0.895444</td>\n",
       "      <td>0.953813</td>\n",
       "      <td>...</td>\n",
       "      <td>1.061200</td>\n",
       "      <td>0.901934</td>\n",
       "      <td>0.873028</td>\n",
       "      <td>0.902584</td>\n",
       "      <td>1.006995</td>\n",
       "      <td>1.003291</td>\n",
       "      <td>0.985675</td>\n",
       "      <td>0.970812</td>\n",
       "      <td>1.017196</td>\n",
       "      <td>0.983966</td>\n",
       "    </tr>\n",
       "    <tr>\n",
       "      <th>min</th>\n",
       "      <td>-4.335000</td>\n",
       "      <td>-5.122000</td>\n",
       "      <td>-3.420000</td>\n",
       "      <td>-3.956000</td>\n",
       "      <td>-4.742000</td>\n",
       "      <td>-2.182000</td>\n",
       "      <td>-4.576000</td>\n",
       "      <td>-5.048000</td>\n",
       "      <td>-4.692000</td>\n",
       "      <td>-12.891000</td>\n",
       "      <td>...</td>\n",
       "      <td>-2.912000</td>\n",
       "      <td>-4.507000</td>\n",
       "      <td>-5.859000</td>\n",
       "      <td>-4.053000</td>\n",
       "      <td>-4.627000</td>\n",
       "      <td>-4.789000</td>\n",
       "      <td>-5.695000</td>\n",
       "      <td>-2.608000</td>\n",
       "      <td>-3.630000</td>\n",
       "      <td>-3.044000</td>\n",
       "    </tr>\n",
       "    <tr>\n",
       "      <th>25%</th>\n",
       "      <td>-0.297000</td>\n",
       "      <td>-0.226250</td>\n",
       "      <td>-0.313000</td>\n",
       "      <td>-0.652250</td>\n",
       "      <td>-0.385000</td>\n",
       "      <td>-0.853000</td>\n",
       "      <td>-0.310000</td>\n",
       "      <td>-0.295000</td>\n",
       "      <td>-0.159000</td>\n",
       "      <td>-0.390000</td>\n",
       "      <td>...</td>\n",
       "      <td>-0.664000</td>\n",
       "      <td>-0.283000</td>\n",
       "      <td>-0.170250</td>\n",
       "      <td>-0.407250</td>\n",
       "      <td>-0.499000</td>\n",
       "      <td>-0.290000</td>\n",
       "      <td>-0.202500</td>\n",
       "      <td>-0.413000</td>\n",
       "      <td>-0.798250</td>\n",
       "      <td>-0.350250</td>\n",
       "    </tr>\n",
       "    <tr>\n",
       "      <th>50%</th>\n",
       "      <td>0.359000</td>\n",
       "      <td>0.272500</td>\n",
       "      <td>0.386000</td>\n",
       "      <td>-0.044500</td>\n",
       "      <td>0.110000</td>\n",
       "      <td>-0.466000</td>\n",
       "      <td>0.388000</td>\n",
       "      <td>0.344000</td>\n",
       "      <td>0.362000</td>\n",
       "      <td>0.042000</td>\n",
       "      <td>...</td>\n",
       "      <td>-0.023000</td>\n",
       "      <td>0.053500</td>\n",
       "      <td>0.299500</td>\n",
       "      <td>0.039000</td>\n",
       "      <td>-0.040000</td>\n",
       "      <td>0.160000</td>\n",
       "      <td>0.364000</td>\n",
       "      <td>0.137000</td>\n",
       "      <td>-0.185500</td>\n",
       "      <td>0.313000</td>\n",
       "    </tr>\n",
       "    <tr>\n",
       "      <th>75%</th>\n",
       "      <td>0.726000</td>\n",
       "      <td>0.599000</td>\n",
       "      <td>0.918250</td>\n",
       "      <td>0.624000</td>\n",
       "      <td>0.550250</td>\n",
       "      <td>-0.154000</td>\n",
       "      <td>0.831250</td>\n",
       "      <td>0.782250</td>\n",
       "      <td>0.726000</td>\n",
       "      <td>0.042000</td>\n",
       "      <td>...</td>\n",
       "      <td>0.745250</td>\n",
       "      <td>0.488000</td>\n",
       "      <td>0.635000</td>\n",
       "      <td>0.557000</td>\n",
       "      <td>0.462000</td>\n",
       "      <td>0.273000</td>\n",
       "      <td>0.602000</td>\n",
       "      <td>0.644250</td>\n",
       "      <td>0.495250</td>\n",
       "      <td>0.793250</td>\n",
       "    </tr>\n",
       "    <tr>\n",
       "      <th>max</th>\n",
       "      <td>2.121000</td>\n",
       "      <td>1.918000</td>\n",
       "      <td>2.828000</td>\n",
       "      <td>2.457000</td>\n",
       "      <td>2.689000</td>\n",
       "      <td>0.489000</td>\n",
       "      <td>1.895000</td>\n",
       "      <td>1.918000</td>\n",
       "      <td>2.245000</td>\n",
       "      <td>1.335000</td>\n",
       "      <td>...</td>\n",
       "      <td>4.580000</td>\n",
       "      <td>2.689000</td>\n",
       "      <td>2.013000</td>\n",
       "      <td>2.395000</td>\n",
       "      <td>5.465000</td>\n",
       "      <td>5.110000</td>\n",
       "      <td>2.324000</td>\n",
       "      <td>5.238000</td>\n",
       "      <td>3.000000</td>\n",
       "      <td>2.538000</td>\n",
       "    </tr>\n",
       "  </tbody>\n",
       "</table>\n",
       "<p>8 rows × 39 columns</p>\n",
       "</div>"
      ],
      "text/plain": [
       "                V0           V1           V2           V3           V4  \\\n",
       "count  2888.000000  2888.000000  2888.000000  2888.000000  2888.000000   \n",
       "mean      0.123048     0.056068     0.289720    -0.067790     0.012921   \n",
       "std       0.928031     0.941515     0.911236     0.970298     0.888377   \n",
       "min      -4.335000    -5.122000    -3.420000    -3.956000    -4.742000   \n",
       "25%      -0.297000    -0.226250    -0.313000    -0.652250    -0.385000   \n",
       "50%       0.359000     0.272500     0.386000    -0.044500     0.110000   \n",
       "75%       0.726000     0.599000     0.918250     0.624000     0.550250   \n",
       "max       2.121000     1.918000     2.828000     2.457000     2.689000   \n",
       "\n",
       "                V5           V6           V7           V8           V9  ...  \\\n",
       "count  2888.000000  2888.000000  2888.000000  2888.000000  2888.000000  ...   \n",
       "mean     -0.558565     0.182892     0.116155     0.177856    -0.169452  ...   \n",
       "std       0.517957     0.918054     0.955116     0.895444     0.953813  ...   \n",
       "min      -2.182000    -4.576000    -5.048000    -4.692000   -12.891000  ...   \n",
       "25%      -0.853000    -0.310000    -0.295000    -0.159000    -0.390000  ...   \n",
       "50%      -0.466000     0.388000     0.344000     0.362000     0.042000  ...   \n",
       "75%      -0.154000     0.831250     0.782250     0.726000     0.042000  ...   \n",
       "max       0.489000     1.895000     1.918000     2.245000     1.335000  ...   \n",
       "\n",
       "               V29          V30          V31          V32          V33  \\\n",
       "count  2888.000000  2888.000000  2888.000000  2888.000000  2888.000000   \n",
       "mean      0.097648     0.055477     0.127791     0.020806     0.007801   \n",
       "std       1.061200     0.901934     0.873028     0.902584     1.006995   \n",
       "min      -2.912000    -4.507000    -5.859000    -4.053000    -4.627000   \n",
       "25%      -0.664000    -0.283000    -0.170250    -0.407250    -0.499000   \n",
       "50%      -0.023000     0.053500     0.299500     0.039000    -0.040000   \n",
       "75%       0.745250     0.488000     0.635000     0.557000     0.462000   \n",
       "max       4.580000     2.689000     2.013000     2.395000     5.465000   \n",
       "\n",
       "               V34          V35          V36          V37       target  \n",
       "count  2888.000000  2888.000000  2888.000000  2888.000000  2888.000000  \n",
       "mean      0.006715     0.197764     0.030658    -0.130330     0.126353  \n",
       "std       1.003291     0.985675     0.970812     1.017196     0.983966  \n",
       "min      -4.789000    -5.695000    -2.608000    -3.630000    -3.044000  \n",
       "25%      -0.290000    -0.202500    -0.413000    -0.798250    -0.350250  \n",
       "50%       0.160000     0.364000     0.137000    -0.185500     0.313000  \n",
       "75%       0.273000     0.602000     0.644250     0.495250     0.793250  \n",
       "max       5.110000     2.324000     5.238000     3.000000     2.538000  \n",
       "\n",
       "[8 rows x 39 columns]"
      ]
     },
     "execution_count": 89,
     "metadata": {},
     "output_type": "execute_result"
    }
   ],
   "source": [
    "train_data.describe()\n",
    "#数据总览"
   ]
  },
  {
   "cell_type": "markdown",
   "metadata": {
    "id": "B0B66AE7F6D34EE1BAA728F1B4067F50",
    "jupyter": {},
    "notebookId": "641dabcafeb4fe02b2cd3ede",
    "runtime": {
     "execution_status": null,
     "status": "default"
    },
    "scrolled": false,
    "slideshow": {
     "slide_type": "slide"
    },
    "tags": []
   },
   "source": [
    "### 2.1.1 异常值分析"
   ]
  },
  {
   "cell_type": "code",
   "execution_count": 90,
   "metadata": {
    "collapsed": false,
    "execution": {
     "iopub.execute_input": "2023-03-23T10:10:46.180339Z",
     "iopub.status.busy": "2023-03-23T10:10:46.180094Z",
     "iopub.status.idle": "2023-03-23T10:10:47.481977Z",
     "shell.execute_reply": "2023-03-23T10:10:47.481369Z",
     "shell.execute_reply.started": "2023-03-23T10:10:46.180318Z"
    },
    "id": "FA532BF3BE48418A95AD4E9D4262930D",
    "jupyter": {
     "outputs_hidden": false
    },
    "notebookId": "641dabcafeb4fe02b2cd3ede",
    "scrolled": true,
    "slideshow": {
     "slide_type": "slide"
    },
    "tags": []
   },
   "outputs": [
    {
     "data": {
      "text/html": [
       "<img src=\"https://cdn.kesci.com/upload/rt/FA532BF3BE48418A95AD4E9D4262930D/rs13fnniai.png\">"
      ],
      "text/plain": [
       "<Figure size 1296x720 with 1 Axes>"
      ]
     },
     "metadata": {
      "needs_background": "light"
     },
     "output_type": "display_data"
    }
   ],
   "source": [
    "#异常值分析\n",
    "plt.figure(figsize=(18, 10))\n",
    "plt.boxplot(x=train_data.values,labels=train_data.columns)\n",
    "plt.hlines([-7.5, 7.5], 0, 40, colors='r')\n",
    "plt.show()"
   ]
  },
  {
   "cell_type": "code",
   "execution_count": 91,
   "metadata": {
    "collapsed": false,
    "execution": {
     "iopub.execute_input": "2023-03-23T10:10:47.483067Z",
     "iopub.status.busy": "2023-03-23T10:10:47.482792Z",
     "iopub.status.idle": "2023-03-23T10:10:47.574815Z",
     "shell.execute_reply": "2023-03-23T10:10:47.574301Z",
     "shell.execute_reply.started": "2023-03-23T10:10:47.483046Z"
    },
    "id": "55C4CE1215334F46B8E6D8F73A18096A",
    "jupyter": {
     "outputs_hidden": false
    },
    "notebookId": "641dabcafeb4fe02b2cd3ede",
    "scrolled": true,
    "slideshow": {
     "slide_type": "slide"
    },
    "tags": []
   },
   "outputs": [
    {
     "data": {
      "text/html": [
       "<div>\n",
       "<style scoped>\n",
       "    .dataframe tbody tr th:only-of-type {\n",
       "        vertical-align: middle;\n",
       "    }\n",
       "\n",
       "    .dataframe tbody tr th {\n",
       "        vertical-align: top;\n",
       "    }\n",
       "\n",
       "    .dataframe thead th {\n",
       "        text-align: right;\n",
       "    }\n",
       "</style>\n",
       "<table border=\"1\" class=\"dataframe\">\n",
       "  <thead>\n",
       "    <tr style=\"text-align: right;\">\n",
       "      <th></th>\n",
       "      <th>V0</th>\n",
       "      <th>V1</th>\n",
       "      <th>V2</th>\n",
       "      <th>V3</th>\n",
       "      <th>V4</th>\n",
       "      <th>V5</th>\n",
       "      <th>V6</th>\n",
       "      <th>V7</th>\n",
       "      <th>V8</th>\n",
       "      <th>V9</th>\n",
       "      <th>...</th>\n",
       "      <th>V29</th>\n",
       "      <th>V30</th>\n",
       "      <th>V31</th>\n",
       "      <th>V32</th>\n",
       "      <th>V33</th>\n",
       "      <th>V34</th>\n",
       "      <th>V35</th>\n",
       "      <th>V36</th>\n",
       "      <th>V37</th>\n",
       "      <th>target</th>\n",
       "    </tr>\n",
       "  </thead>\n",
       "  <tbody>\n",
       "    <tr>\n",
       "      <th>count</th>\n",
       "      <td>2886.000000</td>\n",
       "      <td>2886.000000</td>\n",
       "      <td>2886.000000</td>\n",
       "      <td>2886.000000</td>\n",
       "      <td>2886.000000</td>\n",
       "      <td>2886.000000</td>\n",
       "      <td>2886.000000</td>\n",
       "      <td>2886.000000</td>\n",
       "      <td>2886.000000</td>\n",
       "      <td>2886.00000</td>\n",
       "      <td>...</td>\n",
       "      <td>2886.000000</td>\n",
       "      <td>2886.000000</td>\n",
       "      <td>2886.000000</td>\n",
       "      <td>2886.000000</td>\n",
       "      <td>2886.000000</td>\n",
       "      <td>2886.000000</td>\n",
       "      <td>2886.000000</td>\n",
       "      <td>2886.000000</td>\n",
       "      <td>2886.000000</td>\n",
       "      <td>2886.000000</td>\n",
       "    </tr>\n",
       "    <tr>\n",
       "      <th>mean</th>\n",
       "      <td>0.123725</td>\n",
       "      <td>0.056856</td>\n",
       "      <td>0.290340</td>\n",
       "      <td>-0.068364</td>\n",
       "      <td>0.012254</td>\n",
       "      <td>-0.558971</td>\n",
       "      <td>0.183273</td>\n",
       "      <td>0.116274</td>\n",
       "      <td>0.178138</td>\n",
       "      <td>-0.16213</td>\n",
       "      <td>...</td>\n",
       "      <td>0.097019</td>\n",
       "      <td>0.058619</td>\n",
       "      <td>0.127617</td>\n",
       "      <td>0.023626</td>\n",
       "      <td>0.008271</td>\n",
       "      <td>0.006959</td>\n",
       "      <td>0.198513</td>\n",
       "      <td>0.030099</td>\n",
       "      <td>-0.131957</td>\n",
       "      <td>0.127451</td>\n",
       "    </tr>\n",
       "    <tr>\n",
       "      <th>std</th>\n",
       "      <td>0.927984</td>\n",
       "      <td>0.941269</td>\n",
       "      <td>0.911231</td>\n",
       "      <td>0.970357</td>\n",
       "      <td>0.888037</td>\n",
       "      <td>0.517871</td>\n",
       "      <td>0.918211</td>\n",
       "      <td>0.955418</td>\n",
       "      <td>0.895552</td>\n",
       "      <td>0.91089</td>\n",
       "      <td>...</td>\n",
       "      <td>1.060824</td>\n",
       "      <td>0.894311</td>\n",
       "      <td>0.873300</td>\n",
       "      <td>0.896509</td>\n",
       "      <td>1.007175</td>\n",
       "      <td>1.003411</td>\n",
       "      <td>0.985058</td>\n",
       "      <td>0.970258</td>\n",
       "      <td>1.015666</td>\n",
       "      <td>0.983144</td>\n",
       "    </tr>\n",
       "    <tr>\n",
       "      <th>min</th>\n",
       "      <td>-4.335000</td>\n",
       "      <td>-5.122000</td>\n",
       "      <td>-3.420000</td>\n",
       "      <td>-3.956000</td>\n",
       "      <td>-4.742000</td>\n",
       "      <td>-2.182000</td>\n",
       "      <td>-4.576000</td>\n",
       "      <td>-5.048000</td>\n",
       "      <td>-4.692000</td>\n",
       "      <td>-7.07100</td>\n",
       "      <td>...</td>\n",
       "      <td>-2.912000</td>\n",
       "      <td>-4.507000</td>\n",
       "      <td>-5.859000</td>\n",
       "      <td>-4.053000</td>\n",
       "      <td>-4.627000</td>\n",
       "      <td>-4.789000</td>\n",
       "      <td>-5.695000</td>\n",
       "      <td>-2.608000</td>\n",
       "      <td>-3.630000</td>\n",
       "      <td>-3.044000</td>\n",
       "    </tr>\n",
       "    <tr>\n",
       "      <th>25%</th>\n",
       "      <td>-0.292000</td>\n",
       "      <td>-0.224250</td>\n",
       "      <td>-0.310000</td>\n",
       "      <td>-0.652750</td>\n",
       "      <td>-0.385000</td>\n",
       "      <td>-0.853000</td>\n",
       "      <td>-0.310000</td>\n",
       "      <td>-0.295000</td>\n",
       "      <td>-0.158750</td>\n",
       "      <td>-0.39000</td>\n",
       "      <td>...</td>\n",
       "      <td>-0.664000</td>\n",
       "      <td>-0.282000</td>\n",
       "      <td>-0.170750</td>\n",
       "      <td>-0.405000</td>\n",
       "      <td>-0.499000</td>\n",
       "      <td>-0.290000</td>\n",
       "      <td>-0.199750</td>\n",
       "      <td>-0.412750</td>\n",
       "      <td>-0.798750</td>\n",
       "      <td>-0.347500</td>\n",
       "    </tr>\n",
       "    <tr>\n",
       "      <th>50%</th>\n",
       "      <td>0.359500</td>\n",
       "      <td>0.273000</td>\n",
       "      <td>0.386000</td>\n",
       "      <td>-0.045000</td>\n",
       "      <td>0.109500</td>\n",
       "      <td>-0.466000</td>\n",
       "      <td>0.388500</td>\n",
       "      <td>0.345000</td>\n",
       "      <td>0.362000</td>\n",
       "      <td>0.04200</td>\n",
       "      <td>...</td>\n",
       "      <td>-0.023000</td>\n",
       "      <td>0.054500</td>\n",
       "      <td>0.299500</td>\n",
       "      <td>0.040000</td>\n",
       "      <td>-0.040000</td>\n",
       "      <td>0.160000</td>\n",
       "      <td>0.364000</td>\n",
       "      <td>0.137000</td>\n",
       "      <td>-0.186000</td>\n",
       "      <td>0.314000</td>\n",
       "    </tr>\n",
       "    <tr>\n",
       "      <th>75%</th>\n",
       "      <td>0.726000</td>\n",
       "      <td>0.599000</td>\n",
       "      <td>0.918750</td>\n",
       "      <td>0.623500</td>\n",
       "      <td>0.550000</td>\n",
       "      <td>-0.154000</td>\n",
       "      <td>0.831750</td>\n",
       "      <td>0.782750</td>\n",
       "      <td>0.726000</td>\n",
       "      <td>0.04200</td>\n",
       "      <td>...</td>\n",
       "      <td>0.745000</td>\n",
       "      <td>0.488000</td>\n",
       "      <td>0.635000</td>\n",
       "      <td>0.557000</td>\n",
       "      <td>0.462000</td>\n",
       "      <td>0.273000</td>\n",
       "      <td>0.602000</td>\n",
       "      <td>0.643750</td>\n",
       "      <td>0.493000</td>\n",
       "      <td>0.793750</td>\n",
       "    </tr>\n",
       "    <tr>\n",
       "      <th>max</th>\n",
       "      <td>2.121000</td>\n",
       "      <td>1.918000</td>\n",
       "      <td>2.828000</td>\n",
       "      <td>2.457000</td>\n",
       "      <td>2.689000</td>\n",
       "      <td>0.489000</td>\n",
       "      <td>1.895000</td>\n",
       "      <td>1.918000</td>\n",
       "      <td>2.245000</td>\n",
       "      <td>1.33500</td>\n",
       "      <td>...</td>\n",
       "      <td>4.580000</td>\n",
       "      <td>2.689000</td>\n",
       "      <td>2.013000</td>\n",
       "      <td>2.395000</td>\n",
       "      <td>5.465000</td>\n",
       "      <td>5.110000</td>\n",
       "      <td>2.324000</td>\n",
       "      <td>5.238000</td>\n",
       "      <td>3.000000</td>\n",
       "      <td>2.538000</td>\n",
       "    </tr>\n",
       "  </tbody>\n",
       "</table>\n",
       "<p>8 rows × 39 columns</p>\n",
       "</div>"
      ],
      "text/plain": [
       "                V0           V1           V2           V3           V4  \\\n",
       "count  2886.000000  2886.000000  2886.000000  2886.000000  2886.000000   \n",
       "mean      0.123725     0.056856     0.290340    -0.068364     0.012254   \n",
       "std       0.927984     0.941269     0.911231     0.970357     0.888037   \n",
       "min      -4.335000    -5.122000    -3.420000    -3.956000    -4.742000   \n",
       "25%      -0.292000    -0.224250    -0.310000    -0.652750    -0.385000   \n",
       "50%       0.359500     0.273000     0.386000    -0.045000     0.109500   \n",
       "75%       0.726000     0.599000     0.918750     0.623500     0.550000   \n",
       "max       2.121000     1.918000     2.828000     2.457000     2.689000   \n",
       "\n",
       "                V5           V6           V7           V8          V9  ...  \\\n",
       "count  2886.000000  2886.000000  2886.000000  2886.000000  2886.00000  ...   \n",
       "mean     -0.558971     0.183273     0.116274     0.178138    -0.16213  ...   \n",
       "std       0.517871     0.918211     0.955418     0.895552     0.91089  ...   \n",
       "min      -2.182000    -4.576000    -5.048000    -4.692000    -7.07100  ...   \n",
       "25%      -0.853000    -0.310000    -0.295000    -0.158750    -0.39000  ...   \n",
       "50%      -0.466000     0.388500     0.345000     0.362000     0.04200  ...   \n",
       "75%      -0.154000     0.831750     0.782750     0.726000     0.04200  ...   \n",
       "max       0.489000     1.895000     1.918000     2.245000     1.33500  ...   \n",
       "\n",
       "               V29          V30          V31          V32          V33  \\\n",
       "count  2886.000000  2886.000000  2886.000000  2886.000000  2886.000000   \n",
       "mean      0.097019     0.058619     0.127617     0.023626     0.008271   \n",
       "std       1.060824     0.894311     0.873300     0.896509     1.007175   \n",
       "min      -2.912000    -4.507000    -5.859000    -4.053000    -4.627000   \n",
       "25%      -0.664000    -0.282000    -0.170750    -0.405000    -0.499000   \n",
       "50%      -0.023000     0.054500     0.299500     0.040000    -0.040000   \n",
       "75%       0.745000     0.488000     0.635000     0.557000     0.462000   \n",
       "max       4.580000     2.689000     2.013000     2.395000     5.465000   \n",
       "\n",
       "               V34          V35          V36          V37       target  \n",
       "count  2886.000000  2886.000000  2886.000000  2886.000000  2886.000000  \n",
       "mean      0.006959     0.198513     0.030099    -0.131957     0.127451  \n",
       "std       1.003411     0.985058     0.970258     1.015666     0.983144  \n",
       "min      -4.789000    -5.695000    -2.608000    -3.630000    -3.044000  \n",
       "25%      -0.290000    -0.199750    -0.412750    -0.798750    -0.347500  \n",
       "50%       0.160000     0.364000     0.137000    -0.186000     0.314000  \n",
       "75%       0.273000     0.602000     0.643750     0.493000     0.793750  \n",
       "max       5.110000     2.324000     5.238000     3.000000     2.538000  \n",
       "\n",
       "[8 rows x 39 columns]"
      ]
     },
     "execution_count": 91,
     "metadata": {},
     "output_type": "execute_result"
    }
   ],
   "source": [
    "## 删除异常值\n",
    "train_data = train_data[train_data['V9']>-7.5]\n",
    "train_data.describe()"
   ]
  },
  {
   "cell_type": "code",
   "execution_count": 92,
   "metadata": {
    "collapsed": false,
    "execution": {
     "iopub.execute_input": "2023-03-23T10:10:47.575776Z",
     "iopub.status.busy": "2023-03-23T10:10:47.575527Z",
     "iopub.status.idle": "2023-03-23T10:10:47.663276Z",
     "shell.execute_reply": "2023-03-23T10:10:47.662754Z",
     "shell.execute_reply.started": "2023-03-23T10:10:47.575755Z"
    },
    "id": "3A37B0C888C440E7A289C2FB66299CFD",
    "jupyter": {
     "outputs_hidden": false
    },
    "notebookId": "641dabcafeb4fe02b2cd3ede",
    "scrolled": true,
    "slideshow": {
     "slide_type": "slide"
    },
    "tags": []
   },
   "outputs": [
    {
     "data": {
      "text/html": [
       "<div>\n",
       "<style scoped>\n",
       "    .dataframe tbody tr th:only-of-type {\n",
       "        vertical-align: middle;\n",
       "    }\n",
       "\n",
       "    .dataframe tbody tr th {\n",
       "        vertical-align: top;\n",
       "    }\n",
       "\n",
       "    .dataframe thead th {\n",
       "        text-align: right;\n",
       "    }\n",
       "</style>\n",
       "<table border=\"1\" class=\"dataframe\">\n",
       "  <thead>\n",
       "    <tr style=\"text-align: right;\">\n",
       "      <th></th>\n",
       "      <th>V0</th>\n",
       "      <th>V1</th>\n",
       "      <th>V2</th>\n",
       "      <th>V3</th>\n",
       "      <th>V4</th>\n",
       "      <th>V5</th>\n",
       "      <th>V6</th>\n",
       "      <th>V7</th>\n",
       "      <th>V8</th>\n",
       "      <th>V9</th>\n",
       "      <th>...</th>\n",
       "      <th>V28</th>\n",
       "      <th>V29</th>\n",
       "      <th>V30</th>\n",
       "      <th>V31</th>\n",
       "      <th>V32</th>\n",
       "      <th>V33</th>\n",
       "      <th>V34</th>\n",
       "      <th>V35</th>\n",
       "      <th>V36</th>\n",
       "      <th>V37</th>\n",
       "    </tr>\n",
       "  </thead>\n",
       "  <tbody>\n",
       "    <tr>\n",
       "      <th>count</th>\n",
       "      <td>1925.000000</td>\n",
       "      <td>1925.000000</td>\n",
       "      <td>1925.000000</td>\n",
       "      <td>1925.000000</td>\n",
       "      <td>1925.000000</td>\n",
       "      <td>1925.000000</td>\n",
       "      <td>1925.000000</td>\n",
       "      <td>1925.000000</td>\n",
       "      <td>1925.000000</td>\n",
       "      <td>1925.000000</td>\n",
       "      <td>...</td>\n",
       "      <td>1925.000000</td>\n",
       "      <td>1925.000000</td>\n",
       "      <td>1925.000000</td>\n",
       "      <td>1925.000000</td>\n",
       "      <td>1925.000000</td>\n",
       "      <td>1925.000000</td>\n",
       "      <td>1925.000000</td>\n",
       "      <td>1925.000000</td>\n",
       "      <td>1925.000000</td>\n",
       "      <td>1925.000000</td>\n",
       "    </tr>\n",
       "    <tr>\n",
       "      <th>mean</th>\n",
       "      <td>-0.184404</td>\n",
       "      <td>-0.083912</td>\n",
       "      <td>-0.434762</td>\n",
       "      <td>0.101671</td>\n",
       "      <td>-0.019172</td>\n",
       "      <td>0.838049</td>\n",
       "      <td>-0.274092</td>\n",
       "      <td>-0.173971</td>\n",
       "      <td>-0.266709</td>\n",
       "      <td>0.255114</td>\n",
       "      <td>...</td>\n",
       "      <td>-0.206871</td>\n",
       "      <td>-0.146463</td>\n",
       "      <td>-0.083215</td>\n",
       "      <td>-0.191729</td>\n",
       "      <td>-0.030782</td>\n",
       "      <td>-0.011433</td>\n",
       "      <td>-0.009985</td>\n",
       "      <td>-0.296895</td>\n",
       "      <td>-0.046270</td>\n",
       "      <td>0.195735</td>\n",
       "    </tr>\n",
       "    <tr>\n",
       "      <th>std</th>\n",
       "      <td>1.073333</td>\n",
       "      <td>1.076670</td>\n",
       "      <td>0.969541</td>\n",
       "      <td>1.034925</td>\n",
       "      <td>1.147286</td>\n",
       "      <td>0.963043</td>\n",
       "      <td>1.054119</td>\n",
       "      <td>1.040101</td>\n",
       "      <td>1.085916</td>\n",
       "      <td>1.014394</td>\n",
       "      <td>...</td>\n",
       "      <td>1.064140</td>\n",
       "      <td>0.880593</td>\n",
       "      <td>1.126414</td>\n",
       "      <td>1.138454</td>\n",
       "      <td>1.130228</td>\n",
       "      <td>0.989732</td>\n",
       "      <td>0.995213</td>\n",
       "      <td>0.946896</td>\n",
       "      <td>1.040854</td>\n",
       "      <td>0.940599</td>\n",
       "    </tr>\n",
       "    <tr>\n",
       "      <th>min</th>\n",
       "      <td>-4.814000</td>\n",
       "      <td>-5.488000</td>\n",
       "      <td>-4.283000</td>\n",
       "      <td>-3.276000</td>\n",
       "      <td>-4.921000</td>\n",
       "      <td>-1.168000</td>\n",
       "      <td>-5.649000</td>\n",
       "      <td>-5.625000</td>\n",
       "      <td>-6.059000</td>\n",
       "      <td>-6.784000</td>\n",
       "      <td>...</td>\n",
       "      <td>-2.435000</td>\n",
       "      <td>-2.413000</td>\n",
       "      <td>-4.507000</td>\n",
       "      <td>-7.698000</td>\n",
       "      <td>-4.057000</td>\n",
       "      <td>-4.627000</td>\n",
       "      <td>-4.789000</td>\n",
       "      <td>-7.477000</td>\n",
       "      <td>-2.608000</td>\n",
       "      <td>-3.346000</td>\n",
       "    </tr>\n",
       "    <tr>\n",
       "      <th>25%</th>\n",
       "      <td>-0.664000</td>\n",
       "      <td>-0.451000</td>\n",
       "      <td>-0.978000</td>\n",
       "      <td>-0.644000</td>\n",
       "      <td>-0.497000</td>\n",
       "      <td>0.122000</td>\n",
       "      <td>-0.732000</td>\n",
       "      <td>-0.509000</td>\n",
       "      <td>-0.775000</td>\n",
       "      <td>-0.390000</td>\n",
       "      <td>...</td>\n",
       "      <td>-0.453000</td>\n",
       "      <td>-0.818000</td>\n",
       "      <td>-0.339000</td>\n",
       "      <td>-0.476000</td>\n",
       "      <td>-0.472000</td>\n",
       "      <td>-0.460000</td>\n",
       "      <td>-0.290000</td>\n",
       "      <td>-0.349000</td>\n",
       "      <td>-0.593000</td>\n",
       "      <td>-0.432000</td>\n",
       "    </tr>\n",
       "    <tr>\n",
       "      <th>50%</th>\n",
       "      <td>0.065000</td>\n",
       "      <td>0.195000</td>\n",
       "      <td>-0.267000</td>\n",
       "      <td>0.220000</td>\n",
       "      <td>0.118000</td>\n",
       "      <td>0.437000</td>\n",
       "      <td>-0.082000</td>\n",
       "      <td>0.018000</td>\n",
       "      <td>-0.004000</td>\n",
       "      <td>0.401000</td>\n",
       "      <td>...</td>\n",
       "      <td>-0.445000</td>\n",
       "      <td>-0.199000</td>\n",
       "      <td>0.010000</td>\n",
       "      <td>0.100000</td>\n",
       "      <td>0.155000</td>\n",
       "      <td>-0.040000</td>\n",
       "      <td>0.160000</td>\n",
       "      <td>-0.270000</td>\n",
       "      <td>0.083000</td>\n",
       "      <td>0.152000</td>\n",
       "    </tr>\n",
       "    <tr>\n",
       "      <th>75%</th>\n",
       "      <td>0.549000</td>\n",
       "      <td>0.589000</td>\n",
       "      <td>0.278000</td>\n",
       "      <td>0.793000</td>\n",
       "      <td>0.610000</td>\n",
       "      <td>1.928000</td>\n",
       "      <td>0.457000</td>\n",
       "      <td>0.515000</td>\n",
       "      <td>0.482000</td>\n",
       "      <td>0.904000</td>\n",
       "      <td>...</td>\n",
       "      <td>-0.434000</td>\n",
       "      <td>0.468000</td>\n",
       "      <td>0.447000</td>\n",
       "      <td>0.471000</td>\n",
       "      <td>0.627000</td>\n",
       "      <td>0.419000</td>\n",
       "      <td>0.273000</td>\n",
       "      <td>0.364000</td>\n",
       "      <td>0.651000</td>\n",
       "      <td>0.797000</td>\n",
       "    </tr>\n",
       "    <tr>\n",
       "      <th>max</th>\n",
       "      <td>2.100000</td>\n",
       "      <td>2.120000</td>\n",
       "      <td>1.946000</td>\n",
       "      <td>2.603000</td>\n",
       "      <td>4.475000</td>\n",
       "      <td>3.176000</td>\n",
       "      <td>1.528000</td>\n",
       "      <td>1.394000</td>\n",
       "      <td>2.408000</td>\n",
       "      <td>1.766000</td>\n",
       "      <td>...</td>\n",
       "      <td>4.656000</td>\n",
       "      <td>3.022000</td>\n",
       "      <td>3.139000</td>\n",
       "      <td>1.428000</td>\n",
       "      <td>2.299000</td>\n",
       "      <td>5.465000</td>\n",
       "      <td>5.110000</td>\n",
       "      <td>1.671000</td>\n",
       "      <td>2.861000</td>\n",
       "      <td>3.021000</td>\n",
       "    </tr>\n",
       "  </tbody>\n",
       "</table>\n",
       "<p>8 rows × 38 columns</p>\n",
       "</div>"
      ],
      "text/plain": [
       "                V0           V1           V2           V3           V4  \\\n",
       "count  1925.000000  1925.000000  1925.000000  1925.000000  1925.000000   \n",
       "mean     -0.184404    -0.083912    -0.434762     0.101671    -0.019172   \n",
       "std       1.073333     1.076670     0.969541     1.034925     1.147286   \n",
       "min      -4.814000    -5.488000    -4.283000    -3.276000    -4.921000   \n",
       "25%      -0.664000    -0.451000    -0.978000    -0.644000    -0.497000   \n",
       "50%       0.065000     0.195000    -0.267000     0.220000     0.118000   \n",
       "75%       0.549000     0.589000     0.278000     0.793000     0.610000   \n",
       "max       2.100000     2.120000     1.946000     2.603000     4.475000   \n",
       "\n",
       "                V5           V6           V7           V8           V9  ...  \\\n",
       "count  1925.000000  1925.000000  1925.000000  1925.000000  1925.000000  ...   \n",
       "mean      0.838049    -0.274092    -0.173971    -0.266709     0.255114  ...   \n",
       "std       0.963043     1.054119     1.040101     1.085916     1.014394  ...   \n",
       "min      -1.168000    -5.649000    -5.625000    -6.059000    -6.784000  ...   \n",
       "25%       0.122000    -0.732000    -0.509000    -0.775000    -0.390000  ...   \n",
       "50%       0.437000    -0.082000     0.018000    -0.004000     0.401000  ...   \n",
       "75%       1.928000     0.457000     0.515000     0.482000     0.904000  ...   \n",
       "max       3.176000     1.528000     1.394000     2.408000     1.766000  ...   \n",
       "\n",
       "               V28          V29          V30          V31          V32  \\\n",
       "count  1925.000000  1925.000000  1925.000000  1925.000000  1925.000000   \n",
       "mean     -0.206871    -0.146463    -0.083215    -0.191729    -0.030782   \n",
       "std       1.064140     0.880593     1.126414     1.138454     1.130228   \n",
       "min      -2.435000    -2.413000    -4.507000    -7.698000    -4.057000   \n",
       "25%      -0.453000    -0.818000    -0.339000    -0.476000    -0.472000   \n",
       "50%      -0.445000    -0.199000     0.010000     0.100000     0.155000   \n",
       "75%      -0.434000     0.468000     0.447000     0.471000     0.627000   \n",
       "max       4.656000     3.022000     3.139000     1.428000     2.299000   \n",
       "\n",
       "               V33          V34          V35          V36          V37  \n",
       "count  1925.000000  1925.000000  1925.000000  1925.000000  1925.000000  \n",
       "mean     -0.011433    -0.009985    -0.296895    -0.046270     0.195735  \n",
       "std       0.989732     0.995213     0.946896     1.040854     0.940599  \n",
       "min      -4.627000    -4.789000    -7.477000    -2.608000    -3.346000  \n",
       "25%      -0.460000    -0.290000    -0.349000    -0.593000    -0.432000  \n",
       "50%      -0.040000     0.160000    -0.270000     0.083000     0.152000  \n",
       "75%       0.419000     0.273000     0.364000     0.651000     0.797000  \n",
       "max       5.465000     5.110000     1.671000     2.861000     3.021000  \n",
       "\n",
       "[8 rows x 38 columns]"
      ]
     },
     "execution_count": 92,
     "metadata": {},
     "output_type": "execute_result"
    }
   ],
   "source": [
    "test_data.describe()"
   ]
  },
  {
   "cell_type": "markdown",
   "metadata": {
    "id": "34F5ECEBD16C4E7088518F0CB2120307",
    "jupyter": {},
    "notebookId": "641dabcafeb4fe02b2cd3ede",
    "runtime": {
     "execution_status": null,
     "status": "default"
    },
    "scrolled": false,
    "slideshow": {
     "slide_type": "slide"
    },
    "tags": []
   },
   "source": [
    "### 2.1.2 归一化处理"
   ]
  },
  {
   "cell_type": "code",
   "execution_count": 93,
   "metadata": {
    "collapsed": false,
    "execution": {
     "iopub.execute_input": "2023-03-23T10:10:47.664256Z",
     "iopub.status.busy": "2023-03-23T10:10:47.663987Z",
     "iopub.status.idle": "2023-03-23T10:10:47.677235Z",
     "shell.execute_reply": "2023-03-23T10:10:47.676707Z",
     "shell.execute_reply.started": "2023-03-23T10:10:47.664234Z"
    },
    "id": "0AF9FCFC1ED74188A75D4B3421124940",
    "jupyter": {
     "outputs_hidden": false
    },
    "notebookId": "641dabcafeb4fe02b2cd3ede",
    "scrolled": true,
    "slideshow": {
     "slide_type": "slide"
    },
    "tags": []
   },
   "outputs": [],
   "source": [
    "\n",
    "from sklearn import preprocessing \n",
    "\n",
    "features_columns = [col for col in train_data.columns if col not in ['target']]\n",
    "\n",
    "min_max_scaler = preprocessing.MinMaxScaler()\n",
    "\n",
    "min_max_scaler = min_max_scaler.fit(train_data[features_columns])\n",
    "\n",
    "train_data_scaler = min_max_scaler.transform(train_data[features_columns])\n",
    "test_data_scaler = min_max_scaler.transform(test_data[features_columns])\n",
    "\n",
    "train_data_scaler = pd.DataFrame(train_data_scaler)\n",
    "train_data_scaler.columns = features_columns\n",
    "\n",
    "test_data_scaler = pd.DataFrame(test_data_scaler)\n",
    "test_data_scaler.columns = features_columns\n",
    "\n",
    "train_data_scaler['target'] = train_data['target']"
   ]
  },
  {
   "cell_type": "code",
   "execution_count": 94,
   "metadata": {
    "collapsed": false,
    "execution": {
     "iopub.execute_input": "2023-03-23T10:10:47.678148Z",
     "iopub.status.busy": "2023-03-23T10:10:47.677899Z",
     "iopub.status.idle": "2023-03-23T10:10:47.837882Z",
     "shell.execute_reply": "2023-03-23T10:10:47.837303Z",
     "shell.execute_reply.started": "2023-03-23T10:10:47.678129Z"
    },
    "id": "470DF83AE8B94ADBAFEDF53568DEDB89",
    "jupyter": {
     "outputs_hidden": false
    },
    "notebookId": "641dabcafeb4fe02b2cd3ede",
    "scrolled": true,
    "slideshow": {
     "slide_type": "slide"
    },
    "tags": []
   },
   "outputs": [
    {
     "data": {
      "text/html": [
       "<div>\n",
       "<style scoped>\n",
       "    .dataframe tbody tr th:only-of-type {\n",
       "        vertical-align: middle;\n",
       "    }\n",
       "\n",
       "    .dataframe tbody tr th {\n",
       "        vertical-align: top;\n",
       "    }\n",
       "\n",
       "    .dataframe thead th {\n",
       "        text-align: right;\n",
       "    }\n",
       "</style>\n",
       "<table border=\"1\" class=\"dataframe\">\n",
       "  <thead>\n",
       "    <tr style=\"text-align: right;\">\n",
       "      <th></th>\n",
       "      <th>V0</th>\n",
       "      <th>V1</th>\n",
       "      <th>V2</th>\n",
       "      <th>V3</th>\n",
       "      <th>V4</th>\n",
       "      <th>V5</th>\n",
       "      <th>V6</th>\n",
       "      <th>V7</th>\n",
       "      <th>V8</th>\n",
       "      <th>V9</th>\n",
       "      <th>...</th>\n",
       "      <th>V28</th>\n",
       "      <th>V29</th>\n",
       "      <th>V30</th>\n",
       "      <th>V31</th>\n",
       "      <th>V32</th>\n",
       "      <th>V33</th>\n",
       "      <th>V34</th>\n",
       "      <th>V35</th>\n",
       "      <th>V36</th>\n",
       "      <th>V37</th>\n",
       "    </tr>\n",
       "  </thead>\n",
       "  <tbody>\n",
       "    <tr>\n",
       "      <th>count</th>\n",
       "      <td>1925.000000</td>\n",
       "      <td>1925.000000</td>\n",
       "      <td>1925.000000</td>\n",
       "      <td>1925.000000</td>\n",
       "      <td>1925.000000</td>\n",
       "      <td>1925.000000</td>\n",
       "      <td>1925.000000</td>\n",
       "      <td>1925.000000</td>\n",
       "      <td>1925.000000</td>\n",
       "      <td>1925.000000</td>\n",
       "      <td>...</td>\n",
       "      <td>1925.000000</td>\n",
       "      <td>1925.000000</td>\n",
       "      <td>1925.000000</td>\n",
       "      <td>1925.000000</td>\n",
       "      <td>1925.000000</td>\n",
       "      <td>1925.000000</td>\n",
       "      <td>1925.000000</td>\n",
       "      <td>1925.000000</td>\n",
       "      <td>1925.000000</td>\n",
       "      <td>1925.000000</td>\n",
       "    </tr>\n",
       "    <tr>\n",
       "      <th>mean</th>\n",
       "      <td>0.642905</td>\n",
       "      <td>0.715637</td>\n",
       "      <td>0.477791</td>\n",
       "      <td>0.632726</td>\n",
       "      <td>0.635558</td>\n",
       "      <td>1.130681</td>\n",
       "      <td>0.664798</td>\n",
       "      <td>0.699688</td>\n",
       "      <td>0.637926</td>\n",
       "      <td>0.871534</td>\n",
       "      <td>...</td>\n",
       "      <td>0.313556</td>\n",
       "      <td>0.369132</td>\n",
       "      <td>0.614756</td>\n",
       "      <td>0.719928</td>\n",
       "      <td>0.623793</td>\n",
       "      <td>0.457349</td>\n",
       "      <td>0.482778</td>\n",
       "      <td>0.673164</td>\n",
       "      <td>0.326501</td>\n",
       "      <td>0.577034</td>\n",
       "    </tr>\n",
       "    <tr>\n",
       "      <th>std</th>\n",
       "      <td>0.166253</td>\n",
       "      <td>0.152936</td>\n",
       "      <td>0.155176</td>\n",
       "      <td>0.161379</td>\n",
       "      <td>0.154392</td>\n",
       "      <td>0.360555</td>\n",
       "      <td>0.162899</td>\n",
       "      <td>0.149311</td>\n",
       "      <td>0.156540</td>\n",
       "      <td>0.120675</td>\n",
       "      <td>...</td>\n",
       "      <td>0.149752</td>\n",
       "      <td>0.117538</td>\n",
       "      <td>0.156533</td>\n",
       "      <td>0.144621</td>\n",
       "      <td>0.175284</td>\n",
       "      <td>0.098071</td>\n",
       "      <td>0.100537</td>\n",
       "      <td>0.118082</td>\n",
       "      <td>0.132661</td>\n",
       "      <td>0.141870</td>\n",
       "    </tr>\n",
       "    <tr>\n",
       "      <th>min</th>\n",
       "      <td>-0.074195</td>\n",
       "      <td>-0.051989</td>\n",
       "      <td>-0.138124</td>\n",
       "      <td>0.106035</td>\n",
       "      <td>-0.024088</td>\n",
       "      <td>0.379633</td>\n",
       "      <td>-0.165817</td>\n",
       "      <td>-0.082831</td>\n",
       "      <td>-0.197059</td>\n",
       "      <td>0.034142</td>\n",
       "      <td>...</td>\n",
       "      <td>0.000000</td>\n",
       "      <td>0.066604</td>\n",
       "      <td>0.000000</td>\n",
       "      <td>-0.233613</td>\n",
       "      <td>-0.000620</td>\n",
       "      <td>0.000000</td>\n",
       "      <td>0.000000</td>\n",
       "      <td>-0.222222</td>\n",
       "      <td>0.000000</td>\n",
       "      <td>0.042836</td>\n",
       "    </tr>\n",
       "    <tr>\n",
       "      <th>25%</th>\n",
       "      <td>0.568618</td>\n",
       "      <td>0.663494</td>\n",
       "      <td>0.390845</td>\n",
       "      <td>0.516451</td>\n",
       "      <td>0.571256</td>\n",
       "      <td>0.862598</td>\n",
       "      <td>0.594035</td>\n",
       "      <td>0.651593</td>\n",
       "      <td>0.564653</td>\n",
       "      <td>0.794789</td>\n",
       "      <td>...</td>\n",
       "      <td>0.278919</td>\n",
       "      <td>0.279498</td>\n",
       "      <td>0.579211</td>\n",
       "      <td>0.683816</td>\n",
       "      <td>0.555366</td>\n",
       "      <td>0.412901</td>\n",
       "      <td>0.454490</td>\n",
       "      <td>0.666667</td>\n",
       "      <td>0.256819</td>\n",
       "      <td>0.482353</td>\n",
       "    </tr>\n",
       "    <tr>\n",
       "      <th>50%</th>\n",
       "      <td>0.681537</td>\n",
       "      <td>0.755256</td>\n",
       "      <td>0.504641</td>\n",
       "      <td>0.651177</td>\n",
       "      <td>0.654017</td>\n",
       "      <td>0.980532</td>\n",
       "      <td>0.694483</td>\n",
       "      <td>0.727247</td>\n",
       "      <td>0.675796</td>\n",
       "      <td>0.888889</td>\n",
       "      <td>...</td>\n",
       "      <td>0.280045</td>\n",
       "      <td>0.362120</td>\n",
       "      <td>0.627710</td>\n",
       "      <td>0.756987</td>\n",
       "      <td>0.652605</td>\n",
       "      <td>0.454518</td>\n",
       "      <td>0.499949</td>\n",
       "      <td>0.676518</td>\n",
       "      <td>0.342977</td>\n",
       "      <td>0.570437</td>\n",
       "    </tr>\n",
       "    <tr>\n",
       "      <th>75%</th>\n",
       "      <td>0.756506</td>\n",
       "      <td>0.811222</td>\n",
       "      <td>0.591869</td>\n",
       "      <td>0.740527</td>\n",
       "      <td>0.720226</td>\n",
       "      <td>1.538750</td>\n",
       "      <td>0.777778</td>\n",
       "      <td>0.798593</td>\n",
       "      <td>0.745856</td>\n",
       "      <td>0.948727</td>\n",
       "      <td>...</td>\n",
       "      <td>0.281593</td>\n",
       "      <td>0.451148</td>\n",
       "      <td>0.688438</td>\n",
       "      <td>0.804116</td>\n",
       "      <td>0.725806</td>\n",
       "      <td>0.500000</td>\n",
       "      <td>0.511365</td>\n",
       "      <td>0.755580</td>\n",
       "      <td>0.415371</td>\n",
       "      <td>0.667722</td>\n",
       "    </tr>\n",
       "    <tr>\n",
       "      <th>max</th>\n",
       "      <td>0.996747</td>\n",
       "      <td>1.028693</td>\n",
       "      <td>0.858835</td>\n",
       "      <td>1.022766</td>\n",
       "      <td>1.240345</td>\n",
       "      <td>2.005990</td>\n",
       "      <td>0.943285</td>\n",
       "      <td>0.924777</td>\n",
       "      <td>1.023497</td>\n",
       "      <td>1.051273</td>\n",
       "      <td>...</td>\n",
       "      <td>0.997889</td>\n",
       "      <td>0.792045</td>\n",
       "      <td>1.062535</td>\n",
       "      <td>0.925686</td>\n",
       "      <td>0.985112</td>\n",
       "      <td>1.000000</td>\n",
       "      <td>1.000000</td>\n",
       "      <td>0.918568</td>\n",
       "      <td>0.697043</td>\n",
       "      <td>1.003167</td>\n",
       "    </tr>\n",
       "  </tbody>\n",
       "</table>\n",
       "<p>8 rows × 38 columns</p>\n",
       "</div>"
      ],
      "text/plain": [
       "                V0           V1           V2           V3           V4  \\\n",
       "count  1925.000000  1925.000000  1925.000000  1925.000000  1925.000000   \n",
       "mean      0.642905     0.715637     0.477791     0.632726     0.635558   \n",
       "std       0.166253     0.152936     0.155176     0.161379     0.154392   \n",
       "min      -0.074195    -0.051989    -0.138124     0.106035    -0.024088   \n",
       "25%       0.568618     0.663494     0.390845     0.516451     0.571256   \n",
       "50%       0.681537     0.755256     0.504641     0.651177     0.654017   \n",
       "75%       0.756506     0.811222     0.591869     0.740527     0.720226   \n",
       "max       0.996747     1.028693     0.858835     1.022766     1.240345   \n",
       "\n",
       "                V5           V6           V7           V8           V9  ...  \\\n",
       "count  1925.000000  1925.000000  1925.000000  1925.000000  1925.000000  ...   \n",
       "mean      1.130681     0.664798     0.699688     0.637926     0.871534  ...   \n",
       "std       0.360555     0.162899     0.149311     0.156540     0.120675  ...   \n",
       "min       0.379633    -0.165817    -0.082831    -0.197059     0.034142  ...   \n",
       "25%       0.862598     0.594035     0.651593     0.564653     0.794789  ...   \n",
       "50%       0.980532     0.694483     0.727247     0.675796     0.888889  ...   \n",
       "75%       1.538750     0.777778     0.798593     0.745856     0.948727  ...   \n",
       "max       2.005990     0.943285     0.924777     1.023497     1.051273  ...   \n",
       "\n",
       "               V28          V29          V30          V31          V32  \\\n",
       "count  1925.000000  1925.000000  1925.000000  1925.000000  1925.000000   \n",
       "mean      0.313556     0.369132     0.614756     0.719928     0.623793   \n",
       "std       0.149752     0.117538     0.156533     0.144621     0.175284   \n",
       "min       0.000000     0.066604     0.000000    -0.233613    -0.000620   \n",
       "25%       0.278919     0.279498     0.579211     0.683816     0.555366   \n",
       "50%       0.280045     0.362120     0.627710     0.756987     0.652605   \n",
       "75%       0.281593     0.451148     0.688438     0.804116     0.725806   \n",
       "max       0.997889     0.792045     1.062535     0.925686     0.985112   \n",
       "\n",
       "               V33          V34          V35          V36          V37  \n",
       "count  1925.000000  1925.000000  1925.000000  1925.000000  1925.000000  \n",
       "mean      0.457349     0.482778     0.673164     0.326501     0.577034  \n",
       "std       0.098071     0.100537     0.118082     0.132661     0.141870  \n",
       "min       0.000000     0.000000    -0.222222     0.000000     0.042836  \n",
       "25%       0.412901     0.454490     0.666667     0.256819     0.482353  \n",
       "50%       0.454518     0.499949     0.676518     0.342977     0.570437  \n",
       "75%       0.500000     0.511365     0.755580     0.415371     0.667722  \n",
       "max       1.000000     1.000000     0.918568     0.697043     1.003167  \n",
       "\n",
       "[8 rows x 38 columns]"
      ]
     },
     "execution_count": 94,
     "metadata": {},
     "output_type": "execute_result"
    }
   ],
   "source": [
    "train_data_scaler.describe()\n",
    "\n",
    "test_data_scaler.describe()"
   ]
  },
  {
   "cell_type": "code",
   "execution_count": 95,
   "metadata": {
    "collapsed": false,
    "execution": {
     "iopub.execute_input": "2023-03-23T10:10:47.838965Z",
     "iopub.status.busy": "2023-03-23T10:10:47.838677Z",
     "iopub.status.idle": "2023-03-23T10:10:57.284011Z",
     "shell.execute_reply": "2023-03-23T10:10:57.283086Z",
     "shell.execute_reply.started": "2023-03-23T10:10:47.838944Z"
    },
    "id": "6EA0DAA192F84BACB193F4806DFE5657",
    "jupyter": {
     "outputs_hidden": false
    },
    "notebookId": "641dabcafeb4fe02b2cd3ede",
    "scrolled": true,
    "slideshow": {
     "slide_type": "slide"
    },
    "tags": []
   },
   "outputs": [
    {
     "data": {
      "text/html": [
       "<img src=\"https://cdn.kesci.com/upload/rt/6EA0DAA192F84BACB193F4806DFE5657/rs13fs9l3t.png\">"
      ],
      "text/plain": [
       "<Figure size 1728x10944 with 38 Axes>"
      ]
     },
     "metadata": {
      "needs_background": "light"
     },
     "output_type": "display_data"
    }
   ],
   "source": [
    "#查看数据集情况\n",
    "dist_cols = 6\n",
    "dist_rows = len(test_data_scaler.columns)\n",
    "\n",
    "plt.figure(figsize=(4*dist_cols,4*dist_rows))\n",
    "\n",
    "\n",
    "for i, col in enumerate(test_data_scaler.columns):\n",
    "    ax=plt.subplot(dist_rows,dist_cols,i+1)\n",
    "    ax = sns.kdeplot(train_data_scaler[col], color=\"Red\", shade=True)\n",
    "    ax = sns.kdeplot(test_data_scaler[col], color=\"Blue\", shade=True)\n",
    "    ax.set_xlabel(col)\n",
    "    ax.set_ylabel(\"Frequency\")\n",
    "    ax = ax.legend([\"train\",\"test\"])\n",
    " \n",
    "# plt.show()\n",
    " #已注释图片生成，自行打开"
   ]
  },
  {
   "cell_type": "markdown",
   "metadata": {
    "id": "F9A547D1F9D742D8A47086344B9F3DBE",
    "jupyter": {},
    "notebookId": "641dabcafeb4fe02b2cd3ede",
    "runtime": {
     "execution_status": null,
     "status": "default"
    },
    "scrolled": false,
    "slideshow": {
     "slide_type": "slide"
    },
    "tags": []
   },
   "source": [
    "查看特征'V5', 'V17', 'V28', 'V22', 'V11', 'V9'数据的数据分布"
   ]
  },
  {
   "cell_type": "code",
   "execution_count": 96,
   "metadata": {
    "collapsed": false,
    "execution": {
     "iopub.execute_input": "2023-03-23T10:10:57.285886Z",
     "iopub.status.busy": "2023-03-23T10:10:57.285192Z",
     "iopub.status.idle": "2023-03-23T10:10:58.463206Z",
     "shell.execute_reply": "2023-03-23T10:10:58.462566Z",
     "shell.execute_reply.started": "2023-03-23T10:10:57.285859Z"
    },
    "id": "56247E810DDE481EAEE0609A01D884FF",
    "jupyter": {
     "outputs_hidden": false
    },
    "notebookId": "641dabcafeb4fe02b2cd3ede",
    "scrolled": true,
    "slideshow": {
     "slide_type": "slide"
    },
    "tags": []
   },
   "outputs": [
    {
     "data": {
      "text/html": [
       "<img src=\"https://cdn.kesci.com/upload/rt/56247E810DDE481EAEE0609A01D884FF/rs13fsh4rj.png\">"
      ],
      "text/plain": [
       "<Figure size 2160x360 with 6 Axes>"
      ]
     },
     "metadata": {
      "needs_background": "light"
     },
     "output_type": "display_data"
    }
   ],
   "source": [
    "drop_col = 6\n",
    "drop_row = 1\n",
    "\n",
    "plt.figure(figsize=(5*drop_col,5*drop_row))\n",
    "\n",
    "for i, col in enumerate([\"V5\",\"V9\",\"V11\",\"V17\",\"V22\",\"V28\"]):\n",
    "    ax =plt.subplot(drop_row,drop_col,i+1)\n",
    "    ax = sns.kdeplot(train_data_scaler[col], color=\"Red\", shade=True)\n",
    "    ax= sns.kdeplot(test_data_scaler[col], color=\"Blue\", shade=True)\n",
    "    ax.set_xlabel(col)\n",
    "    ax.set_ylabel(\"Frequency\")\n",
    "    ax = ax.legend([\"train\",\"test\"])\n",
    "plt.show()"
   ]
  },
  {
   "cell_type": "markdown",
   "metadata": {
    "id": "00BA248D78B847C08109F2A6BA63EA5F",
    "jupyter": {},
    "notebookId": "641dabcafeb4fe02b2cd3ede",
    "runtime": {
     "execution_status": null,
     "status": "default"
    },
    "scrolled": false,
    "slideshow": {
     "slide_type": "slide"
    },
    "tags": []
   },
   "source": [
    "这几个特征下，训练集的数据和测试集的数据分布不一致，会影响模型的泛化能力，故删除这些特征  \n",
    "\n",
    "### 3.1.3 特征相关性"
   ]
  },
  {
   "cell_type": "code",
   "execution_count": 97,
   "metadata": {
    "collapsed": false,
    "execution": {
     "iopub.execute_input": "2023-03-23T10:10:58.464400Z",
     "iopub.status.busy": "2023-03-23T10:10:58.464113Z",
     "iopub.status.idle": "2023-03-23T10:11:00.848926Z",
     "shell.execute_reply": "2023-03-23T10:11:00.848306Z",
     "shell.execute_reply.started": "2023-03-23T10:10:58.464377Z"
    },
    "id": "17DB10C5B24F47E8A63FAF3C5E530EF1",
    "jupyter": {
     "outputs_hidden": false
    },
    "notebookId": "641dabcafeb4fe02b2cd3ede",
    "scrolled": true,
    "slideshow": {
     "slide_type": "slide"
    },
    "tags": []
   },
   "outputs": [
    {
     "data": {
      "text/html": [
       "<img src=\"https://cdn.kesci.com/upload/rt/17DB10C5B24F47E8A63FAF3C5E530EF1/rs13fvqgwe.png\">"
      ],
      "text/plain": [
       "<Figure size 1440x1152 with 2 Axes>"
      ]
     },
     "metadata": {
      "needs_background": "light"
     },
     "output_type": "display_data"
    }
   ],
   "source": [
    "plt.figure(figsize=(20, 16))  \n",
    "column = train_data_scaler.columns.tolist()  \n",
    "mcorr = train_data_scaler[column].corr(method=\"spearman\")  \n",
    "mask = np.zeros_like(mcorr, dtype=np.bool)  \n",
    "mask[np.triu_indices_from(mask)] = True  \n",
    "cmap = sns.diverging_palette(220, 10, as_cmap=True)  \n",
    "g = sns.heatmap(mcorr, mask=mask, cmap=cmap, square=True, annot=True, fmt='0.2f')  \n",
    "plt.show()"
   ]
  },
  {
   "cell_type": "markdown",
   "metadata": {
    "id": "95ACB3CB84494E21BBAEB7D5541F2893",
    "jupyter": {},
    "notebookId": "641dabcafeb4fe02b2cd3ede",
    "runtime": {
     "execution_status": null,
     "status": "default"
    },
    "scrolled": false,
    "slideshow": {
     "slide_type": "slide"
    },
    "tags": []
   },
   "source": [
    "## 2.2 特征降维"
   ]
  },
  {
   "cell_type": "code",
   "execution_count": 98,
   "metadata": {
    "collapsed": false,
    "execution": {
     "iopub.execute_input": "2023-03-23T10:11:00.850057Z",
     "iopub.status.busy": "2023-03-23T10:11:00.849774Z",
     "iopub.status.idle": "2023-03-23T10:11:00.896439Z",
     "shell.execute_reply": "2023-03-23T10:11:00.895892Z",
     "shell.execute_reply.started": "2023-03-23T10:11:00.850034Z"
    },
    "id": "24E104C7B11A4253B2117BC5FE264F38",
    "jupyter": {
     "outputs_hidden": false
    },
    "notebookId": "641dabcafeb4fe02b2cd3ede",
    "scrolled": true,
    "slideshow": {
     "slide_type": "slide"
    },
    "tags": []
   },
   "outputs": [
    {
     "name": "stdout",
     "output_type": "stream",
     "text": [
      "target    1.000000\n",
      "V0        0.712403\n",
      "V31       0.711636\n",
      "V1        0.682909\n",
      "V8        0.679469\n",
      "V27       0.657398\n",
      "V2        0.585850\n",
      "V16       0.545793\n",
      "V3        0.501622\n",
      "V4        0.478683\n",
      "V12       0.460300\n",
      "V10       0.448682\n",
      "V36       0.425991\n",
      "V37       0.376443\n",
      "V24       0.305526\n",
      "V5        0.286076\n",
      "V6        0.280195\n",
      "V20       0.278381\n",
      "V11       0.234551\n",
      "V15       0.221290\n",
      "V29       0.190109\n",
      "V7        0.185321\n",
      "V19       0.180111\n",
      "V18       0.149741\n",
      "V13       0.149199\n",
      "V17       0.126262\n",
      "V22       0.112743\n",
      "V30       0.101378\n",
      "Name: target, dtype: float64\n",
      "          target        V0       V31        V1        V8       V27        V2  \\\n",
      "target  1.000000  0.712403  0.711636  0.682909  0.679469  0.657398  0.585850   \n",
      "V0      0.712403  1.000000  0.739116  0.894116  0.832151  0.763128  0.516817   \n",
      "V31     0.711636  0.739116  1.000000  0.807585  0.841469  0.765750  0.589890   \n",
      "V1      0.682909  0.894116  0.807585  1.000000  0.849034  0.807102  0.490239   \n",
      "V8      0.679469  0.832151  0.841469  0.849034  1.000000  0.887119  0.676417   \n",
      "V27     0.657398  0.763128  0.765750  0.807102  0.887119  1.000000  0.709534   \n",
      "V2      0.585850  0.516817  0.589890  0.490239  0.676417  0.709534  1.000000   \n",
      "V16     0.545793  0.388852  0.642309  0.396122  0.642156  0.620981  0.783643   \n",
      "V3      0.501622  0.401150  0.420134  0.363749  0.400915  0.402468  0.417190   \n",
      "V4      0.478683  0.697430  0.521226  0.651615  0.455801  0.424260  0.062134   \n",
      "V12     0.460300  0.640696  0.471528  0.596173  0.368572  0.336190  0.055734   \n",
      "V10     0.448682  0.279350  0.445335  0.255763  0.351127  0.203066  0.292769   \n",
      "V36     0.425991  0.214930  0.390250  0.192985  0.263291  0.186131  0.259475   \n",
      "V37    -0.376443 -0.472200 -0.301906 -0.397080 -0.507057 -0.557098 -0.731786   \n",
      "V24    -0.305526 -0.336325 -0.267968 -0.289742 -0.148323 -0.153834  0.018458   \n",
      "V5     -0.286076 -0.356704 -0.162304 -0.242776 -0.188993 -0.222596 -0.324464   \n",
      "V6      0.280195  0.131507  0.340145  0.147037  0.355064  0.356526  0.546921   \n",
      "V20     0.278381  0.444939  0.349530  0.421987  0.408853  0.361040  0.293635   \n",
      "V11    -0.234551 -0.333101 -0.131425 -0.221910 -0.161792 -0.190952 -0.271868   \n",
      "V15     0.221290  0.334135  0.110674  0.230395  0.054701  0.007156 -0.206499   \n",
      "V29     0.190109  0.334603  0.121833  0.240964  0.050211  0.006048 -0.255559   \n",
      "V7      0.185321  0.075732  0.277283  0.082766  0.278231  0.290620  0.378984   \n",
      "V19    -0.180111 -0.144295 -0.183185 -0.146559 -0.170237 -0.228613 -0.179416   \n",
      "V18     0.149741  0.132143  0.094678  0.093688  0.079592  0.091660  0.114929   \n",
      "V13     0.149199  0.173861  0.071517  0.134595  0.105380  0.126831  0.180477   \n",
      "V17     0.126262  0.055024  0.115056  0.081446  0.102544  0.036520 -0.050935   \n",
      "V22    -0.112743 -0.076698 -0.106450 -0.072848 -0.078333 -0.111196 -0.241206   \n",
      "V30     0.101378  0.099242  0.131453  0.109216  0.165204  0.167073  0.176236   \n",
      "\n",
      "             V16        V3        V4  ...       V11       V15       V29  \\\n",
      "target  0.545793  0.501622  0.478683  ... -0.234551  0.221290  0.190109   \n",
      "V0      0.388852  0.401150  0.697430  ... -0.333101  0.334135  0.334603   \n",
      "V31     0.642309  0.420134  0.521226  ... -0.131425  0.110674  0.121833   \n",
      "V1      0.396122  0.363749  0.651615  ... -0.221910  0.230395  0.240964   \n",
      "V8      0.642156  0.400915  0.455801  ... -0.161792  0.054701  0.050211   \n",
      "V27     0.620981  0.402468  0.424260  ... -0.190952  0.007156  0.006048   \n",
      "V2      0.783643  0.417190  0.062134  ... -0.271868 -0.206499 -0.255559   \n",
      "V16     1.000000  0.388886  0.009749  ... -0.088716 -0.280952 -0.327558   \n",
      "V3      0.388886  1.000000  0.294049  ... -0.126924  0.145291  0.128079   \n",
      "V4      0.009749  0.294049  1.000000  ... -0.164113  0.641180  0.692626   \n",
      "V12    -0.024541  0.286500  0.897807  ... -0.232228  0.703861  0.732617   \n",
      "V10     0.473009  0.295181  0.123829  ...  0.049969 -0.014449 -0.060440   \n",
      "V36     0.469130  0.299063  0.099359  ... -0.017805 -0.012844 -0.051097   \n",
      "V37    -0.431507 -0.219751  0.040396  ...  0.455998  0.234751  0.273926   \n",
      "V24     0.064523 -0.237022 -0.558334  ...  0.170969 -0.687353 -0.677833   \n",
      "V5     -0.045495 -0.230466 -0.248061  ...  0.797583 -0.250027 -0.233233   \n",
      "V6      0.760362  0.181135 -0.204780  ... -0.170545 -0.443436 -0.486682   \n",
      "V20     0.239572  0.270647  0.257815  ... -0.138684  0.050867  0.035022   \n",
      "V11    -0.088716 -0.126924 -0.164113  ...  1.000000 -0.123004 -0.120982   \n",
      "V15    -0.280952  0.145291  0.641180  ... -0.123004  1.000000  0.947360   \n",
      "V29    -0.327558  0.128079  0.692626  ... -0.120982  0.947360  1.000000   \n",
      "V7      0.651907  0.132564 -0.150577  ... -0.097623 -0.335054 -0.360490   \n",
      "V19    -0.019645 -0.265940 -0.237529  ... -0.094150 -0.215364 -0.212691   \n",
      "V18     0.066147  0.014697  0.135792  ... -0.153625  0.109030  0.098474   \n",
      "V13     0.074214 -0.019453  0.061801  ... -0.436341  0.047845  0.024514   \n",
      "V17     0.172978  0.067720  0.060753  ...  0.192222 -0.004555 -0.006498   \n",
      "V22    -0.091204 -0.305218  0.021174  ...  0.079577  0.069993  0.072070   \n",
      "V30     0.217428  0.055660 -0.053976  ... -0.102750 -0.147541 -0.161966   \n",
      "\n",
      "              V7       V19       V18       V13       V17       V22       V30  \n",
      "target  0.185321 -0.180111  0.149741  0.149199  0.126262 -0.112743  0.101378  \n",
      "V0      0.075732 -0.144295  0.132143  0.173861  0.055024 -0.076698  0.099242  \n",
      "V31     0.277283 -0.183185  0.094678  0.071517  0.115056 -0.106450  0.131453  \n",
      "V1      0.082766 -0.146559  0.093688  0.134595  0.081446 -0.072848  0.109216  \n",
      "V8      0.278231 -0.170237  0.079592  0.105380  0.102544 -0.078333  0.165204  \n",
      "V27     0.290620 -0.228613  0.091660  0.126831  0.036520 -0.111196  0.167073  \n",
      "V2      0.378984 -0.179416  0.114929  0.180477 -0.050935 -0.241206  0.176236  \n",
      "V16     0.651907 -0.019645  0.066147  0.074214  0.172978 -0.091204  0.217428  \n",
      "V3      0.132564 -0.265940  0.014697 -0.019453  0.067720 -0.305218  0.055660  \n",
      "V4     -0.150577 -0.237529  0.135792  0.061801  0.060753  0.021174 -0.053976  \n",
      "V12    -0.157087 -0.174034  0.125965  0.102293  0.012429 -0.004863 -0.054432  \n",
      "V10     0.242818  0.089046  0.038237 -0.100776  0.258885 -0.132951  0.027257  \n",
      "V36     0.268044  0.099034  0.066478 -0.068582  0.298962 -0.136943  0.056802  \n",
      "V37    -0.284305  0.025241 -0.097699 -0.344661  0.052673  0.110455 -0.176127  \n",
      "V24     0.076407  0.287262 -0.221117 -0.073906  0.094367  0.081279  0.079363  \n",
      "V5      0.118541  0.247903 -0.191786 -0.408978  0.342555  0.143785  0.020252  \n",
      "V6      0.904614  0.292661  0.061109  0.088866  0.094702 -0.102842  0.201834  \n",
      "V20     0.064205  0.029483  0.050529  0.004600  0.061369 -0.092706  0.035036  \n",
      "V11    -0.097623 -0.094150 -0.153625 -0.436341  0.192222  0.079577 -0.102750  \n",
      "V15    -0.335054 -0.215364  0.109030  0.047845 -0.004555  0.069993 -0.147541  \n",
      "V29    -0.360490 -0.212691  0.098474  0.024514 -0.006498  0.072070 -0.161966  \n",
      "V7      1.000000  0.269472  0.032519  0.059724  0.178034  0.058178  0.196347  \n",
      "V19     0.269472  1.000000 -0.034215 -0.106162  0.250114  0.075582  0.120766  \n",
      "V18     0.032519 -0.034215  1.000000  0.242008 -0.073678  0.016819  0.133708  \n",
      "V13     0.059724 -0.106162  0.242008  1.000000 -0.108020  0.348432 -0.097178  \n",
      "V17     0.178034  0.250114 -0.073678 -0.108020  1.000000  0.363785  0.057480  \n",
      "V22     0.058178  0.075582  0.016819  0.348432  0.363785  1.000000 -0.054570  \n",
      "V30     0.196347  0.120766  0.133708 -0.097178  0.057480 -0.054570  1.000000  \n",
      "\n",
      "[28 rows x 28 columns]\n"
     ]
    }
   ],
   "source": [
    "mcorr=mcorr.abs()\n",
    "numerical_corr=mcorr[mcorr['target']>0.1]['target']\n",
    "print(numerical_corr.sort_values(ascending=False))\n",
    "\n",
    "index0 = numerical_corr.sort_values(ascending=False).index\n",
    "print(train_data_scaler[index0].corr('spearman'))"
   ]
  },
  {
   "cell_type": "markdown",
   "metadata": {
    "id": "F60E35B2F3244D30BB04A2B37348B2F6",
    "jupyter": {},
    "notebookId": "641dabcafeb4fe02b2cd3ede",
    "runtime": {
     "execution_status": null,
     "status": "default"
    },
    "scrolled": false,
    "slideshow": {
     "slide_type": "slide"
    },
    "tags": []
   },
   "source": [
    "### 2.2.1 相关性初筛"
   ]
  },
  {
   "cell_type": "code",
   "execution_count": 99,
   "metadata": {
    "collapsed": false,
    "execution": {
     "iopub.execute_input": "2023-03-23T10:11:00.897545Z",
     "iopub.status.busy": "2023-03-23T10:11:00.897213Z",
     "iopub.status.idle": "2023-03-23T10:11:00.906610Z",
     "shell.execute_reply": "2023-03-23T10:11:00.906092Z",
     "shell.execute_reply.started": "2023-03-23T10:11:00.897525Z"
    },
    "id": "C01E77C72D85403BA9F4FEA2097DD558",
    "jupyter": {
     "outputs_hidden": false
    },
    "notebookId": "641dabcafeb4fe02b2cd3ede",
    "scrolled": true,
    "slideshow": {
     "slide_type": "slide"
    },
    "tags": []
   },
   "outputs": [
    {
     "name": "stdout",
     "output_type": "stream",
     "text": [
      "   features_and_target      corr\n",
      "0               target  1.000000\n",
      "1                   V0  0.712403\n",
      "2                  V31  0.711636\n",
      "3                   V1  0.682909\n",
      "4                   V8  0.679469\n",
      "5                  V27  0.657398\n",
      "6                   V2  0.585850\n",
      "7                  V16  0.545793\n",
      "8                   V3  0.501622\n",
      "9                   V4  0.478683\n",
      "10                 V12  0.460300\n",
      "11                 V10  0.448682\n",
      "12                 V36  0.425991\n",
      "13                 V37  0.376443\n",
      "14                 V24  0.305526\n"
     ]
    }
   ],
   "source": [
    "features_corr = numerical_corr.sort_values(ascending=False).reset_index()\n",
    "features_corr.columns = ['features_and_target', 'corr']\n",
    "features_corr_select = features_corr[features_corr['corr']>0.3] # 筛选出大于相关性大于0.3的特征\n",
    "print(features_corr_select)\n",
    "select_features = [col for col in features_corr_select['features_and_target'] if col not in ['target']]\n",
    "new_train_data_corr_select = train_data_scaler[select_features+['target']]\n",
    "new_test_data_corr_select = test_data_scaler[select_features]"
   ]
  },
  {
   "cell_type": "markdown",
   "metadata": {
    "id": "BA652A5BC02547AC981D53AC7E3B8875",
    "jupyter": {},
    "notebookId": "641dabcafeb4fe02b2cd3ede",
    "runtime": {
     "execution_status": null,
     "status": "default"
    },
    "scrolled": false,
    "slideshow": {
     "slide_type": "slide"
    },
    "tags": []
   },
   "source": [
    "### 2.2.2 多重共线性分析"
   ]
  },
  {
   "cell_type": "code",
   "execution_count": 100,
   "metadata": {
    "collapsed": false,
    "execution": {
     "iopub.execute_input": "2023-03-23T10:11:00.907698Z",
     "iopub.status.busy": "2023-03-23T10:11:00.907302Z",
     "iopub.status.idle": "2023-03-23T10:11:03.434971Z",
     "shell.execute_reply": "2023-03-23T10:11:03.434173Z",
     "shell.execute_reply.started": "2023-03-23T10:11:00.907672Z"
    },
    "id": "76C9A14EC02648318AC2EBAEB4A58723",
    "jupyter": {
     "outputs_hidden": false
    },
    "notebookId": "641dabcafeb4fe02b2cd3ede",
    "scrolled": true,
    "slideshow": {
     "slide_type": "slide"
    },
    "tags": []
   },
   "outputs": [
    {
     "name": "stdout",
     "output_type": "stream",
     "text": [
      "Looking in indexes: https://pypi.tuna.tsinghua.edu.cn/simple\r\n",
      "Requirement already satisfied: statsmodels in /opt/conda/lib/python3.8/site-packages (0.11.1)\r\n",
      "Requirement already satisfied: scipy>=1.0 in /opt/conda/lib/python3.8/site-packages (from statsmodels) (1.5.2)\r\n",
      "Requirement already satisfied: pandas>=0.21 in /opt/conda/lib/python3.8/site-packages (from statsmodels) (1.1.1)\r\n",
      "Requirement already satisfied: patsy>=0.5 in /opt/conda/lib/python3.8/site-packages (from statsmodels) (0.5.1)\r\n",
      "Requirement already satisfied: numpy>=1.14 in /opt/conda/lib/python3.8/site-packages (from statsmodels) (1.19.1)\r\n",
      "Requirement already satisfied: pytz>=2017.2 in /opt/conda/lib/python3.8/site-packages (from pandas>=0.21->statsmodels) (2020.1)\r\n",
      "Requirement already satisfied: python-dateutil>=2.7.3 in /opt/conda/lib/python3.8/site-packages (from pandas>=0.21->statsmodels) (2.8.1)\r\n",
      "Requirement already satisfied: six in /opt/conda/lib/python3.8/site-packages (from patsy>=0.5->statsmodels) (1.15.0)\r\n"
     ]
    }
   ],
   "source": [
    "!pip install statsmodels -i https://pypi.tuna.tsinghua.edu.cn/simple"
   ]
  },
  {
   "cell_type": "code",
   "execution_count": 101,
   "metadata": {
    "collapsed": false,
    "execution": {
     "iopub.execute_input": "2023-03-23T10:11:03.436426Z",
     "iopub.status.busy": "2023-03-23T10:11:03.436099Z",
     "iopub.status.idle": "2023-03-23T10:11:04.004727Z",
     "shell.execute_reply": "2023-03-23T10:11:04.003890Z",
     "shell.execute_reply.started": "2023-03-23T10:11:03.436403Z"
    },
    "id": "A2A874E681CA41AA895D385FADCD0331",
    "jupyter": {
     "outputs_hidden": false
    },
    "notebookId": "641dabcafeb4fe02b2cd3ede",
    "scrolled": true,
    "slideshow": {
     "slide_type": "slide"
    },
    "tags": []
   },
   "outputs": [
    {
     "data": {
      "text/plain": [
       "[216.73387180903222,\n",
       " 114.38118723828812,\n",
       " 27.863778129686356,\n",
       " 201.96436579080174,\n",
       " 78.93722825798903,\n",
       " 151.06983667656212,\n",
       " 14.519604941508451,\n",
       " 82.69750284665385,\n",
       " 28.479378440614585,\n",
       " 27.759176471505945,\n",
       " 526.6483470743831,\n",
       " 23.50166642638334,\n",
       " 19.920315849901424,\n",
       " 24.640481765008683,\n",
       " 11.816055964845381,\n",
       " 4.958208708452915,\n",
       " 37.09877416736591,\n",
       " 298.26442986612767,\n",
       " 47.854002539887034]"
      ]
     },
     "execution_count": 101,
     "metadata": {},
     "output_type": "execute_result"
    }
   ],
   "source": [
    "from statsmodels.stats.outliers_influence import variance_inflation_factor #多重共线性方差膨胀因子\n",
    "\n",
    "#多重共线性\n",
    "new_numerical=['V0', 'V2', 'V3', 'V4', 'V5', 'V6', 'V10','V11', \n",
    "                         'V13', 'V15', 'V16', 'V18', 'V19', 'V20', 'V22','V24','V30', 'V31', 'V37']\n",
    "X=np.matrix(train_data_scaler[new_numerical])\n",
    "VIF_list=[variance_inflation_factor(X, i) for i in range(X.shape[1])]\n",
    "VIF_list"
   ]
  },
  {
   "cell_type": "markdown",
   "metadata": {
    "id": "777EE3D1833743FDBE586AAE80CA3419",
    "jupyter": {},
    "notebookId": "641dabcafeb4fe02b2cd3ede",
    "runtime": {
     "execution_status": null,
     "status": "default"
    },
    "scrolled": false,
    "slideshow": {
     "slide_type": "slide"
    },
    "tags": []
   },
   "source": [
    "### 2.2.3 PCA处理降维"
   ]
  },
  {
   "cell_type": "code",
   "execution_count": 102,
   "metadata": {
    "collapsed": false,
    "execution": {
     "iopub.execute_input": "2023-03-23T10:11:04.005982Z",
     "iopub.status.busy": "2023-03-23T10:11:04.005704Z",
     "iopub.status.idle": "2023-03-23T10:11:04.348627Z",
     "shell.execute_reply": "2023-03-23T10:11:04.348021Z",
     "shell.execute_reply.started": "2023-03-23T10:11:04.005959Z"
    },
    "id": "E5B343F574F0425B8608253A8944FAA5",
    "jupyter": {
     "outputs_hidden": false
    },
    "notebookId": "641dabcafeb4fe02b2cd3ede",
    "scrolled": true,
    "slideshow": {
     "slide_type": "slide"
    },
    "tags": []
   },
   "outputs": [
    {
     "data": {
      "text/html": [
       "<div>\n",
       "<style scoped>\n",
       "    .dataframe tbody tr th:only-of-type {\n",
       "        vertical-align: middle;\n",
       "    }\n",
       "\n",
       "    .dataframe tbody tr th {\n",
       "        vertical-align: top;\n",
       "    }\n",
       "\n",
       "    .dataframe thead th {\n",
       "        text-align: right;\n",
       "    }\n",
       "</style>\n",
       "<table border=\"1\" class=\"dataframe\">\n",
       "  <thead>\n",
       "    <tr style=\"text-align: right;\">\n",
       "      <th></th>\n",
       "      <th>0</th>\n",
       "      <th>1</th>\n",
       "      <th>2</th>\n",
       "      <th>3</th>\n",
       "      <th>4</th>\n",
       "      <th>5</th>\n",
       "      <th>6</th>\n",
       "      <th>7</th>\n",
       "      <th>8</th>\n",
       "      <th>9</th>\n",
       "      <th>10</th>\n",
       "      <th>11</th>\n",
       "      <th>12</th>\n",
       "      <th>13</th>\n",
       "      <th>14</th>\n",
       "      <th>15</th>\n",
       "      <th>target</th>\n",
       "    </tr>\n",
       "  </thead>\n",
       "  <tbody>\n",
       "    <tr>\n",
       "      <th>count</th>\n",
       "      <td>2.886000e+03</td>\n",
       "      <td>2.886000e+03</td>\n",
       "      <td>2.886000e+03</td>\n",
       "      <td>2.886000e+03</td>\n",
       "      <td>2.886000e+03</td>\n",
       "      <td>2.886000e+03</td>\n",
       "      <td>2.886000e+03</td>\n",
       "      <td>2.886000e+03</td>\n",
       "      <td>2.886000e+03</td>\n",
       "      <td>2.886000e+03</td>\n",
       "      <td>2.886000e+03</td>\n",
       "      <td>2.886000e+03</td>\n",
       "      <td>2.886000e+03</td>\n",
       "      <td>2.886000e+03</td>\n",
       "      <td>2.886000e+03</td>\n",
       "      <td>2.886000e+03</td>\n",
       "      <td>2884.000000</td>\n",
       "    </tr>\n",
       "    <tr>\n",
       "      <th>mean</th>\n",
       "      <td>1.334847e-16</td>\n",
       "      <td>-1.177352e-16</td>\n",
       "      <td>5.546306e-17</td>\n",
       "      <td>9.434588e-17</td>\n",
       "      <td>1.091565e-16</td>\n",
       "      <td>-5.532842e-17</td>\n",
       "      <td>1.015637e-16</td>\n",
       "      <td>-1.543579e-17</td>\n",
       "      <td>-8.070852e-17</td>\n",
       "      <td>1.374363e-16</td>\n",
       "      <td>-5.860312e-17</td>\n",
       "      <td>9.908240e-17</td>\n",
       "      <td>1.110319e-17</td>\n",
       "      <td>-6.169028e-17</td>\n",
       "      <td>-3.790124e-17</td>\n",
       "      <td>8.384256e-17</td>\n",
       "      <td>0.127274</td>\n",
       "    </tr>\n",
       "    <tr>\n",
       "      <th>std</th>\n",
       "      <td>3.998976e-01</td>\n",
       "      <td>3.500240e-01</td>\n",
       "      <td>2.938631e-01</td>\n",
       "      <td>2.728023e-01</td>\n",
       "      <td>2.077128e-01</td>\n",
       "      <td>1.951842e-01</td>\n",
       "      <td>1.877104e-01</td>\n",
       "      <td>1.607670e-01</td>\n",
       "      <td>1.512707e-01</td>\n",
       "      <td>1.443772e-01</td>\n",
       "      <td>1.368790e-01</td>\n",
       "      <td>1.286192e-01</td>\n",
       "      <td>1.193301e-01</td>\n",
       "      <td>1.149758e-01</td>\n",
       "      <td>1.133507e-01</td>\n",
       "      <td>1.019259e-01</td>\n",
       "      <td>0.983462</td>\n",
       "    </tr>\n",
       "    <tr>\n",
       "      <th>min</th>\n",
       "      <td>-1.071795e+00</td>\n",
       "      <td>-9.429479e-01</td>\n",
       "      <td>-9.948314e-01</td>\n",
       "      <td>-7.103087e-01</td>\n",
       "      <td>-7.703987e-01</td>\n",
       "      <td>-5.340294e-01</td>\n",
       "      <td>-5.993766e-01</td>\n",
       "      <td>-5.870755e-01</td>\n",
       "      <td>-6.282818e-01</td>\n",
       "      <td>-4.902583e-01</td>\n",
       "      <td>-6.341045e-01</td>\n",
       "      <td>-5.906753e-01</td>\n",
       "      <td>-4.175153e-01</td>\n",
       "      <td>-4.310613e-01</td>\n",
       "      <td>-4.170535e-01</td>\n",
       "      <td>-3.601627e-01</td>\n",
       "      <td>-3.044000</td>\n",
       "    </tr>\n",
       "    <tr>\n",
       "      <th>25%</th>\n",
       "      <td>-2.804085e-01</td>\n",
       "      <td>-2.613727e-01</td>\n",
       "      <td>-2.090797e-01</td>\n",
       "      <td>-1.945196e-01</td>\n",
       "      <td>-1.315620e-01</td>\n",
       "      <td>-1.264097e-01</td>\n",
       "      <td>-1.236360e-01</td>\n",
       "      <td>-1.016452e-01</td>\n",
       "      <td>-9.662098e-02</td>\n",
       "      <td>-9.297088e-02</td>\n",
       "      <td>-8.202809e-02</td>\n",
       "      <td>-7.721868e-02</td>\n",
       "      <td>-7.139961e-02</td>\n",
       "      <td>-7.474073e-02</td>\n",
       "      <td>-7.709743e-02</td>\n",
       "      <td>-6.603914e-02</td>\n",
       "      <td>-0.348500</td>\n",
       "    </tr>\n",
       "    <tr>\n",
       "      <th>50%</th>\n",
       "      <td>-1.417104e-02</td>\n",
       "      <td>-1.277241e-02</td>\n",
       "      <td>2.112166e-02</td>\n",
       "      <td>-2.337401e-02</td>\n",
       "      <td>-5.122797e-03</td>\n",
       "      <td>-1.355336e-02</td>\n",
       "      <td>-1.747870e-04</td>\n",
       "      <td>-4.656359e-03</td>\n",
       "      <td>2.572054e-03</td>\n",
       "      <td>-1.479172e-03</td>\n",
       "      <td>7.286444e-03</td>\n",
       "      <td>-5.745946e-03</td>\n",
       "      <td>-4.140670e-03</td>\n",
       "      <td>1.054915e-03</td>\n",
       "      <td>-1.758387e-03</td>\n",
       "      <td>-7.533392e-04</td>\n",
       "      <td>0.313000</td>\n",
       "    </tr>\n",
       "    <tr>\n",
       "      <th>75%</th>\n",
       "      <td>2.287306e-01</td>\n",
       "      <td>2.317720e-01</td>\n",
       "      <td>2.069571e-01</td>\n",
       "      <td>1.657590e-01</td>\n",
       "      <td>1.281660e-01</td>\n",
       "      <td>9.993122e-02</td>\n",
       "      <td>1.272081e-01</td>\n",
       "      <td>9.657222e-02</td>\n",
       "      <td>1.002626e-01</td>\n",
       "      <td>9.059634e-02</td>\n",
       "      <td>8.833765e-02</td>\n",
       "      <td>7.148033e-02</td>\n",
       "      <td>6.786199e-02</td>\n",
       "      <td>7.574868e-02</td>\n",
       "      <td>7.116829e-02</td>\n",
       "      <td>6.357449e-02</td>\n",
       "      <td>0.794250</td>\n",
       "    </tr>\n",
       "    <tr>\n",
       "      <th>max</th>\n",
       "      <td>1.597730e+00</td>\n",
       "      <td>1.382802e+00</td>\n",
       "      <td>1.010250e+00</td>\n",
       "      <td>1.448007e+00</td>\n",
       "      <td>1.034061e+00</td>\n",
       "      <td>1.358962e+00</td>\n",
       "      <td>6.191589e-01</td>\n",
       "      <td>7.370089e-01</td>\n",
       "      <td>6.449125e-01</td>\n",
       "      <td>5.839586e-01</td>\n",
       "      <td>6.405187e-01</td>\n",
       "      <td>6.780732e-01</td>\n",
       "      <td>5.156118e-01</td>\n",
       "      <td>4.978126e-01</td>\n",
       "      <td>4.673189e-01</td>\n",
       "      <td>4.570870e-01</td>\n",
       "      <td>2.538000</td>\n",
       "    </tr>\n",
       "  </tbody>\n",
       "</table>\n",
       "</div>"
      ],
      "text/plain": [
       "                  0             1             2             3             4  \\\n",
       "count  2.886000e+03  2.886000e+03  2.886000e+03  2.886000e+03  2.886000e+03   \n",
       "mean   1.334847e-16 -1.177352e-16  5.546306e-17  9.434588e-17  1.091565e-16   \n",
       "std    3.998976e-01  3.500240e-01  2.938631e-01  2.728023e-01  2.077128e-01   \n",
       "min   -1.071795e+00 -9.429479e-01 -9.948314e-01 -7.103087e-01 -7.703987e-01   \n",
       "25%   -2.804085e-01 -2.613727e-01 -2.090797e-01 -1.945196e-01 -1.315620e-01   \n",
       "50%   -1.417104e-02 -1.277241e-02  2.112166e-02 -2.337401e-02 -5.122797e-03   \n",
       "75%    2.287306e-01  2.317720e-01  2.069571e-01  1.657590e-01  1.281660e-01   \n",
       "max    1.597730e+00  1.382802e+00  1.010250e+00  1.448007e+00  1.034061e+00   \n",
       "\n",
       "                  5             6             7             8             9  \\\n",
       "count  2.886000e+03  2.886000e+03  2.886000e+03  2.886000e+03  2.886000e+03   \n",
       "mean  -5.532842e-17  1.015637e-16 -1.543579e-17 -8.070852e-17  1.374363e-16   \n",
       "std    1.951842e-01  1.877104e-01  1.607670e-01  1.512707e-01  1.443772e-01   \n",
       "min   -5.340294e-01 -5.993766e-01 -5.870755e-01 -6.282818e-01 -4.902583e-01   \n",
       "25%   -1.264097e-01 -1.236360e-01 -1.016452e-01 -9.662098e-02 -9.297088e-02   \n",
       "50%   -1.355336e-02 -1.747870e-04 -4.656359e-03  2.572054e-03 -1.479172e-03   \n",
       "75%    9.993122e-02  1.272081e-01  9.657222e-02  1.002626e-01  9.059634e-02   \n",
       "max    1.358962e+00  6.191589e-01  7.370089e-01  6.449125e-01  5.839586e-01   \n",
       "\n",
       "                 10            11            12            13            14  \\\n",
       "count  2.886000e+03  2.886000e+03  2.886000e+03  2.886000e+03  2.886000e+03   \n",
       "mean  -5.860312e-17  9.908240e-17  1.110319e-17 -6.169028e-17 -3.790124e-17   \n",
       "std    1.368790e-01  1.286192e-01  1.193301e-01  1.149758e-01  1.133507e-01   \n",
       "min   -6.341045e-01 -5.906753e-01 -4.175153e-01 -4.310613e-01 -4.170535e-01   \n",
       "25%   -8.202809e-02 -7.721868e-02 -7.139961e-02 -7.474073e-02 -7.709743e-02   \n",
       "50%    7.286444e-03 -5.745946e-03 -4.140670e-03  1.054915e-03 -1.758387e-03   \n",
       "75%    8.833765e-02  7.148033e-02  6.786199e-02  7.574868e-02  7.116829e-02   \n",
       "max    6.405187e-01  6.780732e-01  5.156118e-01  4.978126e-01  4.673189e-01   \n",
       "\n",
       "                 15       target  \n",
       "count  2.886000e+03  2884.000000  \n",
       "mean   8.384256e-17     0.127274  \n",
       "std    1.019259e-01     0.983462  \n",
       "min   -3.601627e-01    -3.044000  \n",
       "25%   -6.603914e-02    -0.348500  \n",
       "50%   -7.533392e-04     0.313000  \n",
       "75%    6.357449e-02     0.794250  \n",
       "max    4.570870e-01     2.538000  "
      ]
     },
     "execution_count": 102,
     "metadata": {},
     "output_type": "execute_result"
    }
   ],
   "source": [
    "from sklearn.decomposition import PCA   #主成分分析法\n",
    "\n",
    "#PCA方法降维\n",
    "#保持90%的信息\n",
    "pca = PCA(n_components=0.9)\n",
    "new_train_pca_90 = pca.fit_transform(train_data_scaler.iloc[:,0:-1])\n",
    "new_test_pca_90 = pca.transform(test_data_scaler)\n",
    "new_train_pca_90 = pd.DataFrame(new_train_pca_90)\n",
    "new_test_pca_90 = pd.DataFrame(new_test_pca_90)\n",
    "new_train_pca_90['target'] = train_data_scaler['target']\n",
    "new_train_pca_90.describe()"
   ]
  },
  {
   "cell_type": "code",
   "execution_count": 103,
   "metadata": {
    "collapsed": false,
    "execution": {
     "iopub.execute_input": "2023-03-23T10:11:04.349778Z",
     "iopub.status.busy": "2023-03-23T10:11:04.349502Z",
     "iopub.status.idle": "2023-03-23T10:11:04.446049Z",
     "shell.execute_reply": "2023-03-23T10:11:04.445460Z",
     "shell.execute_reply.started": "2023-03-23T10:11:04.349756Z"
    },
    "id": "C06F680DEA894B2DADBB3F00EC61CAA2",
    "jupyter": {
     "outputs_hidden": false
    },
    "notebookId": "641dabcafeb4fe02b2cd3ede",
    "scrolled": true,
    "slideshow": {
     "slide_type": "slide"
    },
    "tags": []
   },
   "outputs": [
    {
     "data": {
      "text/html": [
       "<div>\n",
       "<style scoped>\n",
       "    .dataframe tbody tr th:only-of-type {\n",
       "        vertical-align: middle;\n",
       "    }\n",
       "\n",
       "    .dataframe tbody tr th {\n",
       "        vertical-align: top;\n",
       "    }\n",
       "\n",
       "    .dataframe thead th {\n",
       "        text-align: right;\n",
       "    }\n",
       "</style>\n",
       "<table border=\"1\" class=\"dataframe\">\n",
       "  <thead>\n",
       "    <tr style=\"text-align: right;\">\n",
       "      <th></th>\n",
       "      <th>V0</th>\n",
       "      <th>V1</th>\n",
       "      <th>V2</th>\n",
       "      <th>V3</th>\n",
       "      <th>V4</th>\n",
       "      <th>V5</th>\n",
       "      <th>V6</th>\n",
       "      <th>V7</th>\n",
       "      <th>V8</th>\n",
       "      <th>V9</th>\n",
       "      <th>...</th>\n",
       "      <th>V29</th>\n",
       "      <th>V30</th>\n",
       "      <th>V31</th>\n",
       "      <th>V32</th>\n",
       "      <th>V33</th>\n",
       "      <th>V34</th>\n",
       "      <th>V35</th>\n",
       "      <th>V36</th>\n",
       "      <th>V37</th>\n",
       "      <th>target</th>\n",
       "    </tr>\n",
       "  </thead>\n",
       "  <tbody>\n",
       "    <tr>\n",
       "      <th>count</th>\n",
       "      <td>2886.000000</td>\n",
       "      <td>2886.000000</td>\n",
       "      <td>2886.000000</td>\n",
       "      <td>2886.000000</td>\n",
       "      <td>2886.000000</td>\n",
       "      <td>2886.000000</td>\n",
       "      <td>2886.000000</td>\n",
       "      <td>2886.000000</td>\n",
       "      <td>2886.000000</td>\n",
       "      <td>2886.000000</td>\n",
       "      <td>...</td>\n",
       "      <td>2886.000000</td>\n",
       "      <td>2886.000000</td>\n",
       "      <td>2886.000000</td>\n",
       "      <td>2886.000000</td>\n",
       "      <td>2886.000000</td>\n",
       "      <td>2886.000000</td>\n",
       "      <td>2886.000000</td>\n",
       "      <td>2886.000000</td>\n",
       "      <td>2886.000000</td>\n",
       "      <td>2884.000000</td>\n",
       "    </tr>\n",
       "    <tr>\n",
       "      <th>mean</th>\n",
       "      <td>0.690633</td>\n",
       "      <td>0.735633</td>\n",
       "      <td>0.593844</td>\n",
       "      <td>0.606212</td>\n",
       "      <td>0.639787</td>\n",
       "      <td>0.607649</td>\n",
       "      <td>0.735477</td>\n",
       "      <td>0.741354</td>\n",
       "      <td>0.702053</td>\n",
       "      <td>0.821897</td>\n",
       "      <td>...</td>\n",
       "      <td>0.401631</td>\n",
       "      <td>0.634466</td>\n",
       "      <td>0.760495</td>\n",
       "      <td>0.632231</td>\n",
       "      <td>0.459302</td>\n",
       "      <td>0.484489</td>\n",
       "      <td>0.734944</td>\n",
       "      <td>0.336235</td>\n",
       "      <td>0.527608</td>\n",
       "      <td>0.127274</td>\n",
       "    </tr>\n",
       "    <tr>\n",
       "      <th>std</th>\n",
       "      <td>0.143740</td>\n",
       "      <td>0.133703</td>\n",
       "      <td>0.145844</td>\n",
       "      <td>0.151311</td>\n",
       "      <td>0.119504</td>\n",
       "      <td>0.193887</td>\n",
       "      <td>0.141896</td>\n",
       "      <td>0.137154</td>\n",
       "      <td>0.129098</td>\n",
       "      <td>0.108362</td>\n",
       "      <td>...</td>\n",
       "      <td>0.141594</td>\n",
       "      <td>0.124279</td>\n",
       "      <td>0.110938</td>\n",
       "      <td>0.139037</td>\n",
       "      <td>0.099799</td>\n",
       "      <td>0.101365</td>\n",
       "      <td>0.122840</td>\n",
       "      <td>0.123663</td>\n",
       "      <td>0.153192</td>\n",
       "      <td>0.983462</td>\n",
       "    </tr>\n",
       "    <tr>\n",
       "      <th>min</th>\n",
       "      <td>0.000000</td>\n",
       "      <td>0.000000</td>\n",
       "      <td>0.000000</td>\n",
       "      <td>0.000000</td>\n",
       "      <td>0.000000</td>\n",
       "      <td>0.000000</td>\n",
       "      <td>0.000000</td>\n",
       "      <td>0.000000</td>\n",
       "      <td>0.000000</td>\n",
       "      <td>0.000000</td>\n",
       "      <td>...</td>\n",
       "      <td>0.000000</td>\n",
       "      <td>0.000000</td>\n",
       "      <td>0.000000</td>\n",
       "      <td>0.000000</td>\n",
       "      <td>0.000000</td>\n",
       "      <td>0.000000</td>\n",
       "      <td>0.000000</td>\n",
       "      <td>0.000000</td>\n",
       "      <td>0.000000</td>\n",
       "      <td>-3.044000</td>\n",
       "    </tr>\n",
       "    <tr>\n",
       "      <th>25%</th>\n",
       "      <td>0.626239</td>\n",
       "      <td>0.695703</td>\n",
       "      <td>0.497759</td>\n",
       "      <td>0.515087</td>\n",
       "      <td>0.586328</td>\n",
       "      <td>0.497566</td>\n",
       "      <td>0.659249</td>\n",
       "      <td>0.682314</td>\n",
       "      <td>0.653489</td>\n",
       "      <td>0.794789</td>\n",
       "      <td>...</td>\n",
       "      <td>0.300053</td>\n",
       "      <td>0.587132</td>\n",
       "      <td>0.722593</td>\n",
       "      <td>0.565757</td>\n",
       "      <td>0.409037</td>\n",
       "      <td>0.454490</td>\n",
       "      <td>0.685279</td>\n",
       "      <td>0.279792</td>\n",
       "      <td>0.427036</td>\n",
       "      <td>-0.348500</td>\n",
       "    </tr>\n",
       "    <tr>\n",
       "      <th>50%</th>\n",
       "      <td>0.727153</td>\n",
       "      <td>0.766335</td>\n",
       "      <td>0.609155</td>\n",
       "      <td>0.609855</td>\n",
       "      <td>0.652873</td>\n",
       "      <td>0.642456</td>\n",
       "      <td>0.767192</td>\n",
       "      <td>0.774189</td>\n",
       "      <td>0.728557</td>\n",
       "      <td>0.846181</td>\n",
       "      <td>...</td>\n",
       "      <td>0.385611</td>\n",
       "      <td>0.633894</td>\n",
       "      <td>0.782330</td>\n",
       "      <td>0.634770</td>\n",
       "      <td>0.454518</td>\n",
       "      <td>0.499949</td>\n",
       "      <td>0.755580</td>\n",
       "      <td>0.349860</td>\n",
       "      <td>0.519457</td>\n",
       "      <td>0.313000</td>\n",
       "    </tr>\n",
       "    <tr>\n",
       "      <th>75%</th>\n",
       "      <td>0.783922</td>\n",
       "      <td>0.812642</td>\n",
       "      <td>0.694422</td>\n",
       "      <td>0.714096</td>\n",
       "      <td>0.712152</td>\n",
       "      <td>0.759266</td>\n",
       "      <td>0.835690</td>\n",
       "      <td>0.837030</td>\n",
       "      <td>0.781029</td>\n",
       "      <td>0.846181</td>\n",
       "      <td>...</td>\n",
       "      <td>0.488121</td>\n",
       "      <td>0.694136</td>\n",
       "      <td>0.824949</td>\n",
       "      <td>0.714950</td>\n",
       "      <td>0.504261</td>\n",
       "      <td>0.511365</td>\n",
       "      <td>0.785260</td>\n",
       "      <td>0.414447</td>\n",
       "      <td>0.621870</td>\n",
       "      <td>0.794250</td>\n",
       "    </tr>\n",
       "    <tr>\n",
       "      <th>max</th>\n",
       "      <td>1.000000</td>\n",
       "      <td>1.000000</td>\n",
       "      <td>1.000000</td>\n",
       "      <td>1.000000</td>\n",
       "      <td>1.000000</td>\n",
       "      <td>1.000000</td>\n",
       "      <td>1.000000</td>\n",
       "      <td>1.000000</td>\n",
       "      <td>1.000000</td>\n",
       "      <td>1.000000</td>\n",
       "      <td>...</td>\n",
       "      <td>1.000000</td>\n",
       "      <td>1.000000</td>\n",
       "      <td>1.000000</td>\n",
       "      <td>1.000000</td>\n",
       "      <td>1.000000</td>\n",
       "      <td>1.000000</td>\n",
       "      <td>1.000000</td>\n",
       "      <td>1.000000</td>\n",
       "      <td>1.000000</td>\n",
       "      <td>2.538000</td>\n",
       "    </tr>\n",
       "  </tbody>\n",
       "</table>\n",
       "<p>8 rows × 39 columns</p>\n",
       "</div>"
      ],
      "text/plain": [
       "                V0           V1           V2           V3           V4  \\\n",
       "count  2886.000000  2886.000000  2886.000000  2886.000000  2886.000000   \n",
       "mean      0.690633     0.735633     0.593844     0.606212     0.639787   \n",
       "std       0.143740     0.133703     0.145844     0.151311     0.119504   \n",
       "min       0.000000     0.000000     0.000000     0.000000     0.000000   \n",
       "25%       0.626239     0.695703     0.497759     0.515087     0.586328   \n",
       "50%       0.727153     0.766335     0.609155     0.609855     0.652873   \n",
       "75%       0.783922     0.812642     0.694422     0.714096     0.712152   \n",
       "max       1.000000     1.000000     1.000000     1.000000     1.000000   \n",
       "\n",
       "                V5           V6           V7           V8           V9  ...  \\\n",
       "count  2886.000000  2886.000000  2886.000000  2886.000000  2886.000000  ...   \n",
       "mean      0.607649     0.735477     0.741354     0.702053     0.821897  ...   \n",
       "std       0.193887     0.141896     0.137154     0.129098     0.108362  ...   \n",
       "min       0.000000     0.000000     0.000000     0.000000     0.000000  ...   \n",
       "25%       0.497566     0.659249     0.682314     0.653489     0.794789  ...   \n",
       "50%       0.642456     0.767192     0.774189     0.728557     0.846181  ...   \n",
       "75%       0.759266     0.835690     0.837030     0.781029     0.846181  ...   \n",
       "max       1.000000     1.000000     1.000000     1.000000     1.000000  ...   \n",
       "\n",
       "               V29          V30          V31          V32          V33  \\\n",
       "count  2886.000000  2886.000000  2886.000000  2886.000000  2886.000000   \n",
       "mean      0.401631     0.634466     0.760495     0.632231     0.459302   \n",
       "std       0.141594     0.124279     0.110938     0.139037     0.099799   \n",
       "min       0.000000     0.000000     0.000000     0.000000     0.000000   \n",
       "25%       0.300053     0.587132     0.722593     0.565757     0.409037   \n",
       "50%       0.385611     0.633894     0.782330     0.634770     0.454518   \n",
       "75%       0.488121     0.694136     0.824949     0.714950     0.504261   \n",
       "max       1.000000     1.000000     1.000000     1.000000     1.000000   \n",
       "\n",
       "               V34          V35          V36          V37       target  \n",
       "count  2886.000000  2886.000000  2886.000000  2886.000000  2884.000000  \n",
       "mean      0.484489     0.734944     0.336235     0.527608     0.127274  \n",
       "std       0.101365     0.122840     0.123663     0.153192     0.983462  \n",
       "min       0.000000     0.000000     0.000000     0.000000    -3.044000  \n",
       "25%       0.454490     0.685279     0.279792     0.427036    -0.348500  \n",
       "50%       0.499949     0.755580     0.349860     0.519457     0.313000  \n",
       "75%       0.511365     0.785260     0.414447     0.621870     0.794250  \n",
       "max       1.000000     1.000000     1.000000     1.000000     2.538000  \n",
       "\n",
       "[8 rows x 39 columns]"
      ]
     },
     "execution_count": 103,
     "metadata": {},
     "output_type": "execute_result"
    }
   ],
   "source": [
    "train_data_scaler.describe()"
   ]
  },
  {
   "cell_type": "code",
   "execution_count": 104,
   "metadata": {
    "collapsed": false,
    "execution": {
     "iopub.execute_input": "2023-03-23T10:11:04.447266Z",
     "iopub.status.busy": "2023-03-23T10:11:04.447007Z",
     "iopub.status.idle": "2023-03-23T10:11:04.643289Z",
     "shell.execute_reply": "2023-03-23T10:11:04.642702Z",
     "shell.execute_reply.started": "2023-03-23T10:11:04.447246Z"
    },
    "id": "A64DAC487571459FB2064E0B024662C1",
    "jupyter": {
     "outputs_hidden": false
    },
    "notebookId": "641dabcafeb4fe02b2cd3ede",
    "scrolled": true,
    "slideshow": {
     "slide_type": "slide"
    },
    "tags": []
   },
   "outputs": [
    {
     "data": {
      "text/html": [
       "<div>\n",
       "<style scoped>\n",
       "    .dataframe tbody tr th:only-of-type {\n",
       "        vertical-align: middle;\n",
       "    }\n",
       "\n",
       "    .dataframe tbody tr th {\n",
       "        vertical-align: top;\n",
       "    }\n",
       "\n",
       "    .dataframe thead th {\n",
       "        text-align: right;\n",
       "    }\n",
       "</style>\n",
       "<table border=\"1\" class=\"dataframe\">\n",
       "  <thead>\n",
       "    <tr style=\"text-align: right;\">\n",
       "      <th></th>\n",
       "      <th>0</th>\n",
       "      <th>1</th>\n",
       "      <th>2</th>\n",
       "      <th>3</th>\n",
       "      <th>4</th>\n",
       "      <th>5</th>\n",
       "      <th>6</th>\n",
       "      <th>7</th>\n",
       "      <th>8</th>\n",
       "      <th>9</th>\n",
       "      <th>...</th>\n",
       "      <th>12</th>\n",
       "      <th>13</th>\n",
       "      <th>14</th>\n",
       "      <th>15</th>\n",
       "      <th>16</th>\n",
       "      <th>17</th>\n",
       "      <th>18</th>\n",
       "      <th>19</th>\n",
       "      <th>20</th>\n",
       "      <th>target</th>\n",
       "    </tr>\n",
       "  </thead>\n",
       "  <tbody>\n",
       "    <tr>\n",
       "      <th>count</th>\n",
       "      <td>2.886000e+03</td>\n",
       "      <td>2.886000e+03</td>\n",
       "      <td>2.886000e+03</td>\n",
       "      <td>2.886000e+03</td>\n",
       "      <td>2.886000e+03</td>\n",
       "      <td>2.886000e+03</td>\n",
       "      <td>2.886000e+03</td>\n",
       "      <td>2.886000e+03</td>\n",
       "      <td>2.886000e+03</td>\n",
       "      <td>2.886000e+03</td>\n",
       "      <td>...</td>\n",
       "      <td>2.886000e+03</td>\n",
       "      <td>2.886000e+03</td>\n",
       "      <td>2.886000e+03</td>\n",
       "      <td>2.886000e+03</td>\n",
       "      <td>2.886000e+03</td>\n",
       "      <td>2.886000e+03</td>\n",
       "      <td>2.886000e+03</td>\n",
       "      <td>2.886000e+03</td>\n",
       "      <td>2.886000e+03</td>\n",
       "      <td>2884.000000</td>\n",
       "    </tr>\n",
       "    <tr>\n",
       "      <th>mean</th>\n",
       "      <td>1.334847e-16</td>\n",
       "      <td>-1.177352e-16</td>\n",
       "      <td>5.546306e-17</td>\n",
       "      <td>9.434588e-17</td>\n",
       "      <td>1.091565e-16</td>\n",
       "      <td>-5.532842e-17</td>\n",
       "      <td>1.015637e-16</td>\n",
       "      <td>-1.543579e-17</td>\n",
       "      <td>-8.070852e-17</td>\n",
       "      <td>1.374363e-16</td>\n",
       "      <td>...</td>\n",
       "      <td>1.110319e-17</td>\n",
       "      <td>-6.169028e-17</td>\n",
       "      <td>-3.790124e-17</td>\n",
       "      <td>8.384256e-17</td>\n",
       "      <td>4.409540e-17</td>\n",
       "      <td>-9.905836e-19</td>\n",
       "      <td>-2.497377e-17</td>\n",
       "      <td>8.326673e-17</td>\n",
       "      <td>-1.164729e-16</td>\n",
       "      <td>0.127274</td>\n",
       "    </tr>\n",
       "    <tr>\n",
       "      <th>std</th>\n",
       "      <td>3.998976e-01</td>\n",
       "      <td>3.500240e-01</td>\n",
       "      <td>2.938631e-01</td>\n",
       "      <td>2.728023e-01</td>\n",
       "      <td>2.077128e-01</td>\n",
       "      <td>1.951842e-01</td>\n",
       "      <td>1.877104e-01</td>\n",
       "      <td>1.607670e-01</td>\n",
       "      <td>1.512707e-01</td>\n",
       "      <td>1.443772e-01</td>\n",
       "      <td>...</td>\n",
       "      <td>1.193301e-01</td>\n",
       "      <td>1.149758e-01</td>\n",
       "      <td>1.133507e-01</td>\n",
       "      <td>1.019259e-01</td>\n",
       "      <td>9.617307e-02</td>\n",
       "      <td>9.205940e-02</td>\n",
       "      <td>8.423171e-02</td>\n",
       "      <td>8.295263e-02</td>\n",
       "      <td>7.696785e-02</td>\n",
       "      <td>0.983462</td>\n",
       "    </tr>\n",
       "    <tr>\n",
       "      <th>min</th>\n",
       "      <td>-1.071795e+00</td>\n",
       "      <td>-9.429479e-01</td>\n",
       "      <td>-9.948314e-01</td>\n",
       "      <td>-7.103087e-01</td>\n",
       "      <td>-7.703987e-01</td>\n",
       "      <td>-5.340294e-01</td>\n",
       "      <td>-5.993766e-01</td>\n",
       "      <td>-5.870755e-01</td>\n",
       "      <td>-6.282818e-01</td>\n",
       "      <td>-4.902583e-01</td>\n",
       "      <td>...</td>\n",
       "      <td>-4.175153e-01</td>\n",
       "      <td>-4.310613e-01</td>\n",
       "      <td>-4.170535e-01</td>\n",
       "      <td>-3.601627e-01</td>\n",
       "      <td>-3.432530e-01</td>\n",
       "      <td>-3.530609e-01</td>\n",
       "      <td>-3.908328e-01</td>\n",
       "      <td>-3.089560e-01</td>\n",
       "      <td>-2.867812e-01</td>\n",
       "      <td>-3.044000</td>\n",
       "    </tr>\n",
       "    <tr>\n",
       "      <th>25%</th>\n",
       "      <td>-2.804085e-01</td>\n",
       "      <td>-2.613727e-01</td>\n",
       "      <td>-2.090797e-01</td>\n",
       "      <td>-1.945196e-01</td>\n",
       "      <td>-1.315620e-01</td>\n",
       "      <td>-1.264097e-01</td>\n",
       "      <td>-1.236360e-01</td>\n",
       "      <td>-1.016452e-01</td>\n",
       "      <td>-9.662098e-02</td>\n",
       "      <td>-9.297088e-02</td>\n",
       "      <td>...</td>\n",
       "      <td>-7.139961e-02</td>\n",
       "      <td>-7.474073e-02</td>\n",
       "      <td>-7.709743e-02</td>\n",
       "      <td>-6.603914e-02</td>\n",
       "      <td>-6.064846e-02</td>\n",
       "      <td>-6.247177e-02</td>\n",
       "      <td>-5.357475e-02</td>\n",
       "      <td>-5.279870e-02</td>\n",
       "      <td>-4.930849e-02</td>\n",
       "      <td>-0.348500</td>\n",
       "    </tr>\n",
       "    <tr>\n",
       "      <th>50%</th>\n",
       "      <td>-1.417104e-02</td>\n",
       "      <td>-1.277241e-02</td>\n",
       "      <td>2.112166e-02</td>\n",
       "      <td>-2.337401e-02</td>\n",
       "      <td>-5.122797e-03</td>\n",
       "      <td>-1.355336e-02</td>\n",
       "      <td>-1.747870e-04</td>\n",
       "      <td>-4.656359e-03</td>\n",
       "      <td>2.572054e-03</td>\n",
       "      <td>-1.479172e-03</td>\n",
       "      <td>...</td>\n",
       "      <td>-4.140670e-03</td>\n",
       "      <td>1.054915e-03</td>\n",
       "      <td>-1.758387e-03</td>\n",
       "      <td>-7.533392e-04</td>\n",
       "      <td>-4.559279e-03</td>\n",
       "      <td>-2.317781e-03</td>\n",
       "      <td>-3.034317e-04</td>\n",
       "      <td>3.391130e-03</td>\n",
       "      <td>-1.703944e-03</td>\n",
       "      <td>0.313000</td>\n",
       "    </tr>\n",
       "    <tr>\n",
       "      <th>75%</th>\n",
       "      <td>2.287306e-01</td>\n",
       "      <td>2.317720e-01</td>\n",
       "      <td>2.069571e-01</td>\n",
       "      <td>1.657590e-01</td>\n",
       "      <td>1.281660e-01</td>\n",
       "      <td>9.993122e-02</td>\n",
       "      <td>1.272081e-01</td>\n",
       "      <td>9.657222e-02</td>\n",
       "      <td>1.002626e-01</td>\n",
       "      <td>9.059634e-02</td>\n",
       "      <td>...</td>\n",
       "      <td>6.786199e-02</td>\n",
       "      <td>7.574868e-02</td>\n",
       "      <td>7.116829e-02</td>\n",
       "      <td>6.357449e-02</td>\n",
       "      <td>5.732624e-02</td>\n",
       "      <td>6.139602e-02</td>\n",
       "      <td>5.068802e-02</td>\n",
       "      <td>5.084688e-02</td>\n",
       "      <td>4.693391e-02</td>\n",
       "      <td>0.794250</td>\n",
       "    </tr>\n",
       "    <tr>\n",
       "      <th>max</th>\n",
       "      <td>1.597730e+00</td>\n",
       "      <td>1.382802e+00</td>\n",
       "      <td>1.010250e+00</td>\n",
       "      <td>1.448007e+00</td>\n",
       "      <td>1.034061e+00</td>\n",
       "      <td>1.358962e+00</td>\n",
       "      <td>6.191589e-01</td>\n",
       "      <td>7.370089e-01</td>\n",
       "      <td>6.449125e-01</td>\n",
       "      <td>5.839586e-01</td>\n",
       "      <td>...</td>\n",
       "      <td>5.156118e-01</td>\n",
       "      <td>4.978126e-01</td>\n",
       "      <td>4.673189e-01</td>\n",
       "      <td>4.570870e-01</td>\n",
       "      <td>5.153325e-01</td>\n",
       "      <td>3.556862e-01</td>\n",
       "      <td>4.709891e-01</td>\n",
       "      <td>3.677911e-01</td>\n",
       "      <td>3.663361e-01</td>\n",
       "      <td>2.538000</td>\n",
       "    </tr>\n",
       "  </tbody>\n",
       "</table>\n",
       "<p>8 rows × 22 columns</p>\n",
       "</div>"
      ],
      "text/plain": [
       "                  0             1             2             3             4  \\\n",
       "count  2.886000e+03  2.886000e+03  2.886000e+03  2.886000e+03  2.886000e+03   \n",
       "mean   1.334847e-16 -1.177352e-16  5.546306e-17  9.434588e-17  1.091565e-16   \n",
       "std    3.998976e-01  3.500240e-01  2.938631e-01  2.728023e-01  2.077128e-01   \n",
       "min   -1.071795e+00 -9.429479e-01 -9.948314e-01 -7.103087e-01 -7.703987e-01   \n",
       "25%   -2.804085e-01 -2.613727e-01 -2.090797e-01 -1.945196e-01 -1.315620e-01   \n",
       "50%   -1.417104e-02 -1.277241e-02  2.112166e-02 -2.337401e-02 -5.122797e-03   \n",
       "75%    2.287306e-01  2.317720e-01  2.069571e-01  1.657590e-01  1.281660e-01   \n",
       "max    1.597730e+00  1.382802e+00  1.010250e+00  1.448007e+00  1.034061e+00   \n",
       "\n",
       "                  5             6             7             8             9  \\\n",
       "count  2.886000e+03  2.886000e+03  2.886000e+03  2.886000e+03  2.886000e+03   \n",
       "mean  -5.532842e-17  1.015637e-16 -1.543579e-17 -8.070852e-17  1.374363e-16   \n",
       "std    1.951842e-01  1.877104e-01  1.607670e-01  1.512707e-01  1.443772e-01   \n",
       "min   -5.340294e-01 -5.993766e-01 -5.870755e-01 -6.282818e-01 -4.902583e-01   \n",
       "25%   -1.264097e-01 -1.236360e-01 -1.016452e-01 -9.662098e-02 -9.297088e-02   \n",
       "50%   -1.355336e-02 -1.747870e-04 -4.656359e-03  2.572054e-03 -1.479172e-03   \n",
       "75%    9.993122e-02  1.272081e-01  9.657222e-02  1.002626e-01  9.059634e-02   \n",
       "max    1.358962e+00  6.191589e-01  7.370089e-01  6.449125e-01  5.839586e-01   \n",
       "\n",
       "       ...            12            13            14            15  \\\n",
       "count  ...  2.886000e+03  2.886000e+03  2.886000e+03  2.886000e+03   \n",
       "mean   ...  1.110319e-17 -6.169028e-17 -3.790124e-17  8.384256e-17   \n",
       "std    ...  1.193301e-01  1.149758e-01  1.133507e-01  1.019259e-01   \n",
       "min    ... -4.175153e-01 -4.310613e-01 -4.170535e-01 -3.601627e-01   \n",
       "25%    ... -7.139961e-02 -7.474073e-02 -7.709743e-02 -6.603914e-02   \n",
       "50%    ... -4.140670e-03  1.054915e-03 -1.758387e-03 -7.533392e-04   \n",
       "75%    ...  6.786199e-02  7.574868e-02  7.116829e-02  6.357449e-02   \n",
       "max    ...  5.156118e-01  4.978126e-01  4.673189e-01  4.570870e-01   \n",
       "\n",
       "                 16            17            18            19            20  \\\n",
       "count  2.886000e+03  2.886000e+03  2.886000e+03  2.886000e+03  2.886000e+03   \n",
       "mean   4.409540e-17 -9.905836e-19 -2.497377e-17  8.326673e-17 -1.164729e-16   \n",
       "std    9.617307e-02  9.205940e-02  8.423171e-02  8.295263e-02  7.696785e-02   \n",
       "min   -3.432530e-01 -3.530609e-01 -3.908328e-01 -3.089560e-01 -2.867812e-01   \n",
       "25%   -6.064846e-02 -6.247177e-02 -5.357475e-02 -5.279870e-02 -4.930849e-02   \n",
       "50%   -4.559279e-03 -2.317781e-03 -3.034317e-04  3.391130e-03 -1.703944e-03   \n",
       "75%    5.732624e-02  6.139602e-02  5.068802e-02  5.084688e-02  4.693391e-02   \n",
       "max    5.153325e-01  3.556862e-01  4.709891e-01  3.677911e-01  3.663361e-01   \n",
       "\n",
       "            target  \n",
       "count  2884.000000  \n",
       "mean      0.127274  \n",
       "std       0.983462  \n",
       "min      -3.044000  \n",
       "25%      -0.348500  \n",
       "50%       0.313000  \n",
       "75%       0.794250  \n",
       "max       2.538000  \n",
       "\n",
       "[8 rows x 22 columns]"
      ]
     },
     "execution_count": 104,
     "metadata": {},
     "output_type": "execute_result"
    }
   ],
   "source": [
    "#PCA方法降维\n",
    "#保留16个主成分\n",
    "pca = PCA(n_components=0.95)\n",
    "new_train_pca_16 = pca.fit_transform(train_data_scaler.iloc[:,0:-1])\n",
    "new_test_pca_16 = pca.transform(test_data_scaler)\n",
    "new_train_pca_16 = pd.DataFrame(new_train_pca_16)\n",
    "new_test_pca_16 = pd.DataFrame(new_test_pca_16)\n",
    "new_train_pca_16['target'] = train_data_scaler['target']\n",
    "new_train_pca_16.describe()"
   ]
  },
  {
   "cell_type": "markdown",
   "metadata": {
    "id": "1163717F83F14256ADB6377AC7983017",
    "jupyter": {},
    "notebookId": "641dabcafeb4fe02b2cd3ede",
    "runtime": {
     "execution_status": null,
     "status": "default"
    },
    "scrolled": false,
    "slideshow": {
     "slide_type": "slide"
    },
    "tags": []
   },
   "source": [
    "# 3.模型训练  \n",
    "\n",
    "## 3.1 回归及相关模型  \n"
   ]
  },
  {
   "cell_type": "code",
   "execution_count": 105,
   "metadata": {
    "collapsed": false,
    "id": "61D423295C0949F3804C95C99D1A5CD3",
    "jupyter": {
     "outputs_hidden": false
    },
    "notebookId": "641dabcafeb4fe02b2cd3ede",
    "slideshow": {
     "slide_type": "slide"
    },
    "tags": []
   },
   "outputs": [
    {
     "name": "stdout",
     "output_type": "stream",
     "text": [
      "Requirement already satisfied: lightgbm in /opt/conda/lib/python3.8/site-packages (3.3.5)\r\n",
      "Requirement already satisfied: scikit-learn!=0.22.0 in /opt/conda/lib/python3.8/site-packages (from lightgbm) (0.23.2)\r\n",
      "Requirement already satisfied: numpy in /opt/conda/lib/python3.8/site-packages (from lightgbm) (1.19.1)\r\n",
      "Requirement already satisfied: wheel in /opt/conda/lib/python3.8/site-packages (from lightgbm) (0.35.1)\r\n",
      "Requirement already satisfied: scipy in /opt/conda/lib/python3.8/site-packages (from lightgbm) (1.5.2)\r\n",
      "Requirement already satisfied: joblib>=0.11 in /opt/conda/lib/python3.8/site-packages (from scikit-learn!=0.22.0->lightgbm) (0.16.0)\r\n",
      "Requirement already satisfied: threadpoolctl>=2.0.0 in /opt/conda/lib/python3.8/site-packages (from scikit-learn!=0.22.0->lightgbm) (2.1.0)\r\n"
     ]
    }
   ],
   "source": [
    "!pip install lightgbm"
   ]
  },
  {
   "cell_type": "code",
   "execution_count": 106,
   "metadata": {
    "collapsed": false,
    "execution": {
     "iopub.execute_input": "2023-03-23T10:11:04.644390Z",
     "iopub.status.busy": "2023-03-23T10:11:04.644129Z",
     "iopub.status.idle": "2023-03-23T10:11:04.652520Z",
     "shell.execute_reply": "2023-03-23T10:11:04.651994Z",
     "shell.execute_reply.started": "2023-03-23T10:11:04.644368Z"
    },
    "id": "9ECCB0B59A8A4F11844987F498CAE606",
    "jupyter": {
     "outputs_hidden": false
    },
    "notebookId": "641dabcafeb4fe02b2cd3ede",
    "scrolled": true,
    "slideshow": {
     "slide_type": "slide"
    },
    "tags": []
   },
   "outputs": [],
   "source": [
    "## 导入相关库\n",
    "from sklearn.linear_model import LinearRegression  #线性回归\n",
    "from sklearn.neighbors import KNeighborsRegressor  #K近邻回归\n",
    "from sklearn.tree import DecisionTreeRegressor     #决策树回归\n",
    "from sklearn.ensemble import RandomForestRegressor #随机森林回归\n",
    "from sklearn.svm import SVR  #支持向量回归\n",
    "import lightgbm as lgb #lightGbm模型\n",
    "from sklearn.ensemble import GradientBoostingRegressor\n",
    "\n",
    "from sklearn.model_selection import train_test_split # 切分数据\n",
    "from sklearn.metrics import mean_squared_error #评价指标\n",
    "\n",
    "from sklearn.model_selection import learning_curve\n",
    "from sklearn.model_selection import ShuffleSplit\n",
    "\n",
    "## 切分训练数据和线下验证数据\n",
    "\n",
    "#采用 pca 保留16维特征的数据\n",
    "new_train_pca_16 = new_train_pca_16.fillna(0)\n",
    "train = new_train_pca_16[new_test_pca_16.columns]\n",
    "target = new_train_pca_16['target']\n",
    "\n",
    "# 切分数据 训练数据80% 验证数据20%\n",
    "train_data,test_data,train_target,test_target=train_test_split(train,target,test_size=0.2,random_state=0)"
   ]
  },
  {
   "cell_type": "markdown",
   "metadata": {
    "id": "78331B54ABEE4B93B415414A5B68EFC6",
    "jupyter": {},
    "notebookId": "641dabcafeb4fe02b2cd3ede",
    "runtime": {
     "execution_status": null,
     "status": "default"
    },
    "scrolled": false,
    "slideshow": {
     "slide_type": "slide"
    },
    "tags": []
   },
   "source": [
    "### 3.1.1 多元线性回归模型"
   ]
  },
  {
   "cell_type": "code",
   "execution_count": 107,
   "metadata": {
    "collapsed": false,
    "execution": {
     "iopub.execute_input": "2023-03-23T10:11:04.653600Z",
     "iopub.status.busy": "2023-03-23T10:11:04.653354Z",
     "iopub.status.idle": "2023-03-23T10:11:13.933320Z",
     "shell.execute_reply": "2023-03-23T10:11:13.932564Z",
     "shell.execute_reply.started": "2023-03-23T10:11:04.653581Z"
    },
    "id": "27CC48293AA8418F9A460535652AEC13",
    "jupyter": {
     "outputs_hidden": false
    },
    "notebookId": "641dabcafeb4fe02b2cd3ede",
    "scrolled": true,
    "slideshow": {
     "slide_type": "slide"
    },
    "tags": []
   },
   "outputs": [
    {
     "name": "stdout",
     "output_type": "stream",
     "text": [
      "LinearRegression:    0.2642337917628173\n"
     ]
    },
    {
     "data": {
      "text/html": [
       "<img src=\"https://cdn.kesci.com/upload/rt/27CC48293AA8418F9A460535652AEC13/rs13gh8n8a.png\">"
      ],
      "text/plain": [
       "<Figure size 432x288 with 1 Axes>"
      ]
     },
     "metadata": {
      "needs_background": "light"
     },
     "output_type": "display_data"
    }
   ],
   "source": [
    "clf = LinearRegression()\n",
    "clf.fit(train_data, train_target)\n",
    "score = mean_squared_error(test_target, clf.predict(test_data))\n",
    "print(\"LinearRegression:   \", score)\n",
    "\n",
    "train_score = []\n",
    "test_score = []\n",
    "\n",
    "# 给予不同的数据量，查看模型的学习效果\n",
    "for i in range(10, len(train_data)+1, 10):\n",
    "    lin_reg = LinearRegression()\n",
    "    lin_reg.fit(train_data[:i], train_target[:i])\n",
    "    # LinearRegression().fit(X_train[:i], y_train[:i])\n",
    "    \n",
    "    # 查看模型的预测情况：两种，模型基于训练数据集预测的情况(可以理解为模型拟合训练数据集的情况)，模型基于测试数据集预测的情况\n",
    "    # 此处使用 lin_reg.predict(X_train[:i])，为训练模型的全部数据集\n",
    "    y_train_predict = lin_reg.predict(train_data[:i])\n",
    "    train_score.append(mean_squared_error(train_target[:i], y_train_predict))\n",
    "    \n",
    "    y_test_predict = lin_reg.predict(test_data)\n",
    "    test_score.append(mean_squared_error(test_target, y_test_predict))\n",
    "    \n",
    "# np.sqrt(train_score)：将列表 train_score 中的数开平方\n",
    "plt.plot([i for i in range(1, len(train_score)+1)], train_score, label='train')\n",
    "plt.plot([i for i in range(1, len(test_score)+1)], test_score, label='test')\n",
    "\n",
    "# plt.legend()：显示图例（如图形的 label）；\n",
    "plt.legend()\n",
    "plt.show()"
   ]
  },
  {
   "cell_type": "markdown",
   "metadata": {
    "id": "EDCCB8694FD54C5E95519525F63E8623",
    "jupyter": {},
    "notebookId": "641dabcafeb4fe02b2cd3ede",
    "runtime": {
     "execution_status": null,
     "status": "default"
    },
    "scrolled": false,
    "slideshow": {
     "slide_type": "slide"
    },
    "tags": []
   },
   "source": [
    "#### 定义绘制模型学习曲线函数  \n"
   ]
  },
  {
   "cell_type": "code",
   "execution_count": 108,
   "metadata": {
    "collapsed": false,
    "execution": {
     "iopub.execute_input": "2023-03-23T10:11:13.934685Z",
     "iopub.status.busy": "2023-03-23T10:11:13.934382Z",
     "iopub.status.idle": "2023-03-23T10:11:13.942326Z",
     "shell.execute_reply": "2023-03-23T10:11:13.941673Z",
     "shell.execute_reply.started": "2023-03-23T10:11:13.934660Z"
    },
    "id": "C30E03AB0CF34A93B9A9D35630778868",
    "jupyter": {
     "outputs_hidden": false
    },
    "notebookId": "641dabcafeb4fe02b2cd3ede",
    "scrolled": true,
    "slideshow": {
     "slide_type": "slide"
    },
    "tags": []
   },
   "outputs": [],
   "source": [
    "def plot_learning_curve(estimator, title, X, y, ylim=None, cv=None,\n",
    "                        n_jobs=1, train_sizes=np.linspace(.1, 1.0, 5)):\n",
    "    plt.figure()\n",
    "    plt.title(title)\n",
    "    if ylim is not None:\n",
    "        plt.ylim(*ylim)\n",
    "    plt.xlabel(\"Training examples\")\n",
    "    plt.ylabel(\"Score\")\n",
    "    train_sizes, train_scores, test_scores = learning_curve(\n",
    "        estimator, X, y, cv=cv, n_jobs=n_jobs, train_sizes=train_sizes)\n",
    "    train_scores_mean = np.mean(train_scores, axis=1)\n",
    "    train_scores_std = np.std(train_scores, axis=1)\n",
    "    test_scores_mean = np.mean(test_scores, axis=1)\n",
    "    test_scores_std = np.std(test_scores, axis=1)\n",
    "    \n",
    "    print(train_scores_mean)\n",
    "    print(test_scores_mean)\n",
    "    \n",
    "    plt.grid()\n",
    " \n",
    "    plt.fill_between(train_sizes, train_scores_mean - train_scores_std,\n",
    "                     train_scores_mean + train_scores_std, alpha=0.1,\n",
    "                     color=\"r\")\n",
    "    plt.fill_between(train_sizes, test_scores_mean - test_scores_std,\n",
    "                     test_scores_mean + test_scores_std, alpha=0.1, color=\"g\")\n",
    "    plt.plot(train_sizes, train_scores_mean, 'o-', color=\"r\",\n",
    "             label=\"Training score\")\n",
    "    plt.plot(train_sizes, test_scores_mean, 'o-', color=\"g\",\n",
    "             label=\"Cross-validation score\")\n",
    " \n",
    "    plt.legend(loc=\"best\")\n",
    "    return plt"
   ]
  },
  {
   "cell_type": "code",
   "execution_count": 109,
   "metadata": {
    "collapsed": false,
    "execution": {
     "iopub.execute_input": "2023-03-23T10:11:13.943459Z",
     "iopub.status.busy": "2023-03-23T10:11:13.943053Z",
     "iopub.status.idle": "2023-03-23T10:11:13.948589Z",
     "shell.execute_reply": "2023-03-23T10:11:13.948066Z",
     "shell.execute_reply.started": "2023-03-23T10:11:13.943439Z"
    },
    "id": "096FD911723A4A089383FC9FCFCE3AD1",
    "jupyter": {
     "outputs_hidden": false
    },
    "notebookId": "641dabcafeb4fe02b2cd3ede",
    "scrolled": true,
    "slideshow": {
     "slide_type": "slide"
    },
    "tags": []
   },
   "outputs": [],
   "source": [
    "def plot_learning_curve_old(algo, X_train, X_test, y_train, y_test):\n",
    "    \"\"\"绘制学习曲线：只需要传入算法(或实例对象)、X_train、X_test、y_train、y_test\"\"\"\n",
    "    \"\"\"当使用该函数时传入算法，该算法的变量要进行实例化，如：PolynomialRegression(degree=2)，变量 degree 要进行实例化\"\"\"\n",
    "    train_score = []\n",
    "    test_score = []\n",
    "    for i in range(10, len(X_train)+1, 10):\n",
    "        algo.fit(X_train[:i], y_train[:i])\n",
    "        \n",
    "        y_train_predict = algo.predict(X_train[:i])\n",
    "        train_score.append(mean_squared_error(y_train[:i], y_train_predict))\n",
    "    \n",
    "        y_test_predict = algo.predict(X_test)\n",
    "        test_score.append(mean_squared_error(y_test, y_test_predict))\n",
    "    \n",
    "    plt.plot([i for i in range(1, len(train_score)+1)],\n",
    "            train_score, label=\"train\")\n",
    "    plt.plot([i for i in range(1, len(test_score)+1)],\n",
    "            test_score, label=\"test\")\n",
    "    \n",
    "    plt.legend()\n",
    "    plt.show()"
   ]
  },
  {
   "cell_type": "code",
   "execution_count": 110,
   "metadata": {
    "collapsed": false,
    "execution": {
     "iopub.execute_input": "2023-03-23T10:11:13.949660Z",
     "iopub.status.busy": "2023-03-23T10:11:13.949285Z",
     "iopub.status.idle": "2023-03-23T10:11:13.951903Z",
     "shell.execute_reply": "2023-03-23T10:11:13.951388Z",
     "shell.execute_reply.started": "2023-03-23T10:11:13.949642Z"
    },
    "id": "9611DDB73CAE4D029DC8169B822C7D7B",
    "jupyter": {
     "outputs_hidden": false
    },
    "notebookId": "641dabcafeb4fe02b2cd3ede",
    "scrolled": true,
    "slideshow": {
     "slide_type": "slide"
    },
    "tags": []
   },
   "outputs": [],
   "source": [
    "# plot_learning_curve_old(LinearRegression(), train_data, test_data, train_target, test_target)"
   ]
  },
  {
   "cell_type": "code",
   "execution_count": 111,
   "metadata": {
    "collapsed": false,
    "execution": {
     "iopub.execute_input": "2023-03-23T10:11:13.952819Z",
     "iopub.status.busy": "2023-03-23T10:11:13.952562Z",
     "iopub.status.idle": "2023-03-23T10:11:21.885573Z",
     "shell.execute_reply": "2023-03-23T10:11:21.884960Z",
     "shell.execute_reply.started": "2023-03-23T10:11:13.952800Z"
    },
    "id": "62AB47E89BCD412FA0438E644E9DF315",
    "jupyter": {
     "outputs_hidden": false
    },
    "notebookId": "641dabcafeb4fe02b2cd3ede",
    "scrolled": true,
    "slideshow": {
     "slide_type": "slide"
    },
    "tags": []
   },
   "outputs": [
    {
     "name": "stdout",
     "output_type": "stream",
     "text": [
      "[0.70183463 0.66761103 0.66101945 0.65732898 0.65360375]\n",
      "[0.57364886 0.61882339 0.62809368 0.63012866 0.63158596]\n"
     ]
    },
    {
     "data": {
      "text/plain": [
       "<module 'matplotlib.pyplot' from '/opt/conda/lib/python3.8/site-packages/matplotlib/pyplot.py'>"
      ]
     },
     "execution_count": 111,
     "metadata": {},
     "output_type": "execute_result"
    },
    {
     "data": {
      "text/html": [
       "<img src=\"https://cdn.kesci.com/upload/rt/62AB47E89BCD412FA0438E644E9DF315/rs13h9ymg1.png\">"
      ],
      "text/plain": [
       "<Figure size 432x288 with 1 Axes>"
      ]
     },
     "metadata": {
      "needs_background": "light"
     },
     "output_type": "display_data"
    }
   ],
   "source": [
    "# 线性回归模型学习曲线\n",
    "X = train_data.values\n",
    "y = train_target.values\n",
    " \n",
    "# 图一\n",
    "title = r\"LinearRegression\"\n",
    "cv = ShuffleSplit(n_splits=100, test_size=0.2, random_state=0)\n",
    "estimator = LinearRegression()    #建模\n",
    "plot_learning_curve(estimator, title, X, y, ylim=(0.5, 0.8), cv=cv, n_jobs=1)\n"
   ]
  },
  {
   "cell_type": "markdown",
   "metadata": {
    "id": "99A36C9A1ED0470CAE386171F3A9C01E",
    "jupyter": {},
    "notebookId": "641dabcafeb4fe02b2cd3ede",
    "runtime": {
     "execution_status": null,
     "status": "default"
    },
    "scrolled": false,
    "slideshow": {
     "slide_type": "slide"
    },
    "tags": []
   },
   "source": [
    "### 3.1.2 KNN近邻回归"
   ]
  },
  {
   "cell_type": "code",
   "execution_count": 112,
   "metadata": {
    "collapsed": false,
    "execution": {
     "iopub.execute_input": "2023-03-23T10:11:21.886676Z",
     "iopub.status.busy": "2023-03-23T10:11:21.886403Z",
     "iopub.status.idle": "2023-03-23T10:11:22.800721Z",
     "shell.execute_reply": "2023-03-23T10:11:22.799961Z",
     "shell.execute_reply.started": "2023-03-23T10:11:21.886653Z"
    },
    "id": "F6B8E9722DB94A2CB84165F3DB843843",
    "jupyter": {
     "outputs_hidden": false
    },
    "notebookId": "641dabcafeb4fe02b2cd3ede",
    "scrolled": true,
    "slideshow": {
     "slide_type": "slide"
    },
    "tags": []
   },
   "outputs": [
    {
     "name": "stdout",
     "output_type": "stream",
     "text": [
      "KNeighborsRegressor:    0.27619208861976163\n",
      "KNeighborsRegressor:    0.2597627823313149\n",
      "KNeighborsRegressor:    0.2628212724567474\n",
      "KNeighborsRegressor:    0.26670982271241833\n",
      "KNeighborsRegressor:    0.2659603905091448\n",
      "KNeighborsRegressor:    0.26353694644788067\n",
      "KNeighborsRegressor:    0.2673470579477979\n"
     ]
    }
   ],
   "source": [
    "for i in range(3,10):\n",
    "    clf = KNeighborsRegressor(n_neighbors=i) # 最近三个\n",
    "    clf.fit(train_data, train_target)\n",
    "    score = mean_squared_error(test_target, clf.predict(test_data))\n",
    "    print(\"KNeighborsRegressor:   \", score)\n"
   ]
  },
  {
   "cell_type": "code",
   "execution_count": 113,
   "metadata": {
    "collapsed": false,
    "execution": {
     "iopub.execute_input": "2023-03-23T10:11:22.801865Z",
     "iopub.status.busy": "2023-03-23T10:11:22.801587Z",
     "iopub.status.idle": "2023-03-23T10:11:22.804467Z",
     "shell.execute_reply": "2023-03-23T10:11:22.803929Z",
     "shell.execute_reply.started": "2023-03-23T10:11:22.801841Z"
    },
    "id": "C009D915D9A04B76BBE9FDAB6E0DECC3",
    "jupyter": {
     "outputs_hidden": false
    },
    "notebookId": "641dabcafeb4fe02b2cd3ede",
    "scrolled": true,
    "slideshow": {
     "slide_type": "slide"
    },
    "tags": []
   },
   "outputs": [],
   "source": [
    "# plot_learning_curve_old(KNeighborsRegressor(n_neighbors=5) , train_data, test_data, train_target, test_target)"
   ]
  },
  {
   "cell_type": "code",
   "execution_count": 114,
   "metadata": {
    "collapsed": false,
    "execution": {
     "iopub.execute_input": "2023-03-23T10:11:22.805491Z",
     "iopub.status.busy": "2023-03-23T10:11:22.805186Z",
     "iopub.status.idle": "2023-03-23T10:12:26.269423Z",
     "shell.execute_reply": "2023-03-23T10:12:26.268680Z",
     "shell.execute_reply.started": "2023-03-23T10:11:22.805471Z"
    },
    "id": "E1410A05CBB24DDD8AB1F56EB15EF47E",
    "jupyter": {
     "outputs_hidden": false
    },
    "notebookId": "641dabcafeb4fe02b2cd3ede",
    "scrolled": true,
    "slideshow": {
     "slide_type": "slide"
    },
    "tags": []
   },
   "outputs": [
    {
     "name": "stdout",
     "output_type": "stream",
     "text": [
      "[0.61581146 0.68763995 0.71414969 0.73084172 0.73976273]\n",
      "[0.50369207 0.58753672 0.61969929 0.64062459 0.6560054 ]\n"
     ]
    },
    {
     "data": {
      "text/plain": [
       "<module 'matplotlib.pyplot' from '/opt/conda/lib/python3.8/site-packages/matplotlib/pyplot.py'>"
      ]
     },
     "execution_count": 114,
     "metadata": {},
     "output_type": "execute_result"
    },
    {
     "data": {
      "text/html": [
       "<img src=\"https://cdn.kesci.com/upload/rt/E1410A05CBB24DDD8AB1F56EB15EF47E/rs13i0it25.png\">"
      ],
      "text/plain": [
       "<Figure size 432x288 with 1 Axes>"
      ]
     },
     "metadata": {
      "needs_background": "light"
     },
     "output_type": "display_data"
    }
   ],
   "source": [
    "# 绘制K近邻回归学习曲线\n",
    "X = train_data.values\n",
    "y = train_target.values\n",
    " \n",
    "# K近邻回归\n",
    "title = r\"KNeighborsRegressor\"\n",
    "cv = ShuffleSplit(n_splits=100, test_size=0.2, random_state=0)\n",
    "\n",
    "estimator = KNeighborsRegressor(n_neighbors=8)    #建模\n",
    "plot_learning_curve(estimator, title, X, y, ylim=(0.3, 0.9), cv=cv, n_jobs=1)"
   ]
  },
  {
   "cell_type": "markdown",
   "metadata": {
    "id": "1FFA8931218F4BBFB97CDCD7837CF2C2",
    "jupyter": {},
    "notebookId": "641dabcafeb4fe02b2cd3ede",
    "runtime": {
     "execution_status": null,
     "status": "default"
    },
    "scrolled": false,
    "slideshow": {
     "slide_type": "slide"
    },
    "tags": []
   },
   "source": [
    "### 3.1.3决策树回归"
   ]
  },
  {
   "cell_type": "code",
   "execution_count": 115,
   "metadata": {
    "collapsed": false,
    "execution": {
     "iopub.execute_input": "2023-03-23T10:12:26.270807Z",
     "iopub.status.busy": "2023-03-23T10:12:26.270511Z",
     "iopub.status.idle": "2023-03-23T10:12:26.323122Z",
     "shell.execute_reply": "2023-03-23T10:12:26.322584Z",
     "shell.execute_reply.started": "2023-03-23T10:12:26.270781Z"
    },
    "id": "C6A050156AB441ACB76424CAE71ADCA8",
    "jupyter": {
     "outputs_hidden": false
    },
    "notebookId": "641dabcafeb4fe02b2cd3ede",
    "scrolled": true,
    "slideshow": {
     "slide_type": "slide"
    },
    "tags": []
   },
   "outputs": [
    {
     "name": "stdout",
     "output_type": "stream",
     "text": [
      "DecisionTreeRegressor:    0.5822062214532872\n"
     ]
    }
   ],
   "source": [
    "clf = DecisionTreeRegressor() \n",
    "clf.fit(train_data, train_target)\n",
    "score = mean_squared_error(test_target, clf.predict(test_data))\n",
    "print(\"DecisionTreeRegressor:   \", score)"
   ]
  },
  {
   "cell_type": "code",
   "execution_count": 116,
   "metadata": {
    "collapsed": false,
    "execution": {
     "iopub.execute_input": "2023-03-23T10:12:26.324133Z",
     "iopub.status.busy": "2023-03-23T10:12:26.323833Z",
     "iopub.status.idle": "2023-03-23T10:12:26.326451Z",
     "shell.execute_reply": "2023-03-23T10:12:26.325946Z",
     "shell.execute_reply.started": "2023-03-23T10:12:26.324115Z"
    },
    "id": "1C79A0C9999F4352995B9D3535782158",
    "jupyter": {
     "outputs_hidden": false
    },
    "notebookId": "641dabcafeb4fe02b2cd3ede",
    "scrolled": true,
    "slideshow": {
     "slide_type": "slide"
    },
    "tags": []
   },
   "outputs": [],
   "source": [
    "# plot_learning_curve_old(DecisionTreeRegressor(), train_data, test_data, train_target, test_target)"
   ]
  },
  {
   "cell_type": "code",
   "execution_count": 117,
   "metadata": {
    "collapsed": false,
    "execution": {
     "iopub.execute_input": "2023-03-23T10:12:26.327415Z",
     "iopub.status.busy": "2023-03-23T10:12:26.327116Z",
     "iopub.status.idle": "2023-03-23T10:12:35.852624Z",
     "shell.execute_reply": "2023-03-23T10:12:35.852023Z",
     "shell.execute_reply.started": "2023-03-23T10:12:26.327396Z"
    },
    "id": "C62456E110A64440B8CE3002CED1D6DB",
    "jupyter": {
     "outputs_hidden": false
    },
    "notebookId": "641dabcafeb4fe02b2cd3ede",
    "scrolled": true,
    "slideshow": {
     "slide_type": "slide"
    },
    "tags": []
   },
   "outputs": [
    {
     "name": "stdout",
     "output_type": "stream",
     "text": [
      "[1. 1. 1. 1. 1.]\n",
      "[0.12528664 0.22710435 0.28498609 0.3083524  0.32542896]\n"
     ]
    },
    {
     "data": {
      "text/plain": [
       "<module 'matplotlib.pyplot' from '/opt/conda/lib/python3.8/site-packages/matplotlib/pyplot.py'>"
      ]
     },
     "execution_count": 117,
     "metadata": {},
     "output_type": "execute_result"
    },
    {
     "data": {
      "text/html": [
       "<img src=\"https://cdn.kesci.com/upload/rt/C62456E110A64440B8CE3002CED1D6DB/rs13i9wcxv.png\">"
      ],
      "text/plain": [
       "<Figure size 432x288 with 1 Axes>"
      ]
     },
     "metadata": {
      "needs_background": "light"
     },
     "output_type": "display_data"
    }
   ],
   "source": [
    "X = train_data.values\n",
    "y = train_target.values\n",
    " \n",
    "# 决策树回归\n",
    "title = r\"DecisionTreeRegressor\"\n",
    "cv = ShuffleSplit(n_splits=100, test_size=0.2, random_state=0)\n",
    "\n",
    "estimator = DecisionTreeRegressor()    #建模\n",
    "plot_learning_curve(estimator, title, X, y, ylim=(0.1, 1.3), cv=cv, n_jobs=1)"
   ]
  },
  {
   "cell_type": "markdown",
   "metadata": {
    "id": "0E377EA4575A49F697152765865E8E05",
    "jupyter": {},
    "notebookId": "641dabcafeb4fe02b2cd3ede",
    "runtime": {
     "execution_status": null,
     "status": "default"
    },
    "scrolled": false,
    "slideshow": {
     "slide_type": "slide"
    },
    "tags": []
   },
   "source": [
    "### 3.1.4 随机森林回归"
   ]
  },
  {
   "cell_type": "code",
   "execution_count": 118,
   "metadata": {
    "collapsed": false,
    "execution": {
     "iopub.execute_input": "2023-03-23T10:12:35.853733Z",
     "iopub.status.busy": "2023-03-23T10:12:35.853466Z",
     "iopub.status.idle": "2023-03-23T10:12:41.347555Z",
     "shell.execute_reply": "2023-03-23T10:12:41.346923Z",
     "shell.execute_reply.started": "2023-03-23T10:12:35.853711Z"
    },
    "id": "F5D026CF375F4B82BC05BA0CE3A2D3AA",
    "jupyter": {
     "outputs_hidden": false
    },
    "notebookId": "641dabcafeb4fe02b2cd3ede",
    "scrolled": true,
    "slideshow": {
     "slide_type": "slide"
    },
    "tags": []
   },
   "outputs": [
    {
     "name": "stdout",
     "output_type": "stream",
     "text": [
      "RandomForestRegressor:    0.25279029909628026\n"
     ]
    }
   ],
   "source": [
    "clf = RandomForestRegressor(n_estimators=200) # 200棵树模型\n",
    "clf.fit(train_data, train_target)\n",
    "score = mean_squared_error(test_target, clf.predict(test_data))\n",
    "print(\"RandomForestRegressor:   \", score)\n",
    "# plot_learning_curve_old(RandomForestRegressor(n_estimators=200), train_data, test_data, train_target, test_target)"
   ]
  },
  {
   "cell_type": "code",
   "execution_count": 119,
   "metadata": {
    "collapsed": false,
    "execution": {
     "iopub.execute_input": "2023-03-23T10:12:41.348625Z",
     "iopub.status.busy": "2023-03-23T10:12:41.348356Z",
     "iopub.status.idle": "2023-03-23T10:31:12.745475Z",
     "shell.execute_reply": "2023-03-23T10:31:12.744766Z",
     "shell.execute_reply.started": "2023-03-23T10:12:41.348603Z"
    },
    "id": "3E27F7EA0EB24412842713CB2F96AE7D",
    "jupyter": {
     "outputs_hidden": false
    },
    "notebookId": "641dabcafeb4fe02b2cd3ede",
    "scrolled": true,
    "slideshow": {
     "slide_type": "slide"
    },
    "tags": []
   },
   "outputs": [
    {
     "name": "stdout",
     "output_type": "stream",
     "text": [
      "[0.93611375 0.94777177 0.95186888 0.95425969 0.95565153]\n",
      "[0.53959239 0.61500084 0.64318313 0.65955004 0.67291234]\n"
     ]
    },
    {
     "data": {
      "text/plain": [
       "<module 'matplotlib.pyplot' from '/opt/conda/lib/python3.8/site-packages/matplotlib/pyplot.py'>"
      ]
     },
     "execution_count": 119,
     "metadata": {},
     "output_type": "execute_result"
    },
    {
     "data": {
      "text/html": [
       "<img src=\"https://cdn.kesci.com/upload/rt/3E27F7EA0EB24412842713CB2F96AE7D/rs14csx9v1.png\">"
      ],
      "text/plain": [
       "<Figure size 432x288 with 1 Axes>"
      ]
     },
     "metadata": {
      "needs_background": "light"
     },
     "output_type": "display_data"
    }
   ],
   "source": [
    "X = train_data.values\n",
    "y = train_target.values\n",
    " \n",
    "# 随机森林\n",
    "title = r\"RandomForestRegressor\"\n",
    "cv = ShuffleSplit(n_splits=100, test_size=0.2, random_state=0)\n",
    "\n",
    "estimator = RandomForestRegressor(n_estimators=200)    #建模\n",
    "plot_learning_curve(estimator, title, X, y, ylim=(0.4, 1.0), cv=cv, n_jobs=1)"
   ]
  },
  {
   "cell_type": "markdown",
   "metadata": {
    "id": "4CB2729AE085451F9AC2DD905A0F317D",
    "jupyter": {},
    "notebookId": "641dabcafeb4fe02b2cd3ede",
    "runtime": {
     "execution_status": null,
     "status": "default"
    },
    "scrolled": false,
    "slideshow": {
     "slide_type": "slide"
    },
    "tags": []
   },
   "source": [
    "### 3.1.5 Gradient Boosting"
   ]
  },
  {
   "cell_type": "code",
   "execution_count": 120,
   "metadata": {
    "collapsed": false,
    "execution": {
     "iopub.execute_input": "2023-03-23T11:16:46.993332Z",
     "iopub.status.busy": "2023-03-23T11:16:46.992732Z",
     "iopub.status.idle": "2023-03-23T11:16:47.495057Z",
     "shell.execute_reply": "2023-03-23T11:16:47.494216Z",
     "shell.execute_reply.started": "2023-03-23T11:16:46.993171Z"
    },
    "id": "7E8228EB802644EAAD93FC44D56ABEAE",
    "jupyter": {
     "outputs_hidden": false
    },
    "notebookId": "641dabcafeb4fe02b2cd3ede",
    "scrolled": true,
    "slideshow": {
     "slide_type": "slide"
    },
    "tags": []
   },
   "outputs": [
    {
     "name": "stdout",
     "output_type": "stream",
     "text": [
      "GradientBoostingRegressor:    0.25279029909628026\n"
     ]
    }
   ],
   "source": [
    "from sklearn.ensemble import GradientBoostingRegressor\n",
    "\n",
    "myGBR = GradientBoostingRegressor(alpha=0.9, criterion='friedman_mse', init=None,\n",
    "                                  learning_rate=0.03, loss='huber', max_depth=14,\n",
    "                                  max_features='sqrt', max_leaf_nodes=None,\n",
    "                                  min_impurity_decrease=0.0, min_impurity_split=None,\n",
    "                                  min_samples_leaf=10, min_samples_split=40,\n",
    "                                  min_weight_fraction_leaf=0.0, n_estimators=10,\n",
    "                                  warm_start=False)\n",
    "# 参数已删除 presort=True, random_state=10, subsample=0.8, verbose=0,\n",
    "\n",
    "myGBR.fit(train_data, train_target)\n",
    "score = mean_squared_error(test_target, clf.predict(test_data))\n",
    "print(\"GradientBoostingRegressor:   \", score)\n",
    "\n",
    "\n",
    "myGBR = GradientBoostingRegressor(alpha=0.9, criterion='friedman_mse', init=None,\n",
    "                                  learning_rate=0.03, loss='huber', max_depth=14,\n",
    "                                  max_features='sqrt', max_leaf_nodes=None,\n",
    "                                  min_impurity_decrease=0.0, min_impurity_split=None,\n",
    "                                  min_samples_leaf=10, min_samples_split=40,\n",
    "                                  min_weight_fraction_leaf=0.0, n_estimators=100,\n",
    "                                  warm_start=False)\n",
    "#为了快速展示n_estimators设置较小，实战中请按需设置\n",
    "\n",
    "# plot_learning_curve_old(myGBR, train_data, test_data, train_target, test_target)\n"
   ]
  },
  {
   "cell_type": "code",
   "execution_count": 121,
   "metadata": {
    "collapsed": false,
    "execution": {
     "iopub.status.busy": "2023-03-23T11:16:43.276082Z",
     "iopub.status.idle": "2023-03-23T11:16:43.276721Z",
     "shell.execute_reply": "2023-03-23T11:16:43.276580Z",
     "shell.execute_reply.started": "2023-03-23T11:16:43.276565Z"
    },
    "id": "BBCDE3E427BB466BA4A8D2059C268ED5",
    "jupyter": {
     "outputs_hidden": false
    },
    "notebookId": "641dabcafeb4fe02b2cd3ede",
    "scrolled": true,
    "slideshow": {
     "slide_type": "slide"
    },
    "tags": []
   },
   "outputs": [
    {
     "name": "stdout",
     "output_type": "stream",
     "text": [
      "[0.20431781 0.24505575 0.2630252  0.26761038 0.27680305]\n",
      "[0.1261004  0.17984045 0.20421963 0.21048186 0.21964383]\n"
     ]
    },
    {
     "data": {
      "text/plain": [
       "<module 'matplotlib.pyplot' from '/opt/conda/lib/python3.8/site-packages/matplotlib/pyplot.py'>"
      ]
     },
     "execution_count": 121,
     "metadata": {},
     "output_type": "execute_result"
    },
    {
     "data": {
      "text/html": [
       "<img src=\"https://cdn.kesci.com/upload/rt/BBCDE3E427BB466BA4A8D2059C268ED5/rs14cx6evb.png\">"
      ],
      "text/plain": [
       "<Figure size 432x288 with 1 Axes>"
      ]
     },
     "metadata": {
      "needs_background": "light"
     },
     "output_type": "display_data"
    }
   ],
   "source": [
    "X = train_data.values\n",
    "y = train_target.values\n",
    " \n",
    "# GradientBoosting\n",
    "title = r\"GradientBoostingRegressor\"\n",
    "cv = ShuffleSplit(n_splits=10, test_size=0.2, random_state=0)\n",
    "\n",
    "estimator = GradientBoostingRegressor(alpha=0.9, criterion='friedman_mse', init=None,\n",
    "                                  learning_rate=0.03, loss='huber', max_depth=14,\n",
    "                                  max_features='sqrt', max_leaf_nodes=None,\n",
    "                                  min_impurity_decrease=0.0, min_impurity_split=None,\n",
    "                                  min_samples_leaf=10, min_samples_split=40,\n",
    "                                  min_weight_fraction_leaf=0.0, n_estimators=100,\n",
    "                                  warm_start=False)  #建模\n",
    "\n",
    "plot_learning_curve(estimator, title, X, y, ylim=(0.4, 1.0), cv=cv, n_jobs=1)\n",
    "\n",
    "#为了快速展示n_estimators设置较小，实战中请按需设置"
   ]
  },
  {
   "cell_type": "markdown",
   "metadata": {
    "id": "4D74D256AC004EB7A4B7131C6E16DCE8",
    "jupyter": {},
    "notebookId": "641dabcafeb4fe02b2cd3ede",
    "runtime": {
     "execution_status": null,
     "status": "default"
    },
    "scrolled": false,
    "slideshow": {
     "slide_type": "slide"
    },
    "tags": []
   },
   "source": [
    "### 3.1.6 lightgbm回归"
   ]
  },
  {
   "cell_type": "code",
   "execution_count": 122,
   "metadata": {
    "collapsed": false,
    "execution": {
     "iopub.execute_input": "2023-03-23T11:05:25.885846Z",
     "iopub.status.busy": "2023-03-23T11:05:25.885429Z",
     "iopub.status.idle": "2023-03-23T11:05:55.293172Z",
     "shell.execute_reply": "2023-03-23T11:05:55.196674Z",
     "shell.execute_reply.started": "2023-03-23T11:05:25.885812Z"
    },
    "id": "38579A65A2BE41DA85B984175EC5E13C",
    "jupyter": {
     "outputs_hidden": false
    },
    "notebookId": "641dabcafeb4fe02b2cd3ede",
    "scrolled": true,
    "slideshow": {
     "slide_type": "slide"
    },
    "tags": []
   },
   "outputs": [
    {
     "name": "stdout",
     "output_type": "stream",
     "text": [
      "lightGbm:    0.906640574789251\n"
     ]
    }
   ],
   "source": [
    "# lgb回归模型\n",
    "clf = lgb.LGBMRegressor(\n",
    "        learning_rate=0.01,\n",
    "        max_depth=-1,\n",
    "        n_estimators=100,\n",
    "        boosting_type='gbdt',\n",
    "        random_state=2019,\n",
    "        objective='regression',\n",
    "    )\n",
    "# #为了快速展示n_estimators设置较小，实战中请按需设置\n",
    "# 训练模型\n",
    "clf.fit(\n",
    "        X=train_data, y=train_target,\n",
    "        eval_metric='MSE',\n",
    "        verbose=50\n",
    "    )\n",
    "\n",
    "score = mean_squared_error(test_target, clf.predict(test_data))\n",
    "print(\"lightGbm:   \", score)"
   ]
  },
  {
   "cell_type": "code",
   "execution_count": 123,
   "metadata": {
    "collapsed": false,
    "id": "863457BCE2634308AF9990157CB052C0",
    "jupyter": {
     "outputs_hidden": false
    },
    "notebookId": "641dabcafeb4fe02b2cd3ede",
    "scrolled": true,
    "slideshow": {
     "slide_type": "slide"
    },
    "tags": []
   },
   "outputs": [
    {
     "name": "stdout",
     "output_type": "stream",
     "text": [
      "[0.10738031 0.12154382 0.12484799 0.12323694 0.12058531]\n",
      "[0.07775403 0.09878696 0.10376127 0.10468155 0.10415114]\n"
     ]
    },
    {
     "data": {
      "text/plain": [
       "<module 'matplotlib.pyplot' from '/opt/conda/lib/python3.8/site-packages/matplotlib/pyplot.py'>"
      ]
     },
     "execution_count": 123,
     "metadata": {},
     "output_type": "execute_result"
    },
    {
     "data": {
      "text/html": [
       "<img src=\"https://cdn.kesci.com/upload/rt/863457BCE2634308AF9990157CB052C0/rs14d9jxr7.png\">"
      ],
      "text/plain": [
       "<Figure size 432x288 with 1 Axes>"
      ]
     },
     "metadata": {
      "needs_background": "light"
     },
     "output_type": "display_data"
    }
   ],
   "source": [
    "X = train_data.values\n",
    "y = train_target.values\n",
    " \n",
    "# LGBM\n",
    "title = r\"LGBMRegressor\"\n",
    "cv = ShuffleSplit(n_splits=10, test_size=0.2, random_state=0)\n",
    "\n",
    "estimator = lgb.LGBMRegressor(\n",
    "    learning_rate=0.01,\n",
    "    max_depth=-1,\n",
    "    n_estimators=100,\n",
    "    boosting_type='gbdt',\n",
    "    random_state=2019,\n",
    "    objective='regression'\n",
    "    )    #建模\n",
    "\n",
    "plot_learning_curve(estimator, title, X, y, ylim=(0.4, 1.0), cv=cv, n_jobs=1)\n",
    "\n",
    "#为了快速展示n_estimators设置较小，实战中请按需设置"
   ]
  },
  {
   "cell_type": "markdown",
   "metadata": {
    "id": "1AC9E78E932E4784A0428BEFDDEEBD13",
    "jupyter": {},
    "notebookId": "641dabcafeb4fe02b2cd3ede",
    "runtime": {
     "execution_status": null,
     "status": "default"
    },
    "scrolled": false,
    "slideshow": {
     "slide_type": "slide"
    },
    "tags": []
   },
   "source": [
    "# 4.篇中总结  \n",
    "\n",
    "\n",
    "在工业蒸汽量预测上篇中，主要讲解了数据探索性分析：查看变量间相关性以及找出关键变量；数据特征工程对数据精进：异常值处理、归一化处理以及特征降维；在进行归回模型训练涉及主流ML模型：决策树、随机森林，lightgbm等。下一篇中将着重讲解模型验证、特征优化、模型融合等。  \n",
    "\n",
    "\n",
    "参考链接：https://tianchi.aliyun.com/course/278/3427  \n",
    "\n",
    "\n",
    "更多内容请关注公重号：汀丶人工智能  \n",
    "\n",
    "![](https://ai-studio-static-online.cdn.bcebos.com/1b94255424df4781a5000f8dea01cadc7d5e8f1ef1c04f92a5c700aaeea17ecc)  \n",
    "\n",
    "\n",
    "\n"
   ]
  },
  {
   "cell_type": "code",
   "execution_count": null,
   "metadata": {
    "collapsed": false,
    "id": "2A2F5B7CE68F4453ACA0C6B537A65966",
    "jupyter": {
     "outputs_hidden": false
    },
    "notebookId": "641dabcafeb4fe02b2cd3ede",
    "slideshow": {
     "slide_type": "slide"
    },
    "tags": []
   },
   "outputs": [],
   "source": []
  }
 ],
 "metadata": {
  "kernelspec": {
   "display_name": "Python 3 (ipykernel)",
   "language": "python",
   "name": "python3"
  },
  "language_info": {
   "codemirror_mode": {
    "name": "ipython",
    "version": 3
   },
   "file_extension": ".py",
   "mimetype": "text/x-python",
   "name": "python",
   "nbconvert_exporter": "python",
   "pygments_lexer": "ipython3",
   "version": "3.11.2"
  }
 },
 "nbformat": 4,
 "nbformat_minor": 4
}
